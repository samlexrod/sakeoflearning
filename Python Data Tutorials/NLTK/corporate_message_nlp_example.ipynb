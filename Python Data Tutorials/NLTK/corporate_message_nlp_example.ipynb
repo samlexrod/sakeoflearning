{
 "cells": [
  {
   "cell_type": "markdown",
   "metadata": {},
   "source": [
    "# Imports Always First"
   ]
  },
  {
   "cell_type": "code",
   "execution_count": 125,
   "metadata": {},
   "outputs": [],
   "source": [
    "import nltk\n",
    "import pandas as pd\n",
    "import os\n",
    "import numpy as np\n",
    "from encodings.aliases import aliases\n",
    "import chardet\n",
    "import re\n",
    "from nltk.tokenize import word_tokenize\n",
    "from nltk.stem.wordnet import WordNetLemmatizer\n",
    "from sklearn.model_selection import train_test_split"
   ]
  },
  {
   "cell_type": "markdown",
   "metadata": {},
   "source": [
    "# Download Nessessary Files"
   ]
  },
  {
   "cell_type": "code",
   "execution_count": 15,
   "metadata": {},
   "outputs": [
    {
     "name": "stderr",
     "output_type": "stream",
     "text": [
      "[nltk_data] Downloading package punkt to\n",
      "[nltk_data]     C:\\Users\\sammy\\AppData\\Roaming\\nltk_data...\n",
      "[nltk_data]   Package punkt is already up-to-date!\n",
      "[nltk_data] Downloading package wordnet to\n",
      "[nltk_data]     C:\\Users\\sammy\\AppData\\Roaming\\nltk_data...\n",
      "[nltk_data]   Package wordnet is already up-to-date!\n"
     ]
    },
    {
     "data": {
      "text/plain": [
       "True"
      ]
     },
     "execution_count": 15,
     "metadata": {},
     "output_type": "execute_result"
    }
   ],
   "source": [
    "nltk.download(['punkt', 'wordnet'])"
   ]
  },
  {
   "cell_type": "markdown",
   "metadata": {},
   "source": [
    "# Figure Eight Data"
   ]
  },
  {
   "cell_type": "markdown",
   "metadata": {},
   "source": [
    "This data was provided by Figure 8 on a Attribution 4.0 International license:\n",
    "    https://creativecommons.org/licenses/by/4.0/\n",
    "    \n",
    "The data can be retreived here: https://www.figure-eight.com/data-for-everyone/"
   ]
  },
  {
   "cell_type": "code",
   "execution_count": 14,
   "metadata": {},
   "outputs": [
    {
     "name": "stdout",
     "output_type": "stream",
     "text": [
      "Corporate-messaging-DFE.csv\n"
     ]
    }
   ],
   "source": [
    "csv_filename = [x for x in os.listdir() if '.csv' in x][0]\n",
    "print(csv_filename)"
   ]
  },
  {
   "cell_type": "markdown",
   "metadata": {},
   "source": [
    "# Extract Data"
   ]
  },
  {
   "cell_type": "markdown",
   "metadata": {},
   "source": [
    "## Using Chardet"
   ]
  },
  {
   "cell_type": "code",
   "execution_count": 37,
   "metadata": {},
   "outputs": [
    {
     "name": "stdout",
     "output_type": "stream",
     "text": [
      "{'encoding': 'Windows-1254', 'confidence': 0.456508447473103, 'language': 'Turkish'}\n"
     ]
    }
   ],
   "source": [
    "with open('Corporate-messaging-DFE.csv', 'rb') as file:\n",
    "    encoding_dict = chardet.detect(file.read())\n",
    "print(encoding_dict)"
   ]
  },
  {
   "cell_type": "markdown",
   "metadata": {},
   "source": [
    "## Looping Encoding Aliases"
   ]
  },
  {
   "cell_type": "code",
   "execution_count": 50,
   "metadata": {},
   "outputs": [],
   "source": [
    "def extract_enc_data(document_name):\n",
    "    encoder_list = list(set(aliases.values()))\n",
    "    for encoder in encoder_list:\n",
    "        try:\n",
    "            return pd.read_csv('Corporate-messaging-DFE.csv', encoding=encoder)\n",
    "            print(f\"The first succesful encoding was {encoder}.\")\n",
    "            break\n",
    "        except:\n",
    "            pass"
   ]
  },
  {
   "cell_type": "code",
   "execution_count": 53,
   "metadata": {},
   "outputs": [],
   "source": [
    "df = extract_enc_data('Corporate-messaging-DFE.csv')"
   ]
  },
  {
   "cell_type": "markdown",
   "metadata": {},
   "source": [
    "# Preparing Data"
   ]
  },
  {
   "cell_type": "markdown",
   "metadata": {},
   "source": [
    "## Extracting Labels and Messages"
   ]
  },
  {
   "cell_type": "code",
   "execution_count": 105,
   "metadata": {},
   "outputs": [
    {
     "data": {
      "text/plain": [
       "(array(['barclays ceo stresses the importance of regulatory and cultural reform in financial services at brussels conference  http://t.co/ge9lp7hpyg',\n",
       "        'barclays announces result of rights issue http://t.co/lbiqqh3wwg',\n",
       "        'barclays publishes its prospectus for its õú5.8bn rights issue: http://t.co/yzk24ie8g6',\n",
       "        ...,\n",
       "        'we╠óëô┬ëòóre working hard to do all we can to promote healthier lifestyles and diets for kids http://t.co/hw8oihymai',\n",
       "        'yesterday, these #healthykids lit up broadway with #nestle, @iaaforg and some sporting stars: http://t.co/ydtbj60ofz',\n",
       "        'z bhutta: problems with food&amp;land systems include land acquistion, commodity speculation affecting food prices&amp;lack of discussion #nins2013'],\n",
       "       dtype=object),\n",
       " array(['Information', 'Information', 'Information', ..., 'Information',\n",
       "        'Information', 'Information'], dtype=object))"
      ]
     },
     "execution_count": 105,
     "metadata": {},
     "output_type": "execute_result"
    }
   ],
   "source": [
    "df = df[(df['category:confidence'] == 1) & (df.category != 'Exclude')]\n",
    "X = df.text.str.lower().values\n",
    "y = df.category.values\n",
    "\n",
    "X, y"
   ]
  },
  {
   "cell_type": "markdown",
   "metadata": {},
   "source": [
    "## Extracting Urls from Text"
   ]
  },
  {
   "cell_type": "code",
   "execution_count": 106,
   "metadata": {},
   "outputs": [],
   "source": [
    "url_regex = 'http[s]?://(?:[a-zA-Z]|[0-9]|[$-_@.&+]|[!*\\(\\),]|(?:%[0-9a-fA-F][0-9a-fA-F]))+'"
   ]
  },
  {
   "cell_type": "code",
   "execution_count": 123,
   "metadata": {},
   "outputs": [],
   "source": [
    "def extract_url(message):\n",
    "    detected_urls = re.findall(url_regex, message)\n",
    "    \n",
    "    return detected_urls"
   ]
  },
  {
   "cell_type": "markdown",
   "metadata": {},
   "source": [
    "## Tokenazing and Lemmatizing"
   ]
  },
  {
   "cell_type": "code",
   "execution_count": 127,
   "metadata": {
    "scrolled": false
   },
   "outputs": [
    {
     "name": "stdout",
     "output_type": "stream",
     "text": [
      "barclays ceo stresses the importance of regulatory and cultural reform in financial services at brussels conference  http://t.co/ge9lp7hpyg\n",
      "['barclays', 'ceo', 'stress', 'the', 'importance', 'of', 'regulatory', 'and', 'cultural', 'reform', 'in', 'financial', 'service', 'at', 'brussels', 'conference', 'placeholder'] \n",
      "\n",
      "barclays announces result of rights issue http://t.co/lbiqqh3wwg\n",
      "['barclays', 'announces', 'result', 'of', 'right', 'issue', 'placeholder'] \n",
      "\n",
      "barclays publishes its prospectus for its õú5.8bn rights issue: http://t.co/yzk24ie8g6\n",
      "['barclays', 'publishes', 'it', 'prospectus', 'for', 'it', 'õú5.8bn', 'right', 'issue', ':', 'placeholder'] \n",
      "\n",
      "barclays group finance director chris lucas is to step down at the end of the week due to ill health http://t.co/nkuhoafnsd\n",
      "['barclays', 'group', 'finance', 'director', 'chris', 'lucas', 'is', 'to', 'step', 'down', 'at', 'the', 'end', 'of', 'the', 'week', 'due', 'to', 'ill', 'health', 'placeholder'] \n",
      "\n",
      "barclays announces that irene mcdermott brown has been appointed as group human resources director http://t.co/c3fngy6nmt\n",
      "['barclays', 'announces', 'that', 'irene', 'mcdermott', 'brown', 'ha', 'been', 'appointed', 'a', 'group', 'human', 'resource', 'director', 'placeholder'] \n",
      "\n"
     ]
    }
   ],
   "source": [
    "for i, message in enumerate(X):   \n",
    "    \n",
    "    message_original = message\n",
    "\n",
    "    for url in extract_url(message):\n",
    "        message = message.replace(url, 'placeholder')        \n",
    "        \n",
    "    # Tokenizing\n",
    "    tokens = word_tokenize(message)\n",
    "    \n",
    "    # Lemmatizing\n",
    "    lemmatizer = WordNetLemmatizer()    \n",
    "    clean_tokens = []\n",
    "    for token in tokens:\n",
    "        lemma = lemmatizer.lemmatize(token).strip()\n",
    "        clean_tokens.append(lemma)\n",
    "    \n",
    "    print(message_original)\n",
    "    print(clean_tokens, '\\n')\n",
    "    \n",
    "    if i > 3: break"
   ]
  },
  {
   "cell_type": "markdown",
   "metadata": {},
   "source": [
    "# Machine Learning Portion"
   ]
  },
  {
   "cell_type": "code",
   "execution_count": null,
   "metadata": {},
   "outputs": [],
   "source": []
  }
 ],
 "metadata": {
  "hide_input": false,
  "kernelspec": {
   "display_name": "Python 3",
   "language": "python",
   "name": "python3"
  },
  "language_info": {
   "codemirror_mode": {
    "name": "ipython",
    "version": 3
   },
   "file_extension": ".py",
   "mimetype": "text/x-python",
   "name": "python",
   "nbconvert_exporter": "python",
   "pygments_lexer": "ipython3",
   "version": "3.7.1"
  },
  "toc": {
   "base_numbering": 1,
   "nav_menu": {},
   "number_sections": true,
   "sideBar": true,
   "skip_h1_title": false,
   "title_cell": "Table of Contents",
   "title_sidebar": "Contents",
   "toc_cell": false,
   "toc_position": {},
   "toc_section_display": true,
   "toc_window_display": false
  },
  "varInspector": {
   "cols": {
    "lenName": 16,
    "lenType": 16,
    "lenVar": 40
   },
   "kernels_config": {
    "python": {
     "delete_cmd_postfix": "",
     "delete_cmd_prefix": "del ",
     "library": "var_list.py",
     "varRefreshCmd": "print(var_dic_list())"
    },
    "r": {
     "delete_cmd_postfix": ") ",
     "delete_cmd_prefix": "rm(",
     "library": "var_list.r",
     "varRefreshCmd": "cat(var_dic_list()) "
    }
   },
   "types_to_exclude": [
    "module",
    "function",
    "builtin_function_or_method",
    "instance",
    "_Feature"
   ],
   "window_display": false
  }
 },
 "nbformat": 4,
 "nbformat_minor": 2
}
