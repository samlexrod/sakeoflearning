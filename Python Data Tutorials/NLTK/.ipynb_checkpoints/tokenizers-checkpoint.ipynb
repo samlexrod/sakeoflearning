{
 "cells": [
  {
   "cell_type": "markdown",
   "metadata": {},
   "source": [
    "# Imports Awlays First"
   ]
  },
  {
   "cell_type": "code",
   "execution_count": 2,
   "metadata": {},
   "outputs": [],
   "source": [
    "from nltk.tokenize import word_tokenize\n",
    "from nltk.tokenize import sent_tokenize\n",
    "import nltk"
   ]
  },
  {
   "attachments": {
    "image.png": {
     "image/png": "[encoded data removed]"
    }
   },
   "cell_type": "markdown",
   "metadata": {},
   "source": [
    "## Downloading Dependency\n",
    "The tokenizers use **tokenizer = load('tokenizers/punkt/{0}.pickle'.format(language))** where 0 is the language of preference. \n",
    "Not having the tokenizer files in C:\\Users\\{user_name}\\AppData\\Roaming\\nltk_data\\tokenizers will raise an error.\n",
    "\n",
    "We must download the file and unzip it into the path.\n",
    "\n",
    "There are two options:\n",
    "\n",
    "Manual:\n",
    "- Just in case there is no access to the internet in an isolated virtual environment, we can download the zip file by going to: http://www.nltk.org/nltk_data/. In there look for the file named Punkt Tokenizer Models.\n",
    "\n",
    "![image.png](attachment:image.png)\n",
    "\n",
    "NLTK Download:\n",
    "- Use the nltk.downlad('punkt') method to get it.\n",
    "\n"
   ]
  },
  {
   "cell_type": "code",
   "execution_count": 3,
   "metadata": {},
   "outputs": [
    {
     "name": "stderr",
     "output_type": "stream",
     "text": [
      "[nltk_data] Downloading package punkt to\n",
      "[nltk_data]     C:\\Users\\sammy\\AppData\\Roaming\\nltk_data...\n",
      "[nltk_data]   Package punkt is already up-to-date!\n"
     ]
    },
    {
     "data": {
      "text/plain": [
       "True"
      ]
     },
     "execution_count": 3,
     "metadata": {},
     "output_type": "execute_result"
    }
   ],
   "source": [
    "nltk.download('punkt')"
   ]
  },
  {
   "cell_type": "markdown",
   "metadata": {},
   "source": [
    "# Text to Tokenize Example"
   ]
  },
  {
   "cell_type": "code",
   "execution_count": 4,
   "metadata": {},
   "outputs": [
    {
     "name": "stdout",
     "output_type": "stream",
     "text": [
      "Wikipedia is a multilingual online encyclopedia with exclusively free content and no ads, based on open collaboration through a model of content editing using web-based applications such as web browsers, called wiki. It is the largest and most popular general reference work on the World Wide Web, and is one of the most popular websites by Alexa rank as of April 2019. It is owned and supported by the Wikimedia Foundation, a non-profit organization that operates on money it receives from donors to remain ad free.\n"
     ]
    }
   ],
   "source": [
    "text = \"Wikipedia is a multilingual online encyclopedia with exclusively free content and no ads, based on open collaboration through a model of content editing using web-based applications such as web browsers, called wiki. It is the largest and most popular general reference work on the World Wide Web, and is one of the most popular websites by Alexa rank as of April 2019. It is owned and supported by the Wikimedia Foundation, a non-profit organization that operates on money it receives from donors to remain ad free.\"\n",
    "print(text)"
   ]
  },
  {
   "cell_type": "markdown",
   "metadata": {},
   "source": [
    "# NLTK Tokenizers"
   ]
  },
  {
   "cell_type": "markdown",
   "metadata": {},
   "source": [
    "## Word Tokenizer\n",
    "Tokenizes word by word, looking for spaces to tokenize."
   ]
  },
  {
   "cell_type": "code",
   "execution_count": 5,
   "metadata": {},
   "outputs": [
    {
     "name": "stdout",
     "output_type": "stream",
     "text": [
      "['Wikipedia', 'is', 'a', 'multilingual', 'online', 'encyclopedia', 'with', 'exclusively', 'free', 'content', 'and', 'no', 'ads', ',', 'based', 'on', 'open', 'collaboration', 'through', 'a', 'model', 'of', 'content', 'editing', 'using', 'web-based', 'applications', 'such', 'as', 'web', 'browsers', ',', 'called', 'wiki', '.', 'It', 'is', 'the', 'largest', 'and', 'most', 'popular', 'general', 'reference', 'work', 'on', 'the', 'World', 'Wide', 'Web', ',', 'and', 'is', 'one', 'of', 'the', 'most', 'popular', 'websites', 'by', 'Alexa', 'rank', 'as', 'of', 'April', '2019', '.', 'It', 'is', 'owned', 'and', 'supported', 'by', 'the', 'Wikimedia', 'Foundation', ',', 'a', 'non-profit', 'organization', 'that', 'operates', 'on', 'money', 'it', 'receives', 'from', 'donors', 'to', 'remain', 'ad', 'free', '.']\n"
     ]
    }
   ],
   "source": [
    "print(word_tokenize(text))"
   ]
  },
  {
   "cell_type": "markdown",
   "metadata": {},
   "source": [
    "## Sent Tokenizer\n",
    "Tokenizes sentence by sentence, looking for periods to tokenize."
   ]
  },
  {
   "cell_type": "code",
   "execution_count": 6,
   "metadata": {},
   "outputs": [
    {
     "name": "stdout",
     "output_type": "stream",
     "text": [
      "['Wikipedia is a multilingual online encyclopedia with exclusively free content and no ads, based on open collaboration through a model of content editing using web-based applications such as web browsers, called wiki.', 'It is the largest and most popular general reference work on the World Wide Web, and is one of the most popular websites by Alexa rank as of April 2019.', 'It is owned and supported by the Wikimedia Foundation, a non-profit organization that operates on money it receives from donors to remain ad free.']\n"
     ]
    }
   ],
   "source": [
    "print(sent_tokenize(text))"
   ]
  }
 ],
 "metadata": {
  "hide_input": false,
  "kernelspec": {
   "display_name": "Python 3",
   "language": "python",
   "name": "python3"
  },
  "language_info": {
   "codemirror_mode": {
    "name": "ipython",
    "version": 3
   },
   "file_extension": ".py",
   "mimetype": "text/x-python",
   "name": "python",
   "nbconvert_exporter": "python",
   "pygments_lexer": "ipython3",
   "version": "3.7.1"
  },
  "toc": {
   "base_numbering": 1,
   "nav_menu": {},
   "number_sections": true,
   "sideBar": true,
   "skip_h1_title": false,
   "title_cell": "Table of Contents",
   "title_sidebar": "Contents",
   "toc_cell": false,
   "toc_position": {},
   "toc_section_display": true,
   "toc_window_display": false
  },
  "varInspector": {
   "cols": {
    "lenName": 16,
    "lenType": 16,
    "lenVar": 40
   },
   "kernels_config": {
    "python": {
     "delete_cmd_postfix": "",
     "delete_cmd_prefix": "del ",
     "library": "var_list.py",
     "varRefreshCmd": "print(var_dic_list())"
    },
    "r": {
     "delete_cmd_postfix": ") ",
     "delete_cmd_prefix": "rm(",
     "library": "var_list.r",
     "varRefreshCmd": "cat(var_dic_list()) "
    }
   },
   "types_to_exclude": [
    "module",
    "function",
    "builtin_function_or_method",
    "instance",
    "_Feature"
   ],
   "window_display": false
  }
 },
 "nbformat": 4,
 "nbformat_minor": 2
}
