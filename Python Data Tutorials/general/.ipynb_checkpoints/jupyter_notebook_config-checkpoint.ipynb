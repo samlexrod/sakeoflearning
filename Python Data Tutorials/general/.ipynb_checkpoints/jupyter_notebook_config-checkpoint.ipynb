{
 "cells": [
  {
   "cell_type": "code",
   "execution_count": 1,
   "metadata": {},
   "outputs": [],
   "source": [
    "import os\n",
    "import getpass"
   ]
  },
  {
   "cell_type": "markdown",
   "metadata": {},
   "source": [
    "## Generate Config File"
   ]
  },
  {
   "cell_type": "code",
   "execution_count": 2,
   "metadata": {},
   "outputs": [
    {
     "data": {
      "text/plain": [
       "'C:\\\\Users\\\\sammy\\\\.jupyter\\\\jupyter_notebook_config.py'"
      ]
     },
     "execution_count": 2,
     "metadata": {},
     "output_type": "execute_result"
    }
   ],
   "source": [
    "os.system('jupyter notebook --generate-config')\n",
    "user = getpass.getuser()\n",
    "jup_filepathname = rf\"C:\\Users\\{user}\\.jupyter\\jupyter_notebook_config.py\"\n",
    "jup_filepathname"
   ]
  },
  {
   "cell_type": "markdown",
   "metadata": {},
   "source": [
    "## Open Directory of File"
   ]
  },
  {
   "cell_type": "code",
   "execution_count": 3,
   "metadata": {},
   "outputs": [
    {
     "data": {
      "text/plain": [
       "<subprocess.Popen at 0x29677500080>"
      ]
     },
     "execution_count": 3,
     "metadata": {},
     "output_type": "execute_result"
    }
   ],
   "source": [
    "import subprocess\n",
    "path = '\\\\'.join(jup_filepathname.split('\\\\')[:-1])\n",
    "subprocess.Popen(f\"explorer {path}\")\n",
    "# This approach is also valid\n",
    "# subprocess.call(f\"explorer {path}\")"
   ]
  },
  {
   "cell_type": "markdown",
   "metadata": {},
   "source": [
    "## Making the Changes in Document"
   ]
  },
  {
   "cell_type": "code",
   "execution_count": 4,
   "metadata": {},
   "outputs": [
    {
     "name": "stdout",
     "output_type": "stream",
     "text": [
      "Before: #c.NotebookApp.notebook_dir = ''\n",
      "\n",
      "After: c.NotebookApp.notebook_dir = 'D:\\GitHub'\n",
      "\n"
     ]
    }
   ],
   "source": [
    "with open(jup_filepathname, 'r+') as jupyter_config:\n",
    "    document = jupyter_config.readlines()\n",
    "    \n",
    "for line in enumerate(document):\n",
    "    if (line[1].find('NotebookApp.notebook_dir'))>=0:\n",
    "        replace_idx = line[0]\n",
    "        print('Before:', document[replace_idx])\n",
    "        document[replace_idx] = line[1].replace(\"= ''\" , \"= 'D:\\GitHub'\").replace('#', '')\n",
    "        print('After:', document[replace_idx])\n",
    "jupyter_config.close()\n",
    "\n",
    "with open(jup_filepathname, 'w+') as jupyter_config:\n",
    "    jupyter_config.writelines(document)\n",
    "    jupyter_config.close()"
   ]
  },
  {
   "cell_type": "markdown",
   "metadata": {},
   "source": [
    "## Validating Change"
   ]
  },
  {
   "cell_type": "code",
   "execution_count": 5,
   "metadata": {},
   "outputs": [
    {
     "name": "stdout",
     "output_type": "stream",
     "text": [
      "c.NotebookApp.notebook_dir = 'D:\\GitHub'\n",
      "\n"
     ]
    }
   ],
   "source": [
    "with open(jup_filepathname, 'r+') as jupyter_config:\n",
    "    document = jupyter_config.readlines()\n",
    "    print(document[replace_idx])\n",
    "    jupyter_config.close()"
   ]
  },
  {
   "cell_type": "code",
   "execution_count": null,
   "metadata": {},
   "outputs": [],
   "source": []
  }
 ],
 "metadata": {
  "kernelspec": {
   "display_name": "Python 3",
   "language": "python",
   "name": "python3"
  },
  "language_info": {
   "codemirror_mode": {
    "name": "ipython",
    "version": 3
   },
   "file_extension": ".py",
   "mimetype": "text/x-python",
   "name": "python",
   "nbconvert_exporter": "python",
   "pygments_lexer": "ipython3",
   "version": "3.7.0"
  }
 },
 "nbformat": 4,
 "nbformat_minor": 2
}
