{
 "cells": [
  {
   "cell_type": "markdown",
   "metadata": {},
   "source": [
    "**Purpose**:"
   ]
  },
  {
   "cell_type": "markdown",
   "metadata": {},
   "source": [
    "# Imports Always First"
   ]
  },
  {
   "cell_type": "code",
   "execution_count": 2,
   "metadata": {},
   "outputs": [],
   "source": [
    "import seaborn as sns\n",
    "import matplotlib.pyplot as plt"
   ]
  },
  {
   "cell_type": "markdown",
   "metadata": {},
   "source": [
    "# Extract Iris Dataset"
   ]
  },
  {
   "cell_type": "code",
   "execution_count": 4,
   "metadata": {},
   "outputs": [
    {
     "data": {
      "text/html": [
       "<div>\n",
       "<style scoped>\n",
       "    .dataframe tbody tr th:only-of-type {\n",
       "        vertical-align: middle;\n",
       "    }\n",
       "\n",
       "    .dataframe tbody tr th {\n",
       "        vertical-align: top;\n",
       "    }\n",
       "\n",
       "    .dataframe thead th {\n",
       "        text-align: right;\n",
       "    }\n",
       "</style>\n",
       "<table border=\"1\" class=\"dataframe\">\n",
       "  <thead>\n",
       "    <tr style=\"text-align: right;\">\n",
       "      <th></th>\n",
       "      <th>sepal_length</th>\n",
       "      <th>sepal_width</th>\n",
       "      <th>petal_length</th>\n",
       "      <th>petal_width</th>\n",
       "      <th>species</th>\n",
       "    </tr>\n",
       "  </thead>\n",
       "  <tbody>\n",
       "    <tr>\n",
       "      <th>0</th>\n",
       "      <td>5.1</td>\n",
       "      <td>3.5</td>\n",
       "      <td>1.4</td>\n",
       "      <td>0.2</td>\n",
       "      <td>setosa</td>\n",
       "    </tr>\n",
       "    <tr>\n",
       "      <th>1</th>\n",
       "      <td>4.9</td>\n",
       "      <td>3.0</td>\n",
       "      <td>1.4</td>\n",
       "      <td>0.2</td>\n",
       "      <td>setosa</td>\n",
       "    </tr>\n",
       "    <tr>\n",
       "      <th>2</th>\n",
       "      <td>4.7</td>\n",
       "      <td>3.2</td>\n",
       "      <td>1.3</td>\n",
       "      <td>0.2</td>\n",
       "      <td>setosa</td>\n",
       "    </tr>\n",
       "    <tr>\n",
       "      <th>3</th>\n",
       "      <td>4.6</td>\n",
       "      <td>3.1</td>\n",
       "      <td>1.5</td>\n",
       "      <td>0.2</td>\n",
       "      <td>setosa</td>\n",
       "    </tr>\n",
       "    <tr>\n",
       "      <th>4</th>\n",
       "      <td>5.0</td>\n",
       "      <td>3.6</td>\n",
       "      <td>1.4</td>\n",
       "      <td>0.2</td>\n",
       "      <td>setosa</td>\n",
       "    </tr>\n",
       "  </tbody>\n",
       "</table>\n",
       "</div>"
      ],
      "text/plain": [
       "   sepal_length  sepal_width  petal_length  petal_width species\n",
       "0           5.1          3.5           1.4          0.2  setosa\n",
       "1           4.9          3.0           1.4          0.2  setosa\n",
       "2           4.7          3.2           1.3          0.2  setosa\n",
       "3           4.6          3.1           1.5          0.2  setosa\n",
       "4           5.0          3.6           1.4          0.2  setosa"
      ]
     },
     "execution_count": 4,
     "metadata": {},
     "output_type": "execute_result"
    }
   ],
   "source": [
    "iris = sns.load_dataset('iris')\n",
    "iris.head()"
   ]
  },
  {
   "cell_type": "markdown",
   "metadata": {},
   "source": [
    "# Plotting Seaborn Grid"
   ]
  },
  {
   "cell_type": "code",
   "execution_count": 13,
   "metadata": {},
   "outputs": [
    {
     "data": {
      "text/plain": [
       "\u001b[1;31mInit signature:\u001b[0m \u001b[0msns\u001b[0m\u001b[1;33m.\u001b[0m\u001b[0mPairGrid\u001b[0m\u001b[1;33m(\u001b[0m\u001b[0mdata\u001b[0m\u001b[1;33m,\u001b[0m \u001b[0mhue\u001b[0m\u001b[1;33m=\u001b[0m\u001b[1;32mNone\u001b[0m\u001b[1;33m,\u001b[0m \u001b[0mhue_order\u001b[0m\u001b[1;33m=\u001b[0m\u001b[1;32mNone\u001b[0m\u001b[1;33m,\u001b[0m \u001b[0mpalette\u001b[0m\u001b[1;33m=\u001b[0m\u001b[1;32mNone\u001b[0m\u001b[1;33m,\u001b[0m \u001b[0mhue_kws\u001b[0m\u001b[1;33m=\u001b[0m\u001b[1;32mNone\u001b[0m\u001b[1;33m,\u001b[0m \u001b[0mvars\u001b[0m\u001b[1;33m=\u001b[0m\u001b[1;32mNone\u001b[0m\u001b[1;33m,\u001b[0m \u001b[0mx_vars\u001b[0m\u001b[1;33m=\u001b[0m\u001b[1;32mNone\u001b[0m\u001b[1;33m,\u001b[0m \u001b[0my_vars\u001b[0m\u001b[1;33m=\u001b[0m\u001b[1;32mNone\u001b[0m\u001b[1;33m,\u001b[0m \u001b[0mdiag_sharey\u001b[0m\u001b[1;33m=\u001b[0m\u001b[1;32mTrue\u001b[0m\u001b[1;33m,\u001b[0m \u001b[0mheight\u001b[0m\u001b[1;33m=\u001b[0m\u001b[1;36m2.5\u001b[0m\u001b[1;33m,\u001b[0m \u001b[0maspect\u001b[0m\u001b[1;33m=\u001b[0m\u001b[1;36m1\u001b[0m\u001b[1;33m,\u001b[0m \u001b[0mdespine\u001b[0m\u001b[1;33m=\u001b[0m\u001b[1;32mTrue\u001b[0m\u001b[1;33m,\u001b[0m \u001b[0mdropna\u001b[0m\u001b[1;33m=\u001b[0m\u001b[1;32mTrue\u001b[0m\u001b[1;33m,\u001b[0m \u001b[0msize\u001b[0m\u001b[1;33m=\u001b[0m\u001b[1;32mNone\u001b[0m\u001b[1;33m)\u001b[0m\u001b[1;33m\u001b[0m\u001b[0m\n",
       "\u001b[1;31mDocstring:\u001b[0m     \n",
       "Subplot grid for plotting pairwise relationships in a dataset.\n",
       "\n",
       "This class maps each variable in a dataset onto a column and row in a\n",
       "grid of multiple axes. Different axes-level plotting functions can be\n",
       "used to draw bivariate plots in the upper and lower triangles, and the\n",
       "the marginal distribution of each variable can be shown on the diagonal.\n",
       "\n",
       "It can also represent an additional level of conditionalization with the\n",
       "``hue`` parameter, which plots different subets of data in different\n",
       "colors. This uses color to resolve elements on a third dimension, but\n",
       "only draws subsets on top of each other and will not tailor the ``hue``\n",
       "parameter for the specific visualization the way that axes-level functions\n",
       "that accept ``hue`` will.\n",
       "\n",
       "See the :ref:`tutorial <grid_tutorial>` for more information.\n",
       "\u001b[1;31mInit docstring:\u001b[0m\n",
       "Initialize the plot figure and PairGrid object.\n",
       "\n",
       "Parameters\n",
       "----------\n",
       "data : DataFrame\n",
       "    Tidy (long-form) dataframe where each column is a variable and\n",
       "    each row is an observation.\n",
       "hue : string (variable name), optional\n",
       "    Variable in ``data`` to map plot aspects to different colors.\n",
       "hue_order : list of strings\n",
       "    Order for the levels of the hue variable in the palette\n",
       "palette : dict or seaborn color palette\n",
       "    Set of colors for mapping the ``hue`` variable. If a dict, keys\n",
       "    should be values  in the ``hue`` variable.\n",
       "hue_kws : dictionary of param -> list of values mapping\n",
       "    Other keyword arguments to insert into the plotting call to let\n",
       "    other plot attributes vary across levels of the hue variable (e.g.\n",
       "    the markers in a scatterplot).\n",
       "vars : list of variable names, optional\n",
       "    Variables within ``data`` to use, otherwise use every column with\n",
       "    a numeric datatype.\n",
       "{x, y}_vars : lists of variable names, optional\n",
       "    Variables within ``data`` to use separately for the rows and\n",
       "    columns of the figure; i.e. to make a non-square plot.\n",
       "height : scalar, optional\n",
       "    Height (in inches) of each facet.\n",
       "aspect : scalar, optional\n",
       "    Aspect * height gives the width (in inches) of each facet.\n",
       "despine : boolean, optional\n",
       "    Remove the top and right spines from the plots.\n",
       "dropna : boolean, optional\n",
       "    Drop missing values from the data before plotting.\n",
       "\n",
       "See Also\n",
       "--------\n",
       "pairplot : Easily drawing common uses of :class:`PairGrid`.\n",
       "FacetGrid : Subplot grid for plotting conditional relationships.\n",
       "\n",
       "Examples\n",
       "--------\n",
       "\n",
       "Draw a scatterplot for each pairwise relationship:\n",
       "\n",
       ".. plot::\n",
       "    :context: close-figs\n",
       "\n",
       "    >>> import matplotlib.pyplot as plt\n",
       "    >>> import seaborn as sns; sns.set()\n",
       "    >>> iris = sns.load_dataset(\"iris\")\n",
       "    >>> g = sns.PairGrid(iris)\n",
       "    >>> g = g.map(plt.scatter)\n",
       "\n",
       "Show a univariate distribution on the diagonal:\n",
       "\n",
       ".. plot::\n",
       "    :context: close-figs\n",
       "\n",
       "    >>> g = sns.PairGrid(iris)\n",
       "    >>> g = g.map_diag(plt.hist)\n",
       "    >>> g = g.map_offdiag(plt.scatter)\n",
       "\n",
       "(It's not actually necessary to catch the return value every time,\n",
       "as it is the same object, but it makes it easier to deal with the\n",
       "doctests).\n",
       "\n",
       "Color the points using a categorical variable:\n",
       "\n",
       ".. plot::\n",
       "    :context: close-figs\n",
       "\n",
       "    >>> g = sns.PairGrid(iris, hue=\"species\")\n",
       "    >>> g = g.map_diag(plt.hist)\n",
       "    >>> g = g.map_offdiag(plt.scatter)\n",
       "    >>> g = g.add_legend()\n",
       "\n",
       "Use a different style to show multiple histograms:\n",
       "\n",
       ".. plot::\n",
       "    :context: close-figs\n",
       "\n",
       "    >>> g = sns.PairGrid(iris, hue=\"species\")\n",
       "    >>> g = g.map_diag(plt.hist, histtype=\"step\", linewidth=3)\n",
       "    >>> g = g.map_offdiag(plt.scatter)\n",
       "    >>> g = g.add_legend()\n",
       "\n",
       "Plot a subset of variables\n",
       "\n",
       ".. plot::\n",
       "    :context: close-figs\n",
       "\n",
       "    >>> g = sns.PairGrid(iris, vars=[\"sepal_length\", \"sepal_width\"])\n",
       "    >>> g = g.map(plt.scatter)\n",
       "\n",
       "Pass additional keyword arguments to the functions\n",
       "\n",
       ".. plot::\n",
       "    :context: close-figs\n",
       "\n",
       "    >>> g = sns.PairGrid(iris)\n",
       "    >>> g = g.map_diag(plt.hist, edgecolor=\"w\")\n",
       "    >>> g = g.map_offdiag(plt.scatter, edgecolor=\"w\", s=40)\n",
       "\n",
       "Use different variables for the rows and columns:\n",
       "\n",
       ".. plot::\n",
       "    :context: close-figs\n",
       "\n",
       "    >>> g = sns.PairGrid(iris,\n",
       "    ...                  x_vars=[\"sepal_length\", \"sepal_width\"],\n",
       "    ...                  y_vars=[\"petal_length\", \"petal_width\"])\n",
       "    >>> g = g.map(plt.scatter)\n",
       "\n",
       "Use different functions on the upper and lower triangles:\n",
       "\n",
       ".. plot::\n",
       "    :context: close-figs\n",
       "\n",
       "    >>> g = sns.PairGrid(iris)\n",
       "    >>> g = g.map_upper(plt.scatter)\n",
       "    >>> g = g.map_lower(sns.kdeplot, cmap=\"Blues_d\")\n",
       "    >>> g = g.map_diag(sns.kdeplot, lw=3, legend=False)\n",
       "\n",
       "Use different colors and markers for each categorical level:\n",
       "\n",
       ".. plot::\n",
       "    :context: close-figs\n",
       "\n",
       "    >>> g = sns.PairGrid(iris, hue=\"species\", palette=\"Set2\",\n",
       "    ...                  hue_kws={\"marker\": [\"o\", \"s\", \"D\"]})\n",
       "    >>> g = g.map(plt.scatter, linewidths=1, edgecolor=\"w\", s=40)\n",
       "    >>> g = g.add_legend()\n",
       "\u001b[1;31mFile:\u001b[0m           d:\\programdata\\anaconda3\\lib\\site-packages\\seaborn\\axisgrid.py\n",
       "\u001b[1;31mType:\u001b[0m           type\n"
      ]
     },
     "metadata": {},
     "output_type": "display_data"
    }
   ],
   "source": [
    "sns.PairGrid?"
   ]
  },
  {
   "cell_type": "code",
   "execution_count": 14,
   "metadata": {},
   "outputs": [
    {
     "data": {
      "text/plain": [
       "\u001b[1;31mSignature:\u001b[0m \u001b[0msns\u001b[0m\u001b[1;33m.\u001b[0m\u001b[0mcolor_palette\u001b[0m\u001b[1;33m(\u001b[0m\u001b[0mpalette\u001b[0m\u001b[1;33m=\u001b[0m\u001b[1;32mNone\u001b[0m\u001b[1;33m,\u001b[0m \u001b[0mn_colors\u001b[0m\u001b[1;33m=\u001b[0m\u001b[1;32mNone\u001b[0m\u001b[1;33m,\u001b[0m \u001b[0mdesat\u001b[0m\u001b[1;33m=\u001b[0m\u001b[1;32mNone\u001b[0m\u001b[1;33m)\u001b[0m\u001b[1;33m\u001b[0m\u001b[0m\n",
       "\u001b[1;31mDocstring:\u001b[0m\n",
       "Return a list of colors defining a color palette.\n",
       "\n",
       "Available seaborn palette names:\n",
       "    deep, muted, bright, pastel, dark, colorblind\n",
       "\n",
       "Other options:\n",
       "    name of matplotlib cmap, 'ch:<cubehelix arguments>', 'hls', 'husl',\n",
       "    or a list of colors in any format matplotlib accepts\n",
       "\n",
       "Calling this function with ``palette=None`` will return the current\n",
       "matplotlib color cycle.\n",
       "\n",
       "Matplotlib palettes can be specified as reversed palettes by appending\n",
       "\"_r\" to the name or as \"dark\" palettes by appending \"_d\" to the name.\n",
       "(These options are mutually exclusive, but the resulting list of colors\n",
       "can also be reversed).\n",
       "\n",
       "This function can also be used in a ``with`` statement to temporarily\n",
       "set the color cycle for a plot or set of plots.\n",
       "\n",
       "See the :ref:`tutorial <palette_tutorial>` for more information.\n",
       "\n",
       "Parameters\n",
       "----------\n",
       "palette: None, string, or sequence, optional\n",
       "    Name of palette or None to return current palette. If a sequence, input\n",
       "    colors are used but possibly cycled and desaturated.\n",
       "n_colors : int, optional\n",
       "    Number of colors in the palette. If ``None``, the default will depend\n",
       "    on how ``palette`` is specified. Named palettes default to 6 colors,\n",
       "    but grabbing the current palette or passing in a list of colors will\n",
       "    not change the number of colors unless this is specified. Asking for\n",
       "    more colors than exist in the palette will cause it to cycle.\n",
       "desat : float, optional\n",
       "    Proportion to desaturate each color by.\n",
       "\n",
       "Returns\n",
       "-------\n",
       "palette : list of RGB tuples.\n",
       "    Color palette. Behaves like a list, but can be used as a context\n",
       "    manager and possesses an ``as_hex`` method to convert to hex color\n",
       "    codes.\n",
       "\n",
       "See Also\n",
       "--------\n",
       "set_palette : Set the default color cycle for all plots.\n",
       "set_color_codes : Reassign color codes like ``\"b\"``, ``\"g\"``, etc. to\n",
       "                  colors from one of the seaborn palettes.\n",
       "\n",
       "Examples\n",
       "--------\n",
       "\n",
       "Calling with no arguments returns all colors from the current default\n",
       "color cycle:\n",
       "\n",
       ".. plot::\n",
       "    :context: close-figs\n",
       "\n",
       "    >>> import seaborn as sns; sns.set()\n",
       "    >>> sns.palplot(sns.color_palette())\n",
       "\n",
       "Show one of the other \"seaborn palettes\", which have the same basic order\n",
       "of hues as the default matplotlib color cycle but more attractive colors.\n",
       "Calling with the name of a palette will return 6 colors by default:\n",
       "\n",
       ".. plot::\n",
       "    :context: close-figs\n",
       "\n",
       "    >>> sns.palplot(sns.color_palette(\"muted\"))\n",
       "\n",
       "Use discrete values from one of the built-in matplotlib colormaps:\n",
       "\n",
       ".. plot::\n",
       "    :context: close-figs\n",
       "\n",
       "    >>> sns.palplot(sns.color_palette(\"RdBu\", n_colors=7))\n",
       "\n",
       "Make a customized cubehelix color palette:\n",
       "\n",
       ".. plot::\n",
       "    :context: close-figs\n",
       "\n",
       "    >>> sns.palplot(sns.color_palette(\"ch:2.5,-.2,dark=.3\"))\n",
       "\n",
       "Use a categorical matplotlib palette and add some desaturation:\n",
       "\n",
       ".. plot::\n",
       "    :context: close-figs\n",
       "\n",
       "    >>> sns.palplot(sns.color_palette(\"Set1\", n_colors=8, desat=.5))\n",
       "\n",
       "Make a \"dark\" matplotlib sequential palette variant. (This can be good\n",
       "when coloring multiple lines or points that correspond to an ordered\n",
       "variable, where you don't want the lightest lines to be invisible):\n",
       "\n",
       ".. plot::\n",
       "    :context: close-figs\n",
       "\n",
       "    >>> sns.palplot(sns.color_palette(\"Blues_d\"))\n",
       "\n",
       "Use as a context manager:\n",
       "\n",
       ".. plot::\n",
       "    :context: close-figs\n",
       "\n",
       "    >>> import numpy as np, matplotlib.pyplot as plt\n",
       "    >>> with sns.color_palette(\"husl\", 8):\n",
       "    ...    _ = plt.plot(np.c_[np.zeros(8), np.arange(8)].T)\n",
       "\u001b[1;31mFile:\u001b[0m      d:\\programdata\\anaconda3\\lib\\site-packages\\seaborn\\palettes.py\n",
       "\u001b[1;31mType:\u001b[0m      function\n"
      ]
     },
     "metadata": {},
     "output_type": "display_data"
    }
   ],
   "source": [
    "sns.color_palette?"
   ]
  },
  {
   "cell_type": "code",
   "execution_count": 18,
   "metadata": {},
   "outputs": [
    {
     "data": {
      "image/png": "[encoded data removed]",
      "text/plain": [
       "<Figure size 720x720 with 16 Axes>"
      ]
     },
     "metadata": {
      "needs_background": "light"
     },
     "output_type": "display_data"
    }
   ],
   "source": [
    "g = sns.PairGrid(iris, \n",
    "                 hue='species', # species column in iris dataframe\n",
    "                 palette=sns.color_palette('cubehelix', 3), # color pallete\n",
    "                vars=iris.columns[:-1])\n",
    "g.map(plt.scatter)\n",
    "plt.show()"
   ]
  },
  {
   "cell_type": "markdown",
   "metadata": {},
   "source": [
    "# Color Palettes"
   ]
  },
  {
   "cell_type": "code",
   "execution_count": 60,
   "metadata": {},
   "outputs": [
    {
     "data": {
      "text/html": [
       "\n",
       "        <iframe\n",
       "            width=\"700\"\n",
       "            height=\"500\"\n",
       "            src=\"https://matplotlib.org/_images/colormaps_reference_05.png\"\n",
       "            frameborder=\"0\"\n",
       "            allowfullscreen\n",
       "        ></iframe>\n",
       "        "
      ],
      "text/plain": [
       "<IPython.lib.display.IFrame at 0x1c0fcf6ef98>"
      ]
     },
     "metadata": {},
     "output_type": "display_data"
    },
    {
     "data": {
      "text/html": [
       "\n",
       "        <iframe\n",
       "            width=\"700\"\n",
       "            height=\"500\"\n",
       "            src=\"https://matplotlib.org/_images/colormaps_reference_04.png\"\n",
       "            frameborder=\"0\"\n",
       "            allowfullscreen\n",
       "        ></iframe>\n",
       "        "
      ],
      "text/plain": [
       "<IPython.lib.display.IFrame at 0x1c0fcf6ef98>"
      ]
     },
     "metadata": {},
     "output_type": "display_data"
    },
    {
     "data": {
      "text/html": [
       "\n",
       "        <iframe\n",
       "            width=\"700\"\n",
       "            height=\"500\"\n",
       "            src=\"https://matplotlib.org/_images/colormaps_reference_03.png\"\n",
       "            frameborder=\"0\"\n",
       "            allowfullscreen\n",
       "        ></iframe>\n",
       "        "
      ],
      "text/plain": [
       "<IPython.lib.display.IFrame at 0x1c0fcf6ef98>"
      ]
     },
     "metadata": {},
     "output_type": "display_data"
    },
    {
     "data": {
      "text/html": [
       "\n",
       "        <iframe\n",
       "            width=\"700\"\n",
       "            height=\"500\"\n",
       "            src=\"https://matplotlib.org/_images/colormaps_reference_02.png\"\n",
       "            frameborder=\"0\"\n",
       "            allowfullscreen\n",
       "        ></iframe>\n",
       "        "
      ],
      "text/plain": [
       "<IPython.lib.display.IFrame at 0x1c0fcf6ef98>"
      ]
     },
     "metadata": {},
     "output_type": "display_data"
    },
    {
     "data": {
      "text/html": [
       "\n",
       "        <iframe\n",
       "            width=\"700\"\n",
       "            height=\"500\"\n",
       "            src=\"https://matplotlib.org/_images/colormaps_reference_01.png\"\n",
       "            frameborder=\"0\"\n",
       "            allowfullscreen\n",
       "        ></iframe>\n",
       "        "
      ],
      "text/plain": [
       "<IPython.lib.display.IFrame at 0x1c0fcf6ef98>"
      ]
     },
     "metadata": {},
     "output_type": "display_data"
    },
    {
     "data": {
      "text/html": [
       "\n",
       "        <iframe\n",
       "            width=\"700\"\n",
       "            height=\"500\"\n",
       "            src=\"https://matplotlib.org/_images/colormaps_reference_00.png\"\n",
       "            frameborder=\"0\"\n",
       "            allowfullscreen\n",
       "        ></iframe>\n",
       "        "
      ],
      "text/plain": [
       "<IPython.lib.display.IFrame at 0x1c0fcf6ef98>"
      ]
     },
     "metadata": {},
     "output_type": "display_data"
    }
   ],
   "source": [
    "frames = ['https://matplotlib.org/_images/colormaps_reference_05.png',\n",
    "         'https://matplotlib.org/_images/colormaps_reference_04.png',\n",
    "         'https://matplotlib.org/_images/colormaps_reference_03.png',\n",
    "         'https://matplotlib.org/_images/colormaps_reference_02.png',\n",
    "         'https://matplotlib.org/_images/colormaps_reference_01.png',\n",
    "         'https://matplotlib.org/_images/colormaps_reference_00.png']\n",
    "\n",
    "for frame in frames:\n",
    "    display(IFrame(frame, 700, 500))"
   ]
  },
  {
   "cell_type": "code",
   "execution_count": null,
   "metadata": {},
   "outputs": [],
   "source": []
  }
 ],
 "metadata": {
  "kernelspec": {
   "display_name": "Python 3",
   "language": "python",
   "name": "python3"
  },
  "language_info": {
   "codemirror_mode": {
    "name": "ipython",
    "version": 3
   },
   "file_extension": ".py",
   "mimetype": "text/x-python",
   "name": "python",
   "nbconvert_exporter": "python",
   "pygments_lexer": "ipython3",
   "version": "3.7.0"
  }
 },
 "nbformat": 4,
 "nbformat_minor": 2
}
