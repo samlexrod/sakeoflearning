{
 "cells": [
  {
   "cell_type": "markdown",
   "metadata": {},
   "source": [
    "**Purpose**: to transform arrays or matrixes for vector calculations or model input."
   ]
  },
  {
   "cell_type": "markdown",
   "metadata": {},
   "source": [
    "# Imports Always First"
   ]
  },
  {
   "cell_type": "code",
   "execution_count": 3,
   "metadata": {},
   "outputs": [],
   "source": [
    "import numpy as np\n",
    "import matplotlib.pyplot as plt"
   ]
  },
  {
   "cell_type": "markdown",
   "metadata": {},
   "source": [
    "# Creating a Numpy Array"
   ]
  },
  {
   "cell_type": "code",
   "execution_count": 4,
   "metadata": {},
   "outputs": [
    {
     "name": "stdout",
     "output_type": "stream",
     "text": [
      "[[ 4.99404755e-02  3.36118427e-01 -1.15566390e+00 -1.78490361e+00\n",
      "  -3.17913532e-01  6.44595171e-01  2.04183347e+00  1.05137586e+00\n",
      "   4.29968845e-02 -1.74170513e+00 -1.07827879e+00  1.21049422e-01\n",
      "  -3.10350477e-01 -2.10841625e-01 -9.95685791e-01 -8.71989982e-01\n",
      "   1.45433098e+00 -1.52914331e+00 -9.47315168e-01  2.27758212e+00\n",
      "   3.94845760e-01 -3.77736324e-01  3.93696846e-01 -2.79979080e-02\n",
      "   5.27016544e-02  8.44305347e-01  2.42718338e+00 -3.16905258e-01\n",
      "  -4.49029727e-01 -8.41765140e-01  5.70293245e-01 -3.10990883e-01\n",
      "   1.02791631e-02 -8.07683704e-02 -7.49486011e-01  2.95532887e-01\n",
      "  -7.06585847e-01 -7.58656525e-01  1.60678963e+00 -1.39402550e+00\n",
      "  -1.51023693e+00  4.44837195e-01  1.22429265e-01 -3.98026586e-01\n",
      "  -5.26655921e-01  1.16430395e+00 -3.21048519e-01 -8.67093318e-01\n",
      "   7.83134256e-01 -2.31664427e-03 -1.76991728e+00 -3.27098868e-01\n",
      "  -5.07849138e-01 -3.48549596e-01  7.01992709e-02 -5.78812813e-01\n",
      "   2.00005107e+00 -2.82856425e-01  1.32976998e+00  2.73947189e-01\n",
      "   1.19571688e+00  3.79932153e-01 -6.99932464e-01  1.75480384e-01\n",
      "   4.67339806e-01  1.35958746e+00  1.27204468e+00 -7.57733988e-01\n",
      "   1.43484058e+00 -1.30339929e+00 -3.80514683e-01  4.69427332e-01\n",
      "   1.37363483e+00 -6.06519273e-01  1.63845063e+00 -2.53894032e-01\n",
      "  -1.34909839e+00 -1.39841003e+00  1.77110589e+00 -5.87296572e-01\n",
      "   1.75638645e+00 -7.26546839e-01 -3.53423582e-01  1.83258832e-01\n",
      "   8.18010502e-01  6.88443394e-01 -6.71609049e-01  7.87574303e-01\n",
      "  -4.61866992e-01 -7.58758264e-01  1.13426995e-01  6.15945508e-01\n",
      "   4.66686791e-01  1.68541724e+00  5.54122130e-02  9.08700524e-01\n",
      "   1.02805553e+00  5.22089329e-01  1.54046072e+00 -1.57314720e+00\n",
      "  -1.24351444e+00  9.24576513e-01  1.10030034e+00 -4.10672312e-01\n",
      "  -8.94734480e-01 -5.47506761e-01  1.10976331e+00 -4.32221377e-02\n",
      "   1.28981861e+00 -1.58884955e+00 -8.46841697e-01 -9.21693211e-01\n",
      "   6.95201646e-01  7.85020614e-02  1.64603436e-03  4.48545171e-02\n",
      "   1.28483166e-01  3.57968649e-01  3.12406239e-01  9.26934242e-01\n",
      "   1.74403688e+00  7.10334464e-01 -6.90684964e-01  6.74628173e-01\n",
      "   2.14620155e-02 -6.83813321e-01 -7.09107344e-02  7.48935807e-01\n",
      "  -1.08849954e+00 -1.56643451e-01 -2.05238960e+00  1.59064770e-01\n",
      "   5.23457093e-01  1.65744291e+00 -4.27848501e-01  1.78947934e+00\n",
      "  -1.96007122e+00 -2.19530676e+00 -1.06995905e+00 -4.10626008e-01\n",
      "   3.93756250e-01  6.97083739e-01  4.72014557e-01  2.05752218e-01\n",
      "  -7.20554490e-01  2.12239655e-01 -6.94604760e-01  5.12807991e-01\n",
      "  -3.64658247e-01 -5.45611349e-01 -4.40174083e-01  1.95763559e+00\n",
      "  -2.06364996e-01  8.64769349e-01 -5.85358845e-01  6.56021574e-01\n",
      "   2.79459798e-01  1.09572141e-02 -2.26928667e-02 -2.29211404e-01\n",
      "  -2.19195812e-01  1.46266460e+00  1.48393375e+00  6.96676657e-02\n",
      "   2.74507026e-01 -5.38664178e-01  8.29936797e-01  4.37682309e-01\n",
      "   7.36831771e-01  7.22167260e-01  5.58788408e-01 -7.62798004e-01\n",
      "  -2.02542292e-01  1.90705388e+00  8.80145336e-01  3.36091035e-01\n",
      "  -1.27107651e-01  1.44122796e-03  6.11839986e-02  1.66174920e+00\n",
      "  -3.91799560e-02 -7.09627064e-01 -1.13503232e+00 -1.26156532e+00\n",
      "   3.67996059e-01  2.01674125e+00 -4.48051262e-01 -2.00520796e-01\n",
      "  -7.24732993e-01 -2.16607268e+00  9.66288348e-01 -8.61044932e-01\n",
      "   6.22154572e-01 -1.90162107e+00 -6.62441784e-01 -9.26227411e-01\n",
      "  -5.18970336e-01 -1.37065089e+00  2.22742308e-01 -7.92336979e-01\n",
      "   7.75095675e-02  1.89612001e+00 -4.48982096e-01  3.95529473e-01\n",
      "   9.32543601e-01 -2.41221859e-01  2.03722885e-01  6.26271380e-01\n",
      "  -1.45884806e+00 -1.37914643e+00  7.41253053e-03 -2.52171945e-02\n",
      "   1.25172063e+00  2.38789678e-01 -2.29041242e-01  2.19794844e+00\n",
      "  -9.27332343e-01 -5.73962703e-01 -6.93373834e-02  2.62886970e+00\n",
      "  -1.19784817e+00  4.26609051e-01  5.92204538e-01  3.94321941e-01\n",
      "   7.21321385e-01 -6.19993312e-01 -1.47617483e+00  7.23990802e-03\n",
      "  -5.63078025e-01 -7.66965245e-01 -6.12156923e-01 -7.95171786e-01\n",
      "  -2.84392255e-01 -1.68657789e+00 -1.50692591e-01 -8.77050336e-02\n",
      "   1.77072967e+00 -5.57172203e-01 -1.01005909e+00 -4.32108763e-01\n",
      "   1.59727275e+00 -8.51083298e-01  3.35643964e-02 -1.17975363e+00\n",
      "   7.21654011e-01  5.90989556e-01  1.87849674e+00 -2.86438571e-01\n",
      "   9.63367951e-01  5.47326174e-01  6.13996875e-01  1.68615031e-01\n",
      "   6.36338145e-01  1.16227674e+00 -9.85636688e-01 -2.92044821e-01\n",
      "  -1.36911263e-01 -9.17465423e-01  1.49430182e+00 -1.24821732e+00\n",
      "  -8.37162754e-01 -1.13326159e+00  1.13628280e+00 -1.23160603e+00\n",
      "   2.80910128e-01  2.45828265e-02 -9.48912025e-01 -1.56707032e+00\n",
      "  -3.65939298e-02  2.21428994e+00  1.99252948e+00 -6.33922379e-01\n",
      "  -1.82316653e-01  1.85602378e-01  1.73295993e+00  1.83773488e+00\n",
      "   1.83321563e+00  8.74444214e-01 -2.21104990e+00  6.67835383e-01\n",
      "  -1.18489088e+00  2.01248847e+00  2.86424244e+00 -1.55900571e+00\n",
      "  -1.15395123e+00 -8.21423767e-01  7.86601809e-01  1.25768094e+00\n",
      "   5.06165048e-01  8.30370509e-01 -1.33050301e+00 -2.21740665e-03\n",
      "   3.87271687e-01  3.18298295e-01 -8.27636703e-01 -7.39437368e-01\n",
      "   1.29681236e+00 -7.04476077e-01 -1.28333955e+00 -2.69474669e-01\n",
      "   3.47398723e-02  1.80712591e+00  1.13394696e+00 -3.72870247e-01\n",
      "   1.04432051e+00 -1.31090237e+00 -8.10321488e-01  1.27675013e+00\n",
      "  -4.35969213e-01 -4.73311374e-01 -5.53200455e-01  2.38602762e+00\n",
      "   1.71752962e-01 -1.10655120e+00  2.12653352e-01  1.22303997e+00\n",
      "   2.02509681e+00 -7.97788809e-01 -3.08274558e-01  2.61611243e-01\n",
      "  -3.53248837e-01 -6.08077188e-01 -1.29110315e+00 -2.81444793e-02\n",
      "   9.03612620e-01 -4.00331123e-01  2.41055952e-01 -1.20836508e-01\n",
      "  -1.62515635e+00  2.43129778e+00 -1.91168059e+00  1.09582177e+00\n",
      "  -1.29067557e+00  2.86689881e-01 -1.69272716e+00  5.17902100e-02\n",
      "   8.02299708e-01  4.93367320e-01  5.93985378e-01  2.59696552e+00\n",
      "   7.43775601e-01  2.41356819e-01  1.03270065e+00 -5.49390428e-01\n",
      "  -6.51550232e-01 -2.37951481e-02 -3.16406570e-02  1.12697973e+00\n",
      "   1.41779437e-01  4.41510366e-01  2.79621963e-01  2.90570820e-01\n",
      "   1.03355306e+00  1.81441982e+00  8.35038766e-01  1.81089682e+00\n",
      "   3.77485828e-01  2.00170130e+00 -1.67815790e+00  5.05934894e-01\n",
      "   7.49914437e-01  1.51581125e+00  1.84900812e-01 -2.03348668e+00\n",
      "   6.95198117e-02  8.23134965e-01 -8.22883929e-01 -6.29537734e-01\n",
      "   1.95837642e+00  9.81174813e-02  5.37703187e-01  8.88219073e-02\n",
      "  -7.78182074e-02  1.94775856e+00 -5.74413883e-01 -6.02050832e-01\n",
      "  -1.14234478e+00 -1.16134668e+00  2.90210963e-01 -3.92455501e-01\n",
      "  -1.43455856e+00 -5.99566718e-01 -4.86286399e-01  6.19384282e-01\n",
      "  -2.00046106e+00  2.16964951e-01 -4.65431533e-01  7.23391973e-02\n",
      "  -1.51785752e-01  3.12801962e-01  1.51500009e-01  1.97857690e-01\n",
      "   3.93246153e-01  2.45058721e-01  3.72136898e-01 -2.24339697e-01\n",
      "   2.92402279e-01 -1.63111416e-01  1.05925210e+00 -9.07274245e-01\n",
      "  -2.32396065e-01  7.32888254e-01 -1.62223778e+00  3.41618457e-01\n",
      "  -8.83226156e-01 -1.98038852e+00  1.36917510e+00  1.09025705e+00\n",
      "   7.04200687e-01 -4.35765794e-01  1.17173343e+00 -2.96081530e-01\n",
      "  -4.29741319e-01 -8.00420057e-01 -1.53496793e+00 -2.02478918e+00\n",
      "  -7.85410804e-01 -1.30522483e+00 -2.19134339e-01 -1.29392670e+00\n",
      "   1.97050987e+00 -1.04625929e+00  1.80481011e-01 -6.15253943e-01\n",
      "   9.43907088e-01  2.17025417e-01  6.86980087e-01  8.91146265e-01\n",
      "  -3.11621268e-01  1.58532697e+00 -1.44752538e+00  2.39069569e-01\n",
      "  -7.46567738e-01  5.10919383e-01  8.26543106e-01 -1.39319919e-01\n",
      "  -6.05256442e-01 -4.20150450e-01 -9.00641113e-01  1.21080436e-01\n",
      "   3.45937514e-01  1.46597616e+00  2.90069251e-01  4.72741472e-01\n",
      "  -1.65477719e-02 -1.11876135e+00 -1.36595066e+00 -6.49679527e-01\n",
      "  -6.02398093e-01 -4.07875727e-01 -3.12275757e-02 -3.47772590e-01\n",
      "  -1.69314861e-01 -1.15188251e+00 -5.33544701e-01  1.97487328e+00\n",
      "   7.35428274e-01 -3.63470710e-02  4.82659444e-01 -3.98914968e-01\n",
      "   5.53864524e-01  7.38904760e-01 -1.06706584e+00 -1.13262912e+00\n",
      "   1.63883485e+00  5.72599196e-01 -7.86644413e-02  1.56124035e+00\n",
      "  -1.54783032e+00  7.77272214e-01  8.39594373e-02  2.75962042e+00\n",
      "   2.54320618e-01  4.75902974e-01 -9.89694694e-01  7.67197772e-01\n",
      "   8.94778166e-02 -6.31383948e-01  1.03639111e+00 -1.32956895e+00\n",
      "  -2.22956960e-01  1.14829874e+00  3.40895138e-01 -2.05907018e-01\n",
      "   1.70140238e-01  1.06656011e+00 -1.72708180e+00 -1.91248853e+00\n",
      "  -5.62843427e-01 -3.88486031e-01 -1.26779217e+00  2.27829112e-01\n",
      "   8.74628301e-01 -3.30189157e-01  1.41436509e+00  9.37901834e-01\n",
      "   8.00402979e-01  1.30561770e+00  4.56970091e-01 -3.86372475e-01]]\n"
     ]
    }
   ],
   "source": [
    "np_array = np.random.randn(1, 500)\n",
    "print(np_array)"
   ]
  },
  {
   "cell_type": "markdown",
   "metadata": {},
   "source": [
    "# Reshaping Numpy Array"
   ]
  },
  {
   "cell_type": "code",
   "execution_count": 5,
   "metadata": {},
   "outputs": [
    {
     "data": {
      "text/plain": [
       "array([[ 0.04994048],\n",
       "       [ 0.33611843],\n",
       "       [-1.1556639 ],\n",
       "       [-1.78490361],\n",
       "       [-0.31791353],\n",
       "       [ 0.64459517],\n",
       "       [ 2.04183347],\n",
       "       [ 1.05137586],\n",
       "       [ 0.04299688],\n",
       "       [-1.74170513]])"
      ]
     },
     "execution_count": 5,
     "metadata": {},
     "output_type": "execute_result"
    }
   ],
   "source": [
    "np_array.reshape(-1, 1)[:10]"
   ]
  },
  {
   "cell_type": "code",
   "execution_count": 6,
   "metadata": {},
   "outputs": [
    {
     "data": {
      "text/plain": [
       "array([[ 0.04994048,  0.33611843],\n",
       "       [-1.1556639 , -1.78490361],\n",
       "       [-0.31791353,  0.64459517],\n",
       "       [ 2.04183347,  1.05137586],\n",
       "       [ 0.04299688, -1.74170513],\n",
       "       [-1.07827879,  0.12104942],\n",
       "       [-0.31035048, -0.21084162],\n",
       "       [-0.99568579, -0.87198998],\n",
       "       [ 1.45433098, -1.52914331],\n",
       "       [-0.94731517,  2.27758212]])"
      ]
     },
     "execution_count": 6,
     "metadata": {},
     "output_type": "execute_result"
    }
   ],
   "source": [
    "np_array.reshape(-1, 2)[:10]"
   ]
  },
  {
   "cell_type": "markdown",
   "metadata": {},
   "source": [
    "# Visualizing in Histograms"
   ]
  },
  {
   "cell_type": "code",
   "execution_count": 7,
   "metadata": {},
   "outputs": [
    {
     "data": {
      "text/plain": [
       "(array([ 16.,  38.,  64.,  95., 102.,  83.,  45.,  32.,  18.,   7.]),\n",
       " array([-2.2110499 , -1.70352067, -1.19599144, -0.6884622 , -0.18093297,\n",
       "         0.32659627,  0.8341255 ,  1.34165473,  1.84918397,  2.3567132 ,\n",
       "         2.86424244]),\n",
       " <a list of 10 Patch objects>)"
      ]
     },
     "execution_count": 7,
     "metadata": {},
     "output_type": "execute_result"
    },
    {
     "data": {
      "image/png": "[encoded data removed]",
      "text/plain": [
       "<Figure size 432x288 with 1 Axes>"
      ]
     },
     "metadata": {
      "needs_background": "light"
     },
     "output_type": "display_data"
    }
   ],
   "source": [
    "plt.hist(np_array.reshape(-1, 1))"
   ]
  },
  {
   "cell_type": "code",
   "execution_count": 8,
   "metadata": {},
   "outputs": [
    {
     "data": {
      "text/plain": [
       "([array([ 7., 20., 33., 43., 53., 42., 25., 18.,  7.,  2.]),\n",
       "  array([ 9., 18., 31., 52., 49., 41., 20., 14., 11.,  5.])],\n",
       " array([-2.2110499 , -1.70352067, -1.19599144, -0.6884622 , -0.18093297,\n",
       "         0.32659627,  0.8341255 ,  1.34165473,  1.84918397,  2.3567132 ,\n",
       "         2.86424244]),\n",
       " <a list of 2 Lists of Patches objects>)"
      ]
     },
     "execution_count": 8,
     "metadata": {},
     "output_type": "execute_result"
    },
    {
     "data": {
      "image/png": "[encoded data removed]",
      "text/plain": [
       "<Figure size 432x288 with 1 Axes>"
      ]
     },
     "metadata": {
      "needs_background": "light"
     },
     "output_type": "display_data"
    }
   ],
   "source": [
    "plt.hist(np_array.reshape(-1, 2))"
   ]
  },
  {
   "cell_type": "code",
   "execution_count": null,
   "metadata": {},
   "outputs": [],
   "source": []
  }
 ],
 "metadata": {
  "kernelspec": {
   "display_name": "Python 3",
   "language": "python",
   "name": "python3"
  },
  "language_info": {
   "codemirror_mode": {
    "name": "ipython",
    "version": 3
   },
   "file_extension": ".py",
   "mimetype": "text/x-python",
   "name": "python",
   "nbconvert_exporter": "python",
   "pygments_lexer": "ipython3",
   "version": "3.7.0"
  }
 },
 "nbformat": 4,
 "nbformat_minor": 2
}
