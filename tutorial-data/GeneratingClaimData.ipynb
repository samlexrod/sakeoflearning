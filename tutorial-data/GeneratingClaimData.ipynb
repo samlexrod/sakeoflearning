{
 "cells": [
  {
   "cell_type": "code",
   "execution_count": null,
   "metadata": {},
   "outputs": [],
   "source": [
    "import pandas as pd\n",
    "from datetime import timedelta"
   ]
  },
  {
   "cell_type": "markdown",
   "metadata": {},
   "source": [
    "# Claim Table Generator"
   ]
  },
  {
   "cell_type": "code",
   "execution_count": null,
   "metadata": {},
   "outputs": [],
   "source": [
    "service_dates = pd.date_range('2017-01-01', pd.datetime.now(), freq='d')\n",
    "paid_dates = service_dates + timedelta(days=30)\n",
    "received_dates = service_dates - timedelta(days=10)\n",
    "allowed_amounts = pd.np.random.random(len(service_dates)) * 1000\n",
    "claim_numbers = pd.np.random.randint(10000000, 10000000 + len(service_dates)/10, len(service_dates))\n",
    "paid_amounts = allowed_amounts * .14"
   ]
  },
  {
   "cell_type": "code",
   "execution_count": null,
   "metadata": {},
   "outputs": [],
   "source": [
    "claim_data = pd.DataFrame(dict(CLM_NO=claim_numbers, \n",
    "                               RCV_DT=received_dates,\n",
    "                               SERV_DT=service_dates,\n",
    "                               RESOLVED_DT=paid_dates,\n",
    "                               ALLOW_AMT=allowed_amounts,\n",
    "                               RESOLVED_AMT=paid_amounts)\n",
    "                           ).groupby(['CLM_NO', 'RCV_DT', 'SERV_DT', 'RESOLVED_DT'], as_index=False).sum()\n",
    "\n",
    "claim_data = claim_data.assign(CLM_NO_LN = lambda df: df.groupby(['CLM_NO']).SERV_DT.rank().astype(int))\n",
    "claim_data = claim_data[['CLM_NO', 'CLM_NO_LN', 'RCV_DT', 'SERV_DT', 'RESOLVED_DT', 'ALLOW_AMT', 'RESOLVED_AMT']]"
   ]
  },
  {
   "cell_type": "code",
   "execution_count": null,
   "metadata": {},
   "outputs": [],
   "source": [
    "claim_data.to_csv('ClaimDataExample1.csv', index=False)"
   ]
  },
  {
   "cell_type": "code",
   "execution_count": null,
   "metadata": {},
   "outputs": [],
   "source": [
    "claim_data.to_csv('ClaimDataExample2.csv', index=False)"
   ]
  },
  {
   "cell_type": "code",
   "execution_count": null,
   "metadata": {},
   "outputs": [],
   "source": [
    "claim_data.to_csv('ClaimDataExample3.csv', index=False)"
   ]
  },
  {
   "cell_type": "markdown",
   "metadata": {},
   "source": [
    "# Control Table Generator"
   ]
  },
  {
   "cell_type": "code",
   "execution_count": null,
   "metadata": {},
   "outputs": [],
   "source": [
    "control_data = claim_data.agg(['sum', 'count']).T.reset_index().rename(columns={'index':'ColumnName', 'sum':'Sum', 'count':'Count'})"
   ]
  },
  {
   "cell_type": "code",
   "execution_count": null,
   "metadata": {},
   "outputs": [],
   "source": [
    "control_data.to_csv('ControlDataExample.csv', index=False)"
   ]
  },
  {
   "cell_type": "markdown",
   "metadata": {},
   "source": [
    "# Membership Table Generator"
   ]
  },
  {
   "cell_type": "code",
   "execution_count": null,
   "metadata": {},
   "outputs": [],
   "source": [
    "member_dates = pd.date_range('2017-01-01', pd.datetime.now(), freq='MS')\n",
    "member_quantity = pd.np.random.randint(0, 2500000, len(member_dates))"
   ]
  },
  {
   "cell_type": "code",
   "execution_count": null,
   "metadata": {},
   "outputs": [],
   "source": [
    "member_data = pd.DataFrame(dict(MEM_MONTH=member_dates, \n",
    "                                 MEM_QTY=member_quantity))"
   ]
  },
  {
   "cell_type": "code",
   "execution_count": null,
   "metadata": {},
   "outputs": [],
   "source": [
    "member_data.to_csv('MemberDataExample.csv', index=False)"
   ]
  },
  {
   "cell_type": "markdown",
   "metadata": {},
   "source": [
    "# Header Table Generator"
   ]
  },
  {
   "cell_type": "code",
   "execution_count": null,
   "metadata": {},
   "outputs": [],
   "source": [
    "claim_data.head()"
   ]
  },
  {
   "cell_type": "code",
   "execution_count": null,
   "metadata": {},
   "outputs": [],
   "source": [
    "header_claim_number = claim_data.CLM_NO.unique()\n",
    "lob = ['Broad PPO', 'Narrow', 'Centers of Excellence', 'Value-Based Care']\n",
    "lob = pd.np.random.choice(lob, len(header_claim_number))\n",
    "header_data = pd.DataFrame(dict(CLM_NO=header_claim_number, LOB_NAME=lob))"
   ]
  },
  {
   "cell_type": "code",
   "execution_count": null,
   "metadata": {},
   "outputs": [],
   "source": [
    "header_data.to_csv('HeaderDataExample.csv', index=False)"
   ]
  }
 ],
 "metadata": {
  "kernelspec": {
   "display_name": "Python 3",
   "language": "python",
   "name": "python3"
  },
  "language_info": {
   "codemirror_mode": {
    "name": "ipython",
    "version": 3
   },
   "file_extension": ".py",
   "mimetype": "text/x-python",
   "name": "python",
   "nbconvert_exporter": "python",
   "pygments_lexer": "ipython3",
   "version": "3.7.3"
  }
 },
 "nbformat": 4,
 "nbformat_minor": 4
}
