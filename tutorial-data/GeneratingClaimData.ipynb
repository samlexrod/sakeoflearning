{
 "cells": [
  {
   "cell_type": "code",
   "execution_count": 2,
   "metadata": {},
   "outputs": [],
   "source": [
    "import pandas as pd\n",
    "from datetime import timedelta"
   ]
  },
  {
   "cell_type": "markdown",
   "metadata": {},
   "source": [
    "# Claim Table Generator"
   ]
  },
  {
   "cell_type": "code",
   "execution_count": 3,
   "metadata": {},
   "outputs": [],
   "source": [
    "service_dates = pd.date_range('2017-01-01', pd.datetime.now(), freq='d')\n",
    "paid_dates = service_dates + timedelta(days=30)\n",
    "received_dates = service_dates - timedelta(days=10)\n",
    "allowed_amounts = pd.np.random.random(len(service_dates)) * 1000\n",
    "claim_numbers = pd.np.random.randint(10000000, 10000000 + len(service_dates)/10, len(service_dates))\n",
    "paid_amounts = allowed_amounts * .14"
   ]
  },
  {
   "cell_type": "code",
   "execution_count": 6,
   "metadata": {},
   "outputs": [],
   "source": [
    "claim_data = pd.DataFrame(dict(CLM_NO=claim_numbers, \n",
    "                               RCV_DT=received_dates,\n",
    "                               SERV_DT=service_dates,\n",
    "                               RESOLVED_DT=paid_dates,\n",
    "                               ALLOW_AMT=allowed_amounts,\n",
    "                               RESOLVED_AMT=paid_amounts)\n",
    "                           ).groupby(['CLM_NO', 'RCV_DT', 'SERV_DT', 'RESOLVED_DT'], as_index=False).sum()\n",
    "\n",
    "claim_data = claim_data.assign(CLM_NO_LN = lambda df: df.groupby(['CLM_NO']).SERV_DT.rank().astype(int))\n",
    "claim_data = claim_data[['CLM_NO', 'CLM_NO_LN', 'RCV_DT', 'SERV_DT', 'RESOLVED_DT', 'ALLOW_AMT', 'RESOLVED_AMT']]"
   ]
  },
  {
   "cell_type": "code",
   "execution_count": 7,
   "metadata": {},
   "outputs": [],
   "source": [
    "claim_data.to_csv('ClaimDataExample1.csv', index=False)"
   ]
  },
  {
   "cell_type": "code",
   "execution_count": 8,
   "metadata": {},
   "outputs": [],
   "source": [
    "claim_data.to_csv('ClaimDataExample2.csv', index=False)"
   ]
  },
  {
   "cell_type": "code",
   "execution_count": 9,
   "metadata": {},
   "outputs": [],
   "source": [
    "claim_data.to_csv('ClaimDataExample3.csv', index=False)"
   ]
  },
  {
   "cell_type": "markdown",
   "metadata": {},
   "source": [
    "# Control Table Generator"
   ]
  },
  {
   "cell_type": "code",
   "execution_count": 10,
   "metadata": {},
   "outputs": [],
   "source": [
    "control_data = claim_data.agg(['sum', 'count']).T.reset_index().rename(columns={'index':'ColumnName', 'sum':'Sum', 'count':'Count'})"
   ]
  },
  {
   "cell_type": "code",
   "execution_count": 11,
   "metadata": {},
   "outputs": [],
   "source": [
    "control_data.to_csv('ControlDataExample.csv', index=False)"
   ]
  },
  {
   "cell_type": "markdown",
   "metadata": {},
   "source": [
    "# Membership Table Generator"
   ]
  },
  {
   "cell_type": "code",
   "execution_count": 12,
   "metadata": {},
   "outputs": [],
   "source": [
    "member_dates = pd.date_range('2017-01-01', pd.datetime.now(), freq='MS')\n",
    "member_quantity = pd.np.random.randint(0, 2500000, len(member_dates))"
   ]
  },
  {
   "cell_type": "code",
   "execution_count": 13,
   "metadata": {},
   "outputs": [],
   "source": [
    "member_data = pd.DataFrame(dict(MEM_MONTH=member_dates, \n",
    "                                 MEM_QTY=member_quantity))"
   ]
  },
  {
   "cell_type": "code",
   "execution_count": 14,
   "metadata": {},
   "outputs": [],
   "source": [
    "member_data.to_csv('MemberDataExample.csv', index=False)"
   ]
  },
  {
   "cell_type": "markdown",
   "metadata": {},
   "source": [
    "# Header Table Generator"
   ]
  },
  {
   "cell_type": "code",
   "execution_count": 15,
   "metadata": {},
   "outputs": [
    {
     "data": {
      "text/html": [
       "<div>\n",
       "<style scoped>\n",
       "    .dataframe tbody tr th:only-of-type {\n",
       "        vertical-align: middle;\n",
       "    }\n",
       "\n",
       "    .dataframe tbody tr th {\n",
       "        vertical-align: top;\n",
       "    }\n",
       "\n",
       "    .dataframe thead th {\n",
       "        text-align: right;\n",
       "    }\n",
       "</style>\n",
       "<table border=\"1\" class=\"dataframe\">\n",
       "  <thead>\n",
       "    <tr style=\"text-align: right;\">\n",
       "      <th></th>\n",
       "      <th>CLM_NO</th>\n",
       "      <th>CLM_NO_LN</th>\n",
       "      <th>RCV_DT</th>\n",
       "      <th>SERV_DT</th>\n",
       "      <th>RESOLVED_DT</th>\n",
       "      <th>ALLOW_AMT</th>\n",
       "      <th>RESOLVED_AMT</th>\n",
       "    </tr>\n",
       "  </thead>\n",
       "  <tbody>\n",
       "    <tr>\n",
       "      <th>0</th>\n",
       "      <td>10000000</td>\n",
       "      <td>1</td>\n",
       "      <td>2017-02-04</td>\n",
       "      <td>2017-02-14</td>\n",
       "      <td>2017-03-16</td>\n",
       "      <td>63.067049</td>\n",
       "      <td>8.829387</td>\n",
       "    </tr>\n",
       "    <tr>\n",
       "      <th>1</th>\n",
       "      <td>10000000</td>\n",
       "      <td>2</td>\n",
       "      <td>2017-07-08</td>\n",
       "      <td>2017-07-18</td>\n",
       "      <td>2017-08-17</td>\n",
       "      <td>25.395067</td>\n",
       "      <td>3.555309</td>\n",
       "    </tr>\n",
       "    <tr>\n",
       "      <th>2</th>\n",
       "      <td>10000000</td>\n",
       "      <td>3</td>\n",
       "      <td>2017-09-15</td>\n",
       "      <td>2017-09-25</td>\n",
       "      <td>2017-10-25</td>\n",
       "      <td>901.775762</td>\n",
       "      <td>126.248607</td>\n",
       "    </tr>\n",
       "    <tr>\n",
       "      <th>3</th>\n",
       "      <td>10000000</td>\n",
       "      <td>4</td>\n",
       "      <td>2018-03-03</td>\n",
       "      <td>2018-03-13</td>\n",
       "      <td>2018-04-12</td>\n",
       "      <td>967.199097</td>\n",
       "      <td>135.407874</td>\n",
       "    </tr>\n",
       "    <tr>\n",
       "      <th>4</th>\n",
       "      <td>10000000</td>\n",
       "      <td>5</td>\n",
       "      <td>2018-08-04</td>\n",
       "      <td>2018-08-14</td>\n",
       "      <td>2018-09-13</td>\n",
       "      <td>325.940441</td>\n",
       "      <td>45.631662</td>\n",
       "    </tr>\n",
       "  </tbody>\n",
       "</table>\n",
       "</div>"
      ],
      "text/plain": [
       "     CLM_NO  CLM_NO_LN     RCV_DT    SERV_DT RESOLVED_DT   ALLOW_AMT  \\\n",
       "0  10000000          1 2017-02-04 2017-02-14  2017-03-16   63.067049   \n",
       "1  10000000          2 2017-07-08 2017-07-18  2017-08-17   25.395067   \n",
       "2  10000000          3 2017-09-15 2017-09-25  2017-10-25  901.775762   \n",
       "3  10000000          4 2018-03-03 2018-03-13  2018-04-12  967.199097   \n",
       "4  10000000          5 2018-08-04 2018-08-14  2018-09-13  325.940441   \n",
       "\n",
       "   RESOLVED_AMT  \n",
       "0      8.829387  \n",
       "1      3.555309  \n",
       "2    126.248607  \n",
       "3    135.407874  \n",
       "4     45.631662  "
      ]
     },
     "execution_count": 15,
     "metadata": {},
     "output_type": "execute_result"
    }
   ],
   "source": [
    "claim_data.head()"
   ]
  },
  {
   "cell_type": "code",
   "execution_count": 16,
   "metadata": {},
   "outputs": [],
   "source": [
    "header_claim_number = claim_data.CLM_NO.unique()\n",
    "lob = ['Broad PPO', 'Narrow', 'Centers of Excellence', 'Value-Based Care']\n",
    "lob = pd.np.random.choice(lob, len(header_claim_number))\n",
    "header_data = pd.DataFrame(dict(CLM_NO=header_claim_number, LOB_NAME=lob))"
   ]
  },
  {
   "cell_type": "code",
   "execution_count": 17,
   "metadata": {},
   "outputs": [],
   "source": [
    "header_data.to_csv('HeaderDataExample.csv', index=False)"
   ]
  }
 ],
 "metadata": {
  "kernelspec": {
   "display_name": "Python 3",
   "language": "python",
   "name": "python3"
  },
  "language_info": {
   "codemirror_mode": {
    "name": "ipython",
    "version": 3
   },
   "file_extension": ".py",
   "mimetype": "text/x-python",
   "name": "python",
   "nbconvert_exporter": "python",
   "pygments_lexer": "ipython3",
   "version": "3.7.3"
  }
 },
 "nbformat": 4,
 "nbformat_minor": 4
}
