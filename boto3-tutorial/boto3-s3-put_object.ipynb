{
 "cells": [
  {
   "cell_type": "markdown",
   "metadata": {},
   "source": [
    "\n",
    "NOTE: This tutorial assumes credentials are already configured. If they are not configured refer to the boto3-s3-credentials notebook."
   ]
  },
  {
   "cell_type": "markdown",
   "metadata": {},
   "source": [
    "# Learning Objectives:\n",
    "- In this tutorial, you will learn how to create folders in s3 buckets."
   ]
  },
  {
   "cell_type": "code",
   "execution_count": 3,
   "metadata": {},
   "outputs": [],
   "source": [
    "import boto3\n",
    "import random"
   ]
  },
  {
   "cell_type": "markdown",
   "metadata": {},
   "source": [
    "# Generating the Bucket Name"
   ]
  },
  {
   "cell_type": "code",
   "execution_count": 6,
   "metadata": {},
   "outputs": [],
   "source": [
    "bucket_id = random.randint(0, 10000000)\n",
    "bucket_name = \"mybucket\" + str(bucket_id)"
   ]
  },
  {
   "cell_type": "markdown",
   "metadata": {},
   "source": [
    "# Starting Client"
   ]
  },
  {
   "cell_type": "code",
   "execution_count": 7,
   "metadata": {},
   "outputs": [],
   "source": [
    "client = boto3.client('s3')"
   ]
  },
  {
   "cell_type": "markdown",
   "metadata": {},
   "source": [
    "# Creating Bucket"
   ]
  },
  {
   "cell_type": "code",
   "execution_count": 8,
   "metadata": {},
   "outputs": [
    {
     "data": {
      "text/plain": [
       "{'ResponseMetadata': {'RequestId': '0867D093439864C4',\n",
       "  'HostId': 'jS+MQqEXB1hCRC+vmpex+Rr1fmgBA68K+i42CuAcx9tkuAeDB0scHozQiNyNCe6iH77sHiKJ1Nw=',\n",
       "  'HTTPStatusCode': 200,\n",
       "  'HTTPHeaders': {'x-amz-id-2': 'jS+MQqEXB1hCRC+vmpex+Rr1fmgBA68K+i42CuAcx9tkuAeDB0scHozQiNyNCe6iH77sHiKJ1Nw=',\n",
       "   'x-amz-request-id': '0867D093439864C4',\n",
       "   'date': 'Sun, 10 Nov 2019 05:48:06 GMT',\n",
       "   'location': '/mybucket5384518',\n",
       "   'content-length': '0',\n",
       "   'server': 'AmazonS3'},\n",
       "  'RetryAttempts': 0},\n",
       " 'Location': '/mybucket5384518'}"
      ]
     },
     "execution_count": 8,
     "metadata": {},
     "output_type": "execute_result"
    }
   ],
   "source": [
    "client.create_bucket(Bucket=bucket_name)"
   ]
  },
  {
   "cell_type": "markdown",
   "metadata": {},
   "source": [
    "# Creating New Folder"
   ]
  },
  {
   "cell_type": "code",
   "execution_count": 14,
   "metadata": {},
   "outputs": [
    {
     "data": {
      "text/plain": [
       "{'ResponseMetadata': {'RequestId': '4AAFAF2F996592A3',\n",
       "  'HostId': 'ubSoKEBaavG1QutAxQatcBJTHKqqBky3oElfQNQ0s52QtTSZ0jxo63HbKT+XVM+8M2LkfE5lwmk=',\n",
       "  'HTTPStatusCode': 200,\n",
       "  'HTTPHeaders': {'x-amz-id-2': 'ubSoKEBaavG1QutAxQatcBJTHKqqBky3oElfQNQ0s52QtTSZ0jxo63HbKT+XVM+8M2LkfE5lwmk=',\n",
       "   'x-amz-request-id': '4AAFAF2F996592A3',\n",
       "   'date': 'Sun, 10 Nov 2019 05:50:08 GMT',\n",
       "   'etag': '\"d41d8cd98f00b204e9800998ecf8427e\"',\n",
       "   'content-length': '0',\n",
       "   'server': 'AmazonS3'},\n",
       "  'RetryAttempts': 0},\n",
       " 'ETag': '\"d41d8cd98f00b204e9800998ecf8427e\"'}"
      ]
     },
     "execution_count": 14,
     "metadata": {},
     "output_type": "execute_result"
    }
   ],
   "source": [
    "client.put_object(Bucket=bucket_name, Key='newfolder/')"
   ]
  },
  {
   "cell_type": "markdown",
   "metadata": {},
   "source": [
    "# Deleting New Folder"
   ]
  },
  {
   "cell_type": "code",
   "execution_count": 15,
   "metadata": {},
   "outputs": [
    {
     "data": {
      "text/plain": [
       "{'ResponseMetadata': {'RequestId': '32BA235ECE214887',\n",
       "  'HostId': 'hM4lZUCiiy0LXoAppDFzpQF1NFYsPJ/fa3WuRnpFMUpCMp+ziauhl8eld9kGS+WmaqtBRBSS46k=',\n",
       "  'HTTPStatusCode': 204,\n",
       "  'HTTPHeaders': {'x-amz-id-2': 'hM4lZUCiiy0LXoAppDFzpQF1NFYsPJ/fa3WuRnpFMUpCMp+ziauhl8eld9kGS+WmaqtBRBSS46k=',\n",
       "   'x-amz-request-id': '32BA235ECE214887',\n",
       "   'date': 'Sun, 10 Nov 2019 05:50:46 GMT',\n",
       "   'server': 'AmazonS3'},\n",
       "  'RetryAttempts': 0}}"
      ]
     },
     "execution_count": 15,
     "metadata": {},
     "output_type": "execute_result"
    }
   ],
   "source": [
    "client.delete_object(Bucket=bucket_name, Key='newfolder/')"
   ]
  },
  {
   "cell_type": "markdown",
   "metadata": {},
   "source": [
    "# Deleting Bucket"
   ]
  },
  {
   "cell_type": "code",
   "execution_count": 16,
   "metadata": {},
   "outputs": [
    {
     "data": {
      "text/plain": [
       "{'ResponseMetadata': {'RequestId': 'F6BEEEA8DDBD7301',\n",
       "  'HostId': 'tQ+y6vMlpByIOlo0iyS/YLch0raIWTsKMqXKkUAF6to0oDVQyRwlXJVkWPiFL0hBh0TtSBSmK6U=',\n",
       "  'HTTPStatusCode': 204,\n",
       "  'HTTPHeaders': {'x-amz-id-2': 'tQ+y6vMlpByIOlo0iyS/YLch0raIWTsKMqXKkUAF6to0oDVQyRwlXJVkWPiFL0hBh0TtSBSmK6U=',\n",
       "   'x-amz-request-id': 'F6BEEEA8DDBD7301',\n",
       "   'date': 'Sun, 10 Nov 2019 05:51:03 GMT',\n",
       "   'server': 'AmazonS3'},\n",
       "  'RetryAttempts': 0}}"
      ]
     },
     "execution_count": 16,
     "metadata": {},
     "output_type": "execute_result"
    }
   ],
   "source": [
    "client.delete_bucket(Bucket=bucket_name)"
   ]
  },
  {
   "cell_type": "markdown",
   "metadata": {},
   "source": [
    "![awesome](http://www.schoolofhardrocks.org/sohrauditorium/wp-content/uploads/2013/02/whos-awesome.jpg)"
   ]
  }
 ],
 "metadata": {
  "kernelspec": {
   "display_name": "Python 3",
   "language": "python",
   "name": "python3"
  },
  "language_info": {
   "codemirror_mode": {
    "name": "ipython",
    "version": 3
   },
   "file_extension": ".py",
   "mimetype": "text/x-python",
   "name": "python",
   "nbconvert_exporter": "python",
   "pygments_lexer": "ipython3",
   "version": "3.7.3"
  }
 },
 "nbformat": 4,
 "nbformat_minor": 4
}
