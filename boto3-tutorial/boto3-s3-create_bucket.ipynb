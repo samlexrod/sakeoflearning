{
 "cells": [
  {
   "cell_type": "markdown",
   "metadata": {},
   "source": [
    "**NOTE:** This tutorial assumes credentials are already configured. If they are not configured refer to the boto3-s3-credentials notebook."
   ]
  },
  {
   "cell_type": "markdown",
   "metadata": {},
   "source": [
    "# Imports"
   ]
  },
  {
   "cell_type": "code",
   "execution_count": 6,
   "metadata": {},
   "outputs": [],
   "source": [
    "import boto3\n",
    "import random"
   ]
  },
  {
   "cell_type": "markdown",
   "metadata": {},
   "source": [
    "# Creating Bucket Id"
   ]
  },
  {
   "cell_type": "code",
   "execution_count": 13,
   "metadata": {},
   "outputs": [],
   "source": [
    "bucket_id = str(random.randint(0, 1000000))\n",
    "bucket_name = \"mybucket\" + bucket_id"
   ]
  },
  {
   "cell_type": "markdown",
   "metadata": {},
   "source": [
    "# Example from Session"
   ]
  },
  {
   "cell_type": "code",
   "execution_count": 27,
   "metadata": {},
   "outputs": [],
   "source": [
    "session = boto3.Session()"
   ]
  },
  {
   "cell_type": "code",
   "execution_count": 29,
   "metadata": {},
   "outputs": [],
   "source": [
    "client = session.client('s3')"
   ]
  },
  {
   "cell_type": "code",
   "execution_count": 30,
   "metadata": {},
   "outputs": [
    {
     "data": {
      "text/plain": [
       "{'ResponseMetadata': {'RequestId': '833BD41AC57D0310',\n",
       "  'HostId': 'UobC5i78j38yRmag6xlJ6545dUq0+qjyw01JsvOsIzujX013qMZUv8Yc7KflcktHc+Hg/E/LWz4=',\n",
       "  'HTTPStatusCode': 200,\n",
       "  'HTTPHeaders': {'x-amz-id-2': 'UobC5i78j38yRmag6xlJ6545dUq0+qjyw01JsvOsIzujX013qMZUv8Yc7KflcktHc+Hg/E/LWz4=',\n",
       "   'x-amz-request-id': '833BD41AC57D0310',\n",
       "   'date': 'Sun, 10 Nov 2019 05:41:27 GMT',\n",
       "   'location': '/mybucket797231',\n",
       "   'content-length': '0',\n",
       "   'server': 'AmazonS3'},\n",
       "  'RetryAttempts': 0},\n",
       " 'Location': '/mybucket797231'}"
      ]
     },
     "execution_count": 30,
     "metadata": {},
     "output_type": "execute_result"
    }
   ],
   "source": [
    "client.create_bucket(Bucket=bucket_name)"
   ]
  },
  {
   "cell_type": "code",
   "execution_count": 31,
   "metadata": {},
   "outputs": [
    {
     "data": {
      "text/plain": [
       "{'ResponseMetadata': {'RequestId': 'C1408F594F84E776',\n",
       "  'HostId': 'w7+0nTowOFPxi8VrjBtmSnXJYrG5JKr3NNgm0y4ufAD/wyw5+tqGF8fBfChEqT710e3cw6UX2vg=',\n",
       "  'HTTPStatusCode': 204,\n",
       "  'HTTPHeaders': {'x-amz-id-2': 'w7+0nTowOFPxi8VrjBtmSnXJYrG5JKr3NNgm0y4ufAD/wyw5+tqGF8fBfChEqT710e3cw6UX2vg=',\n",
       "   'x-amz-request-id': 'C1408F594F84E776',\n",
       "   'date': 'Sun, 10 Nov 2019 05:41:44 GMT',\n",
       "   'server': 'AmazonS3'},\n",
       "  'RetryAttempts': 0}}"
      ]
     },
     "execution_count": 31,
     "metadata": {},
     "output_type": "execute_result"
    }
   ],
   "source": [
    "client.delete_bucket(Bucket=bucket_name)"
   ]
  },
  {
   "cell_type": "markdown",
   "metadata": {},
   "source": [
    "# Example from Resource"
   ]
  },
  {
   "cell_type": "code",
   "execution_count": 32,
   "metadata": {},
   "outputs": [],
   "source": [
    "resource = boto3.resource('s3')"
   ]
  },
  {
   "cell_type": "code",
   "execution_count": 33,
   "metadata": {},
   "outputs": [
    {
     "data": {
      "text/plain": [
       "{'ResponseMetadata': {'RequestId': 'D2AEB4AE5EDE4CBA',\n",
       "  'HostId': 'n9POzD7KDPSm3Mb3Wn6SrAyB4y5B+4JPdO+YEOXymxAjMIfpT3pdIsKYDK68WCvOQb+GnhdRaQI=',\n",
       "  'HTTPStatusCode': 200,\n",
       "  'HTTPHeaders': {'x-amz-id-2': 'n9POzD7KDPSm3Mb3Wn6SrAyB4y5B+4JPdO+YEOXymxAjMIfpT3pdIsKYDK68WCvOQb+GnhdRaQI=',\n",
       "   'x-amz-request-id': 'D2AEB4AE5EDE4CBA',\n",
       "   'date': 'Sun, 10 Nov 2019 05:41:52 GMT',\n",
       "   'location': '/mybucket797231',\n",
       "   'content-length': '0',\n",
       "   'server': 'AmazonS3'},\n",
       "  'RetryAttempts': 0},\n",
       " 'Location': '/mybucket797231'}"
      ]
     },
     "execution_count": 33,
     "metadata": {},
     "output_type": "execute_result"
    }
   ],
   "source": [
    "resource.meta.client.create_bucket(Bucket=\"mybucket\"+bucket_id)"
   ]
  },
  {
   "cell_type": "code",
   "execution_count": 34,
   "metadata": {},
   "outputs": [
    {
     "data": {
      "text/plain": [
       "{'ResponseMetadata': {'RequestId': '6C4C65398C550C36',\n",
       "  'HostId': 'WCuzSUqbVH83EOWX79b/ZrEiZ1n5X7dY3HknOAGH5zfEsFhYdMyS7Pomm4J6vUCsfYdzlBHR/vU=',\n",
       "  'HTTPStatusCode': 204,\n",
       "  'HTTPHeaders': {'x-amz-id-2': 'WCuzSUqbVH83EOWX79b/ZrEiZ1n5X7dY3HknOAGH5zfEsFhYdMyS7Pomm4J6vUCsfYdzlBHR/vU=',\n",
       "   'x-amz-request-id': '6C4C65398C550C36',\n",
       "   'date': 'Sun, 10 Nov 2019 05:41:54 GMT',\n",
       "   'server': 'AmazonS3'},\n",
       "  'RetryAttempts': 0}}"
      ]
     },
     "execution_count": 34,
     "metadata": {},
     "output_type": "execute_result"
    }
   ],
   "source": [
    "resource.meta.client.delete_bucket(Bucket=bucket_name)"
   ]
  },
  {
   "cell_type": "markdown",
   "metadata": {},
   "source": [
    "# Example from Client"
   ]
  },
  {
   "cell_type": "code",
   "execution_count": 35,
   "metadata": {},
   "outputs": [],
   "source": [
    "client = boto3.client('s3')"
   ]
  },
  {
   "cell_type": "code",
   "execution_count": 37,
   "metadata": {},
   "outputs": [
    {
     "data": {
      "text/plain": [
       "{'ResponseMetadata': {'RequestId': '7DDF91B4802080A6',\n",
       "  'HostId': '6QQW6ht/hjd/qmcGzFRc+TRO5NrDmV3ZGG5farrT3RdT01aHjSnRS2fxdK66bimH9XVpWyFCVsQ=',\n",
       "  'HTTPStatusCode': 200,\n",
       "  'HTTPHeaders': {'x-amz-id-2': '6QQW6ht/hjd/qmcGzFRc+TRO5NrDmV3ZGG5farrT3RdT01aHjSnRS2fxdK66bimH9XVpWyFCVsQ=',\n",
       "   'x-amz-request-id': '7DDF91B4802080A6',\n",
       "   'date': 'Sun, 10 Nov 2019 05:42:12 GMT',\n",
       "   'location': '/mybucket797231',\n",
       "   'content-length': '0',\n",
       "   'server': 'AmazonS3'},\n",
       "  'RetryAttempts': 0},\n",
       " 'Location': '/mybucket797231'}"
      ]
     },
     "execution_count": 37,
     "metadata": {},
     "output_type": "execute_result"
    }
   ],
   "source": [
    "client.create_bucket(Bucket=bucket_name)"
   ]
  },
  {
   "cell_type": "code",
   "execution_count": 38,
   "metadata": {},
   "outputs": [
    {
     "data": {
      "text/plain": [
       "{'ResponseMetadata': {'RequestId': 'EBB5821C45F0EEEE',\n",
       "  'HostId': 'PU4kDtnnxUQufC+OIL2CtS1A8vQL7p17OqmT9nmaqjqyiYzegXY0DNnaF48lWb9THJ2cROCnM4A=',\n",
       "  'HTTPStatusCode': 204,\n",
       "  'HTTPHeaders': {'x-amz-id-2': 'PU4kDtnnxUQufC+OIL2CtS1A8vQL7p17OqmT9nmaqjqyiYzegXY0DNnaF48lWb9THJ2cROCnM4A=',\n",
       "   'x-amz-request-id': 'EBB5821C45F0EEEE',\n",
       "   'date': 'Sun, 10 Nov 2019 05:42:12 GMT',\n",
       "   'server': 'AmazonS3'},\n",
       "  'RetryAttempts': 0}}"
      ]
     },
     "execution_count": 38,
     "metadata": {},
     "output_type": "execute_result"
    }
   ],
   "source": [
    "client.delete_bucket(Bucket=bucket_name)"
   ]
  },
  {
   "cell_type": "markdown",
   "metadata": {},
   "source": [
    "![awesome](http://www.schoolofhardrocks.org/sohrauditorium/wp-content/uploads/2013/02/whos-awesome.jpg)"
   ]
  },
  {
   "cell_type": "code",
   "execution_count": null,
   "metadata": {},
   "outputs": [],
   "source": []
  }
 ],
 "metadata": {
  "kernelspec": {
   "display_name": "Python 3",
   "language": "python",
   "name": "python3"
  },
  "language_info": {
   "codemirror_mode": {
    "name": "ipython",
    "version": 3
   },
   "file_extension": ".py",
   "mimetype": "text/x-python",
   "name": "python",
   "nbconvert_exporter": "python",
   "pygments_lexer": "ipython3",
   "version": "3.7.3"
  }
 },
 "nbformat": 4,
 "nbformat_minor": 4
}
