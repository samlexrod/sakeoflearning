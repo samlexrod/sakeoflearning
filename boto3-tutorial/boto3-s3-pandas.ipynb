{
 "cells": [
  {
   "cell_type": "code",
   "execution_count": 1,
   "metadata": {},
   "outputs": [],
   "source": [
    "import boto3"
   ]
  },
  {
   "cell_type": "code",
   "execution_count": 2,
   "metadata": {},
   "outputs": [],
   "source": [
    "client = boto3.client('s3')"
   ]
  },
  {
   "cell_type": "code",
   "execution_count": 5,
   "metadata": {},
   "outputs": [],
   "source": [
    "contents = client.list_objects_v2(Bucket='prospect-raw-files')['Contents']"
   ]
  },
  {
   "cell_type": "code",
   "execution_count": 13,
   "metadata": {},
   "outputs": [
    {
     "data": {
      "text/plain": [
       "['bcma/rd2019-01-01/claimdata/ClaimDataExample1.csv',\n",
       " 'bcma/rd2019-01-01/claimdata/ClaimDataExample2.csv',\n",
       " 'bcma/rd2019-01-01/claimdata/ClaimDataExample3.csv',\n",
       " 'bcma/rd2019-02-01/claimdata/ClaimDataExample1.csv',\n",
       " 'bcma/rd2019-02-01/claimdata/ClaimDataExample2.csv',\n",
       " 'bcma/rd2019-02-01/claimdata/ClaimDataExample3.csv',\n",
       " 'bcma/rd2019-02-01/claimdata/ClaimDataExample_Uneven.csv',\n",
       " 'bcma/rd2019-03-01/claimdata/dimension/HeaderDataExample.csv',\n",
       " 'bcma/rd2019-03-01/claimdata/fact/ClaimDataExample1.csv',\n",
       " 'bcma/rd2019-03-01/claimdata/fact/ClaimDataExample2.csv',\n",
       " 'bcma/rd2019-03-01/claimdata/fact/ClaimDataExample3.csv']"
      ]
     },
     "execution_count": 13,
     "metadata": {},
     "output_type": "execute_result"
    }
   ],
   "source": [
    "list(filter(lambda x: ('claimdata' in x) & ('.csv' in x), [x.get('Key') for x in contents]))"
   ]
  },
  {
   "cell_type": "code",
   "execution_count": null,
   "metadata": {},
   "outputs": [],
   "source": [
    "df = pd.DataFrame()\n",
    "for file in flat_files:\n",
    "    print(file)\n",
    "    dfx = pd.read_csv(file)\n",
    "    df = pd.concat([df, dfx], axis=0, sort=True)\n",
    "df"
   ]
  }
 ],
 "metadata": {
  "kernelspec": {
   "display_name": "Python 3",
   "language": "python",
   "name": "python3"
  },
  "language_info": {
   "codemirror_mode": {
    "name": "ipython",
    "version": 3
   },
   "file_extension": ".py",
   "mimetype": "text/x-python",
   "name": "python",
   "nbconvert_exporter": "python",
   "pygments_lexer": "ipython3",
   "version": "3.7.3"
  }
 },
 "nbformat": 4,
 "nbformat_minor": 4
}
