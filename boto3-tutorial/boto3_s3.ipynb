{
 "cells": [
  {
   "cell_type": "markdown",
   "metadata": {},
   "source": [
    "# Install Dependencies"
   ]
  },
  {
   "cell_type": "markdown",
   "metadata": {},
   "source": [
    "\"Change this markdown to cell by pressing y if outside the cell or Esc + y if in the cell\"\n",
    "\n",
    "!pip install boto3\n",
    "!pip install awscli"
   ]
  },
  {
   "cell_type": "markdown",
   "metadata": {},
   "source": [
    "# Import Packages"
   ]
  },
  {
   "cell_type": "code",
   "execution_count": 1,
   "metadata": {},
   "outputs": [],
   "source": [
    "import boto3\n",
    "import os"
   ]
  },
  {
   "cell_type": "markdown",
   "metadata": {},
   "source": [
    "# Configurations"
   ]
  },
  {
   "cell_type": "markdown",
   "metadata": {},
   "source": [
    "On the command promt type: \n",
    "```cmd\n",
    "...>aws configure \n",
    "```\n",
    "\n",
    "1. Go to YourUserName on the aws navigation bar to the right and click the downward carrot.\n",
    "2. Choose my security credentials.\n",
    "3. Under the Access keys (access key ID and secret access key), Create New Access Key\n",
    "3. Download Key File. Note: aws will not show the Secret Access Key again (keep it safe)\n",
    "\n",
    "Big Note: As a best practice, we recommend creating an IAM user that has access keys rather than relying on root access keys.\n",
    "\n",
    "```cmd\n",
    "...>aws configure\n",
    "AWS Access Key ID [None]: type or paste your aws access key id here\n",
    "AWS Secret Access Key [None]: type or paste your secret access key here\n",
    "Default region name [None]: leave this blank (stop typing and leave it blank)\n",
    "Default output format [None]: leave this blank (stop typing and leave it blank)\n",
    "```\n",
    "\n",
    "You are goo to go!"
   ]
  },
  {
   "cell_type": "markdown",
   "metadata": {},
   "source": [
    "# Create Example File"
   ]
  },
  {
   "cell_type": "code",
   "execution_count": 2,
   "metadata": {},
   "outputs": [],
   "source": [
    "with open('test_file.txt', 'w+') as f:\n",
    "    f.write(\"This is a test to s3 \\nThis file was uploaded, deleted, and downloaded from s3\")\n",
    "    f.close()"
   ]
  },
  {
   "cell_type": "markdown",
   "metadata": {},
   "source": [
    "# Create Session"
   ]
  },
  {
   "cell_type": "code",
   "execution_count": 3,
   "metadata": {},
   "outputs": [],
   "source": [
    "session = boto3.Session(profile_name='default')"
   ]
  },
  {
   "cell_type": "markdown",
   "metadata": {},
   "source": [
    "# Create the S3 Client"
   ]
  },
  {
   "cell_type": "code",
   "execution_count": 4,
   "metadata": {},
   "outputs": [],
   "source": [
    "s3_client = session.resource('s3')"
   ]
  },
  {
   "cell_type": "markdown",
   "metadata": {},
   "source": [
    "# Create a Bucket"
   ]
  },
  {
   "cell_type": "code",
   "execution_count": 5,
   "metadata": {},
   "outputs": [
    {
     "name": "stdout",
     "output_type": "stream",
     "text": [
      "Your bucket was created.\n"
     ]
    }
   ],
   "source": [
    "s3_client.create_bucket(Bucket=\"mybucket12348\")\n",
    "print(\"Your bucket was created.\")"
   ]
  },
  {
   "cell_type": "markdown",
   "metadata": {},
   "source": [
    "# Upload Example File"
   ]
  },
  {
   "cell_type": "markdown",
   "metadata": {},
   "source": [
    "## - Using the path"
   ]
  },
  {
   "cell_type": "code",
   "execution_count": 6,
   "metadata": {},
   "outputs": [
    {
     "name": "stdout",
     "output_type": "stream",
     "text": [
      "Your file was uploaded from path.\n"
     ]
    }
   ],
   "source": [
    "s3_client.meta.client.upload_file('test_file.txt', 'mybucket12348', 'from_path.txt')\n",
    "print(\"Your file was uploaded from path.\")"
   ]
  },
  {
   "cell_type": "markdown",
   "metadata": {},
   "source": [
    "## - Using the object"
   ]
  },
  {
   "cell_type": "code",
   "execution_count": 7,
   "metadata": {},
   "outputs": [
    {
     "name": "stdout",
     "output_type": "stream",
     "text": [
      "Your file was uploaded from an object.\n"
     ]
    }
   ],
   "source": [
    "with open('test_file.txt', 'rb') as file:\n",
    "    s3_client.meta.client.upload_fileobj(file, 'mybucket12348', 'from_object.txt')\n",
    "print(\"Your file was uploaded from an object.\")"
   ]
  },
  {
   "cell_type": "markdown",
   "metadata": {},
   "source": [
    "# Upload and Delete File from S3"
   ]
  },
  {
   "cell_type": "markdown",
   "metadata": {},
   "source": [
    "## - Create the File to Delete"
   ]
  },
  {
   "cell_type": "code",
   "execution_count": 8,
   "metadata": {},
   "outputs": [
    {
     "name": "stdout",
     "output_type": "stream",
     "text": [
      "Your file is ready to be deleted.\n"
     ]
    }
   ],
   "source": [
    "s3_client.meta.client.upload_file('test_file.txt', 'mybucket12348', 'delete_me.txt')\n",
    "print(\"Your file is ready to be deleted.\")"
   ]
  },
  {
   "cell_type": "markdown",
   "metadata": {},
   "source": [
    "## - Delete the File"
   ]
  },
  {
   "cell_type": "code",
   "execution_count": 9,
   "metadata": {},
   "outputs": [
    {
     "name": "stdout",
     "output_type": "stream",
     "text": [
      "Your file just disapeared. Magic!\n"
     ]
    }
   ],
   "source": [
    "file = s3_client.Object('mybucket12348', 'delete_me.txt')\n",
    "_ = file.delete()\n",
    "print(\"Your file just disapeared. Magic!\")"
   ]
  },
  {
   "cell_type": "markdown",
   "metadata": {},
   "source": [
    "# Download Files"
   ]
  },
  {
   "cell_type": "code",
   "execution_count": 10,
   "metadata": {},
   "outputs": [],
   "source": [
    "s3_client.meta.client.download_file('mybucket12348', 'from_path.txt', 'download.txt')"
   ]
  },
  {
   "cell_type": "code",
   "execution_count": 11,
   "metadata": {},
   "outputs": [
    {
     "name": "stdout",
     "output_type": "stream",
     "text": [
      "This is a test to s3 \n",
      "This file was uploaded, deleted, and downloaded from s3\n"
     ]
    }
   ],
   "source": [
    "with open('download.txt', 'r+') as f:\n",
    "    read = f.read()\n",
    "    print(read)"
   ]
  },
  {
   "cell_type": "markdown",
   "metadata": {},
   "source": [
    "# Delete the Whole Bucket"
   ]
  },
  {
   "cell_type": "markdown",
   "metadata": {},
   "source": [
    "## - Get the Bucket Names"
   ]
  },
  {
   "cell_type": "code",
   "execution_count": 12,
   "metadata": {},
   "outputs": [
    {
     "data": {
      "text/plain": [
       "[{'Name': 'mybucket12348',\n",
       "  'CreationDate': datetime.datetime(2019, 10, 12, 22, 8, 16, tzinfo=tzutc())}]"
      ]
     },
     "execution_count": 12,
     "metadata": {},
     "output_type": "execute_result"
    }
   ],
   "source": [
    "s3_client.meta.client.list_buckets().get('Buckets')"
   ]
  },
  {
   "cell_type": "markdown",
   "metadata": {},
   "source": [
    "## - Delete the Bucket"
   ]
  },
  {
   "cell_type": "code",
   "execution_count": 13,
   "metadata": {},
   "outputs": [
    {
     "name": "stdout",
     "output_type": "stream",
     "text": [
      "deleteing mybucket12348 from_object.txt\n",
      "deleteing mybucket12348 from_path.txt\n",
      "deleting bucket mybucket12348\n"
     ]
    }
   ],
   "source": [
    "bucket = s3_client.Bucket('mybucket12348')\n",
    "\n",
    "# the Prefix is the specific folder\n",
    "for obj in bucket.objects.filter(Prefix=''):\n",
    "    print('deleteing', obj.bucket_name, obj.key)\n",
    "    file = s3_client.Object(obj.bucket_name, obj.key)\n",
    "    _ = file.delete()\n",
    "\n",
    "print('deleting bucket', bucket.name)\n",
    "_ = bucket.delete()"
   ]
  },
  {
   "cell_type": "markdown",
   "metadata": {},
   "source": [
    "![awesome](http://www.schoolofhardrocks.org/sohrauditorium/wp-content/uploads/2013/02/whos-awesome.jpg)"
   ]
  }
 ],
 "metadata": {
  "kernelspec": {
   "display_name": "Python 3",
   "language": "python",
   "name": "python3"
  },
  "language_info": {
   "codemirror_mode": {
    "name": "ipython",
    "version": 3
   },
   "file_extension": ".py",
   "mimetype": "text/x-python",
   "name": "python",
   "nbconvert_exporter": "python",
   "pygments_lexer": "ipython3",
   "version": "3.7.4"
  }
 },
 "nbformat": 4,
 "nbformat_minor": 2
}
