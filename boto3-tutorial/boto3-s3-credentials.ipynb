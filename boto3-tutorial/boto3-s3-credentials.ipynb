{
 "cells": [
  {
   "cell_type": "markdown",
   "metadata": {},
   "source": [
    "# Package Installations"
   ]
  },
  {
   "cell_type": "markdown",
   "metadata": {},
   "source": [
    "The first thing you need to do is to install **boto3** and **awscli**."
   ]
  },
  {
   "cell_type": "code",
   "execution_count": 3,
   "metadata": {},
   "outputs": [
    {
     "name": "stdout",
     "output_type": "stream",
     "text": [
      "Collecting boto3\n",
      "  Downloading https://files.pythonhosted.org/packages/7f/4f/880cb8ed7856bc6f7b1488210259bbd1155c68d3f0a972b0c90b54205e44/boto3-1.10.14-py2.py3-none-any.whl (128kB)\n",
      "Collecting s3transfer<0.3.0,>=0.2.0 (from boto3)\n",
      "  Downloading https://files.pythonhosted.org/packages/16/8a/1fc3dba0c4923c2a76e1ff0d52b305c44606da63f718d14d3231e21c51b0/s3transfer-0.2.1-py2.py3-none-any.whl (70kB)\n",
      "Collecting jmespath<1.0.0,>=0.7.1 (from boto3)\n",
      "  Downloading https://files.pythonhosted.org/packages/83/94/7179c3832a6d45b266ddb2aac329e101367fbdb11f425f13771d27f225bb/jmespath-0.9.4-py2.py3-none-any.whl\n",
      "Collecting botocore<1.14.0,>=1.13.14 (from boto3)\n",
      "  Downloading https://files.pythonhosted.org/packages/87/7b/9164e0fd67ced4919131f2bdf3507589a0059f9033feda92b83cc36dae71/botocore-1.13.14-py2.py3-none-any.whl (5.4MB)\n",
      "Requirement already satisfied: docutils<0.16,>=0.10 in c:\\users\\sammy\\anaconda3\\lib\\site-packages (from botocore<1.14.0,>=1.13.14->boto3) (0.14)\n",
      "Requirement already satisfied: python-dateutil<2.8.1,>=2.1; python_version >= \"2.7\" in c:\\users\\sammy\\anaconda3\\lib\\site-packages (from botocore<1.14.0,>=1.13.14->boto3) (2.8.0)\n",
      "Requirement already satisfied: urllib3<1.26,>=1.20; python_version >= \"3.4\" in c:\\users\\sammy\\anaconda3\\lib\\site-packages (from botocore<1.14.0,>=1.13.14->boto3) (1.24.2)\n",
      "Requirement already satisfied: six>=1.5 in c:\\users\\sammy\\anaconda3\\lib\\site-packages (from python-dateutil<2.8.1,>=2.1; python_version >= \"2.7\"->botocore<1.14.0,>=1.13.14->boto3) (1.12.0)\n",
      "Installing collected packages: jmespath, botocore, s3transfer, boto3\n",
      "Successfully installed boto3-1.10.14 botocore-1.13.14 jmespath-0.9.4 s3transfer-0.2.1\n"
     ]
    }
   ],
   "source": [
    "!pip install boto3"
   ]
  },
  {
   "cell_type": "code",
   "execution_count": 5,
   "metadata": {},
   "outputs": [
    {
     "name": "stdout",
     "output_type": "stream",
     "text": [
      "Collecting awscli\n",
      "  Downloading https://files.pythonhosted.org/packages/2e/89/d3dc5e0668ad1377b211897951e72437839b3fd0da055091221c5fe4158b/awscli-1.16.278-py2.py3-none-any.whl (2.4MB)\n",
      "Requirement already satisfied: colorama<0.4.2,>=0.2.5; python_version != \"2.6\" and python_version != \"3.3\" in c:\\users\\sammy\\anaconda3\\lib\\site-packages (from awscli) (0.4.1)\n",
      "Requirement already satisfied: PyYAML<5.2,>=3.10; python_version != \"2.6\" and python_version != \"3.3\" in c:\\users\\sammy\\anaconda3\\lib\\site-packages (from awscli) (5.1.1)\n",
      "Requirement already satisfied: s3transfer<0.3.0,>=0.2.0 in c:\\users\\sammy\\anaconda3\\lib\\site-packages (from awscli) (0.2.1)\n",
      "Requirement already satisfied: docutils<0.16,>=0.10 in c:\\users\\sammy\\anaconda3\\lib\\site-packages (from awscli) (0.14)\n",
      "Requirement already satisfied: botocore==1.13.14 in c:\\users\\sammy\\anaconda3\\lib\\site-packages (from awscli) (1.13.14)\n",
      "Collecting rsa<=3.5.0,>=3.1.2 (from awscli)\n",
      "  Downloading https://files.pythonhosted.org/packages/e1/ae/baedc9cb175552e95f3395c43055a6a5e125ae4d48a1d7a924baca83e92e/rsa-3.4.2-py2.py3-none-any.whl (46kB)\n",
      "Requirement already satisfied: urllib3<1.26,>=1.20; python_version >= \"3.4\" in c:\\users\\sammy\\anaconda3\\lib\\site-packages (from botocore==1.13.14->awscli) (1.24.2)\n",
      "Requirement already satisfied: jmespath<1.0.0,>=0.7.1 in c:\\users\\sammy\\anaconda3\\lib\\site-packages (from botocore==1.13.14->awscli) (0.9.4)\n",
      "Requirement already satisfied: python-dateutil<2.8.1,>=2.1; python_version >= \"2.7\" in c:\\users\\sammy\\anaconda3\\lib\\site-packages (from botocore==1.13.14->awscli) (2.8.0)\n",
      "Collecting pyasn1>=0.1.3 (from rsa<=3.5.0,>=3.1.2->awscli)\n",
      "  Downloading https://files.pythonhosted.org/packages/a1/71/8f0d444e3a74e5640a3d5d967c1c6b015da9c655f35b2d308a55d907a517/pyasn1-0.4.7-py2.py3-none-any.whl (76kB)\n",
      "Requirement already satisfied: six>=1.5 in c:\\users\\sammy\\anaconda3\\lib\\site-packages (from python-dateutil<2.8.1,>=2.1; python_version >= \"2.7\"->botocore==1.13.14->awscli) (1.12.0)\n",
      "Installing collected packages: pyasn1, rsa, awscli\n",
      "Successfully installed awscli-1.16.278 pyasn1-0.4.7 rsa-3.4.2\n"
     ]
    }
   ],
   "source": [
    "!pip install awscli"
   ]
  },
  {
   "cell_type": "code",
   "execution_count": 6,
   "metadata": {},
   "outputs": [
    {
     "name": "stdout",
     "output_type": "stream",
     "text": [
      "aws-cli/1.16.278 Python/3.7.3 Windows/10 botocore/1.13.14\n"
     ]
    }
   ],
   "source": [
    "!aws --version"
   ]
  },
  {
   "cell_type": "markdown",
   "metadata": {},
   "source": [
    "# Set Credentials"
   ]
  },
  {
   "cell_type": "markdown",
   "metadata": {},
   "source": [
    "## User Setup\n",
    "The first step to before setting credentials is to add a user:\n",
    "User:\n",
    "   1. Go to the IAM console and under user add a new user.\n",
    "   2. Enable an access key ID and secret access key for the AWS API, CLI, SDK, and other development tools\n",
    "   3. Enable a password that allows users to sign-in to the AWS Management Console.\n",
    "       - Select auto-generate and check user must create a new password at next sign-in\n",
    "Permissions:\n",
    "   1. Create a group\n",
    "   2. Name the group\n",
    "   3. Select the AmazonS3FullAccess at least for this example\n",
    "   4. Create the group\n",
    "Tags\n",
    "   1. Optional: Type the name of the tag to track charges.\n",
    "\n",
    "Finally, create user!  \n",
    "\n",
    "NOTE: Make sure to get the security key because there is no way to retrive it back per the given access key id.\n",
    "\n",
    "## AWS CLI Configuration\n",
    "   1. Open cmd\n",
    "   2. Type aws configure\n",
    "   3. Enter the access key of the user\n",
    "   4. Enter the secret security key of the user\n",
    "   5. Enter the default region\n",
    "   \n",
    "Your configuration is done!\n",
    "\n",
    "## Testing Configuration\n",
    "   1. In the cmd, type python\n",
    "   2. In the python kernel, type import boto3\n",
    "   3. Set the client connection by typing client = boto3.client('s3')\n",
    "   4. Get a list of buckets by typing cliet.list_buckets()\n",
    "   \n",
    "If there are no access denied errors, your configuration was done correctly!"
   ]
  },
  {
   "cell_type": "markdown",
   "metadata": {},
   "source": [
    "#### Note: Make sure your computer has access to the VPC"
   ]
  },
  {
   "cell_type": "markdown",
   "metadata": {},
   "source": [
    "# Imports"
   ]
  },
  {
   "cell_type": "code",
   "execution_count": 18,
   "metadata": {},
   "outputs": [],
   "source": [
    "import boto3"
   ]
  },
  {
   "cell_type": "markdown",
   "metadata": {},
   "source": [
    "# Testing Resource"
   ]
  },
  {
   "cell_type": "code",
   "execution_count": 20,
   "metadata": {},
   "outputs": [
    {
     "data": {
      "text/plain": [
       "{'ResponseMetadata': {'RequestId': '3EEB67876045278E',\n",
       "  'HostId': 'jIDA+m7pE1mIRgLM4UTo2uA18e9Oojr2PXPM2YqMQ2mOM3lBwDx2tZmcgDlcvQXVL+729GJDfqQ=',\n",
       "  'HTTPStatusCode': 200,\n",
       "  'HTTPHeaders': {'x-amz-id-2': 'jIDA+m7pE1mIRgLM4UTo2uA18e9Oojr2PXPM2YqMQ2mOM3lBwDx2tZmcgDlcvQXVL+729GJDfqQ=',\n",
       "   'x-amz-request-id': '3EEB67876045278E',\n",
       "   'date': 'Sun, 10 Nov 2019 05:23:21 GMT',\n",
       "   'content-type': 'application/xml',\n",
       "   'transfer-encoding': 'chunked',\n",
       "   'server': 'AmazonS3'},\n",
       "  'RetryAttempts': 0},\n",
       " 'Buckets': [{'Name': 'athena-output-queries',\n",
       "   'CreationDate': datetime.datetime(2019, 10, 28, 18, 56, 27, tzinfo=tzutc())},\n",
       "  {'Name': 'aws-glue-scripts-133469299809-us-east-1',\n",
       "   'CreationDate': datetime.datetime(2019, 10, 29, 21, 17, 33, tzinfo=tzutc())},\n",
       "  {'Name': 'aws-glue-temporary-133469299809-us-east-1',\n",
       "   'CreationDate': datetime.datetime(2019, 10, 29, 21, 17, 34, tzinfo=tzutc())},\n",
       "  {'Name': 'elasticbeanstalk-us-east-1-133469299809',\n",
       "   'CreationDate': datetime.datetime(2019, 11, 9, 3, 32, 41, tzinfo=tzutc())},\n",
       "  {'Name': 'prospect-clean-files',\n",
       "   'CreationDate': datetime.datetime(2019, 10, 28, 18, 24, 5, tzinfo=tzutc())},\n",
       "  {'Name': 'prospect-python-jobs',\n",
       "   'CreationDate': datetime.datetime(2019, 11, 1, 3, 24, 3, tzinfo=tzutc())},\n",
       "  {'Name': 'prospect-raw-files',\n",
       "   'CreationDate': datetime.datetime(2019, 10, 22, 20, 55, 18, tzinfo=tzutc())},\n",
       "  {'Name': 'prospect-staging-files',\n",
       "   'CreationDate': datetime.datetime(2019, 10, 23, 18, 0, 58, tzinfo=tzutc())},\n",
       "  {'Name': 'sundog-udemy',\n",
       "   'CreationDate': datetime.datetime(2019, 11, 10, 2, 8, 38, tzinfo=tzutc())}],\n",
       " 'Owner': {'DisplayName': 'samlexrod',\n",
       "  'ID': '33e1ea8868b20b7274aed4fd18c1768a2d8789feb082ea3d1dc40c6530833c9d'}}"
      ]
     },
     "execution_count": 20,
     "metadata": {},
     "output_type": "execute_result"
    }
   ],
   "source": [
    "resource = boto3.resource('s3')\n",
    "resource.meta.client.list_buckets()"
   ]
  },
  {
   "cell_type": "markdown",
   "metadata": {},
   "source": [
    "![awesome](http://www.schoolofhardrocks.org/sohrauditorium/wp-content/uploads/2013/02/whos-awesome.jpg)"
   ]
  }
 ],
 "metadata": {
  "kernelspec": {
   "display_name": "Python 3",
   "language": "python",
   "name": "python3"
  },
  "language_info": {
   "codemirror_mode": {
    "name": "ipython",
    "version": 3
   },
   "file_extension": ".py",
   "mimetype": "text/x-python",
   "name": "python",
   "nbconvert_exporter": "python",
   "pygments_lexer": "ipython3",
   "version": "3.7.3"
  }
 },
 "nbformat": 4,
 "nbformat_minor": 4
}
