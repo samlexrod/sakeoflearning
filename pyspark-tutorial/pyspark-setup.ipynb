{
 "cells": [
  {
   "cell_type": "markdown",
   "metadata": {},
   "source": [
    "To install pyspark first we need to install the following:\n",
    "- Anaconda Distribution\n",
    "    - https://www.anaconda.com/distribution/\n",
    "- Java SE Development Kit 8\n",
    "    - https://www.oracle.com/technetwork/java/javase/downloads/jdk8-downloads-2133151.html\n",
    "    - Install the executable that relates to your type of system.\n",
    "- The latest Apache Spark pre-built\n",
    "    - http://spark.apache.org/downloads.html\n",
    "    - Extract the tgz file into c:/spark\n",
    "- Trick windows into thinking hadoop is installed.\n",
    "    - Use Frank Kane's method:   \n",
    "    Here is a link to Frank Kane's installation process. \n",
    "    http://media.sundog-soft.com/spark-python-install.pdf\n"
   ]
  },
  {
   "cell_type": "code",
   "execution_count": 1,
   "metadata": {},
   "outputs": [],
   "source": [
    "!conda install pyspark"
   ]
  },
  {
   "cell_type": "code",
   "execution_count": null,
   "metadata": {},
   "outputs": [],
   "source": [
    "!pip isntall findspark"
   ]
  }
 ],
 "metadata": {
  "file_extension": ".py",
  "kernelspec": {
   "display_name": "Python 3",
   "language": "python",
   "name": "python3"
  },
  "language_info": {
   "codemirror_mode": {
    "name": "ipython",
    "version": 3
   },
   "file_extension": ".py",
   "mimetype": "text/x-python",
   "name": "python",
   "nbconvert_exporter": "python",
   "pygments_lexer": "ipython3",
   "version": "3.7.3"
  },
  "mimetype": "text/x-python",
  "name": "python",
  "npconvert_exporter": "python",
  "pygments_lexer": "ipython3",
  "version": 3
 },
 "nbformat": 4,
 "nbformat_minor": 4
}
