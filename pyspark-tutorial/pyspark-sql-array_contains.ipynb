{
 "cells": [
  {
   "cell_type": "code",
   "execution_count": 1,
   "metadata": {},
   "outputs": [],
   "source": [
    "from pyspark.sql import SparkSession\n",
    "from pyspark.sql.functions import array_contains"
   ]
  },
  {
   "cell_type": "markdown",
   "metadata": {},
   "source": [
    "# Starting Session"
   ]
  },
  {
   "cell_type": "code",
   "execution_count": 2,
   "metadata": {},
   "outputs": [],
   "source": [
    "spark = SparkSession.builder.appName('array').getOrCreate()"
   ]
  },
  {
   "cell_type": "code",
   "execution_count": null,
   "metadata": {},
   "outputs": [],
   "source": []
  },
  {
   "cell_type": "markdown",
   "metadata": {},
   "source": [
    "# Creating Array RDD"
   ]
  },
  {
   "cell_type": "code",
   "execution_count": 67,
   "metadata": {},
   "outputs": [],
   "source": [
    "columns = ['col1', 'col2', 'col3', 'col4']\n",
    "values = [\n",
    "    [[1, 2, 3, 4, 5], 2, 3, 5],\n",
    "    [[1, 2, 3, 5, 6], 2, 3, 5]\n",
    "]\n",
    "\n",
    "rdd = spark.createDataFrame(values, columns)"
   ]
  },
  {
   "cell_type": "markdown",
   "metadata": {},
   "source": [
    "# Validating Data Types"
   ]
  },
  {
   "cell_type": "code",
   "execution_count": 69,
   "metadata": {},
   "outputs": [
    {
     "data": {
      "text/plain": [
       "[('col1', 'array<bigint>'),\n",
       " ('col2', 'bigint'),\n",
       " ('col3', 'bigint'),\n",
       " ('col4', 'bigint')]"
      ]
     },
     "execution_count": 69,
     "metadata": {},
     "output_type": "execute_result"
    }
   ],
   "source": [
    "rdd.dtypes"
   ]
  },
  {
   "cell_type": "markdown",
   "metadata": {},
   "source": [
    "# Showing Data"
   ]
  },
  {
   "cell_type": "code",
   "execution_count": 70,
   "metadata": {},
   "outputs": [
    {
     "name": "stdout",
     "output_type": "stream",
     "text": [
      "+---------------+----+----+----+\n",
      "|           col1|col2|col3|col4|\n",
      "+---------------+----+----+----+\n",
      "|[1, 2, 3, 4, 5]|   2|   3|   5|\n",
      "|[1, 2, 3, 5, 6]|   2|   3|   5|\n",
      "+---------------+----+----+----+\n",
      "\n"
     ]
    }
   ],
   "source": [
    "rdd.show()"
   ]
  },
  {
   "cell_type": "markdown",
   "metadata": {},
   "source": [
    "# Show Only where True"
   ]
  },
  {
   "cell_type": "code",
   "execution_count": 66,
   "metadata": {},
   "outputs": [
    {
     "name": "stdout",
     "output_type": "stream",
     "text": [
      "+---------------+----+----+----+\n",
      "|           col1|col2|col3|col4|\n",
      "+---------------+----+----+----+\n",
      "|[1, 2, 3, 5, 6]|   2|   3|   5|\n",
      "+---------------+----+----+----+\n",
      "\n"
     ]
    }
   ],
   "source": [
    "rdd.where(array_contains('col1', 6)).show()"
   ]
  },
  {
   "cell_type": "code",
   "execution_count": 73,
   "metadata": {},
   "outputs": [
    {
     "name": "stdout",
     "output_type": "stream",
     "text": [
      "+---------------+----+----+----+\n",
      "|           col1|col2|col3|col4|\n",
      "+---------------+----+----+----+\n",
      "|[1, 2, 3, 5, 6]|   2|   3|   5|\n",
      "+---------------+----+----+----+\n",
      "\n"
     ]
    }
   ],
   "source": [
    "rdd.filter(array_contains('col1', 6)).show()"
   ]
  }
 ],
 "metadata": {
  "kernelspec": {
   "display_name": "Python 3",
   "language": "python",
   "name": "python3"
  },
  "language_info": {
   "codemirror_mode": {
    "name": "ipython",
    "version": 3
   },
   "file_extension": ".py",
   "mimetype": "text/x-python",
   "name": "python",
   "nbconvert_exporter": "python",
   "pygments_lexer": "ipython3",
   "version": "3.7.3"
  }
 },
 "nbformat": 4,
 "nbformat_minor": 4
}
