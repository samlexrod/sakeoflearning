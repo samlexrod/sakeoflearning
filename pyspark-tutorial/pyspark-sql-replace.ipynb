{
 "cells": [
  {
   "cell_type": "code",
   "execution_count": 45,
   "metadata": {},
   "outputs": [],
   "source": [
    "from pyspark.sql import SparkSession\n",
    "import os\n",
    "import pandas as pd"
   ]
  },
  {
   "cell_type": "markdown",
   "metadata": {},
   "source": [
    "# Starting Spark Session"
   ]
  },
  {
   "cell_type": "code",
   "execution_count": 2,
   "metadata": {},
   "outputs": [],
   "source": [
    "spark = SparkSession.builder.appName(\"replace\").getOrCreate()"
   ]
  },
  {
   "cell_type": "markdown",
   "metadata": {},
   "source": [
    "# Creating Null Scenario"
   ]
  },
  {
   "cell_type": "code",
   "execution_count": 43,
   "metadata": {},
   "outputs": [
    {
     "data": {
      "text/html": [
       "<div>\n",
       "<style scoped>\n",
       "    .dataframe tbody tr th:only-of-type {\n",
       "        vertical-align: middle;\n",
       "    }\n",
       "\n",
       "    .dataframe tbody tr th {\n",
       "        vertical-align: top;\n",
       "    }\n",
       "\n",
       "    .dataframe thead th {\n",
       "        text-align: right;\n",
       "    }\n",
       "</style>\n",
       "<table border=\"1\" class=\"dataframe\">\n",
       "  <thead>\n",
       "    <tr style=\"text-align: right;\">\n",
       "      <th></th>\n",
       "      <th>CLM_NO</th>\n",
       "      <th>CLM_NO_LN</th>\n",
       "      <th>RCV_DT</th>\n",
       "      <th>SERV_DT</th>\n",
       "      <th>RESOLVED_DT</th>\n",
       "      <th>ALLOW_AMT</th>\n",
       "      <th>RESOLVED_AMT</th>\n",
       "    </tr>\n",
       "  </thead>\n",
       "  <tbody>\n",
       "    <tr>\n",
       "      <th>1038</th>\n",
       "      <td>10000002.0</td>\n",
       "      <td>nan</td>\n",
       "      <td>nan</td>\n",
       "      <td>nan</td>\n",
       "      <td>nan</td>\n",
       "      <td>NaN</td>\n",
       "      <td>nan</td>\n",
       "    </tr>\n",
       "  </tbody>\n",
       "</table>\n",
       "</div>"
      ],
      "text/plain": [
       "          CLM_NO CLM_NO_LN RCV_DT SERV_DT RESOLVED_DT  ALLOW_AMT RESOLVED_AMT\n",
       "1038  10000002.0       nan    nan     nan         nan        NaN          nan"
      ]
     },
     "execution_count": 43,
     "metadata": {},
     "output_type": "execute_result"
    }
   ],
   "source": [
    "df = pd.read_csv('../tutorial-data/ClaimDataExample1.csv')\n",
    "df = df.append(dict(CLM_NO=10000002.0), ignore_index=True).astype(str)\n",
    "df['ALLOW_AMT'] = df['ALLOW_AMT'].astype(float)\n",
    "df[df.ALLOW_AMT.isnull()]"
   ]
  },
  {
   "cell_type": "markdown",
   "metadata": {},
   "source": [
    "# Convert Pandas to RDD"
   ]
  },
  {
   "cell_type": "code",
   "execution_count": 44,
   "metadata": {},
   "outputs": [],
   "source": [
    "data = spark.createDataFrame(df)"
   ]
  },
  {
   "cell_type": "markdown",
   "metadata": {},
   "source": [
    "# Replace string nan and NaN values to null values"
   ]
  },
  {
   "cell_type": "code",
   "execution_count": 40,
   "metadata": {},
   "outputs": [
    {
     "name": "stdout",
     "output_type": "stream",
     "text": [
      "+----------+---------+------+-------+-----------+---------+------------+\n",
      "|    CLM_NO|CLM_NO_LN|RCV_DT|SERV_DT|RESOLVED_DT|ALLOW_AMT|RESOLVED_AMT|\n",
      "+----------+---------+------+-------+-----------+---------+------------+\n",
      "|10000002.0|      nan|   nan|    nan|        nan|     null|         nan|\n",
      "+----------+---------+------+-------+-----------+---------+------------+\n",
      "\n"
     ]
    }
   ],
   "source": [
    "data.replace(float('nan'), None).filter(\"ALLOW_AMT IS NULL\").show()"
   ]
  },
  {
   "cell_type": "code",
   "execution_count": 42,
   "metadata": {},
   "outputs": [
    {
     "name": "stdout",
     "output_type": "stream",
     "text": [
      "+----------+---------+------+-------+-----------+---------+------------+\n",
      "|    CLM_NO|CLM_NO_LN|RCV_DT|SERV_DT|RESOLVED_DT|ALLOW_AMT|RESOLVED_AMT|\n",
      "+----------+---------+------+-------+-----------+---------+------------+\n",
      "|10000002.0|     null|  null|   null|       null|      NaN|        null|\n",
      "+----------+---------+------+-------+-----------+---------+------------+\n",
      "\n"
     ]
    }
   ],
   "source": [
    "data.replace('nan', None).filter(\"CLM_NO_LN IS NULL\").show()"
   ]
  }
 ],
 "metadata": {
  "kernelspec": {
   "display_name": "Python 3",
   "language": "python",
   "name": "python3"
  },
  "language_info": {
   "codemirror_mode": {
    "name": "ipython",
    "version": 3
   },
   "file_extension": ".py",
   "mimetype": "text/x-python",
   "name": "python",
   "nbconvert_exporter": "python",
   "pygments_lexer": "ipython3",
   "version": "3.7.3"
  }
 },
 "nbformat": 4,
 "nbformat_minor": 4
}
