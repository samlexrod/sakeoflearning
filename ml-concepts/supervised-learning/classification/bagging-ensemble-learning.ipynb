{
 "cells": [
  {
   "cell_type": "markdown",
   "id": "0",
   "metadata": {},
   "source": [
    "# Bagging Classifier with Decision Tree\n",
    "\n",
    "Bagging, or Bootstrap Aggregating, is a technique used to reduce the variance of a model by training multiple models \n",
    "on different samples of the training data. The final prediction is then obtained by averaging the predictions of all \n",
    "the models. \n",
    "\n",
    "This technique is particularly useful when the model is overfitting the training data. By training multiple models on\n",
    "different samples of the training data, the model is less likely to overfit the training data and will generalize better\n",
    "to unseen data.\n",
    "\n",
    "In this example, we train a BaggingClassifier on the Iris dataset using a DecisionTreeClassifier as the base estimator.\n",
    "The BaggingClassifier trains 50 DecisionTreeClassifiers on different samples of the training data and averages their\n",
    "predictions to make the final prediction. We then evaluate the model on the test data and print the accuracy."
   ]
  },
  {
   "cell_type": "code",
   "execution_count": null,
   "id": "1",
   "metadata": {},
   "outputs": [],
   "source": [
    "from sklearn.ensemble import BaggingClassifier\n",
    "from sklearn.tree import DecisionTreeClassifier\n",
    "from sklearn.datasets import load_iris\n",
    "from sklearn.model_selection import train_test_split\n",
    "\n",
    "# Load data\n",
    "iris = load_iris()\n",
    "X, y = iris.data, iris.target\n",
    "X_train, X_test, y_train, y_test = train_test_split(X, y, test_size=0.2, random_state=42)\n",
    "\n",
    "# Train BaggingClassifier\n",
    "bagging = BaggingClassifier(estimator=DecisionTreeClassifier(), n_estimators=50, random_state=42)\n",
    "bagging.fit(X_train, y_train)\n",
    "\n",
    "# Evaluate the model\n",
    "print(\"Accuracy:\", bagging.score(X_test, y_test))\n"
   ]
  },
  {
   "cell_type": "markdown",
   "id": "2",
   "metadata": {},
   "source": [
    "# END OF NOTEBOOK"
   ]
  }
 ],
 "metadata": {
  "kernelspec": {
   "display_name": "Python 3 (ipykernel)",
   "language": "python",
   "name": "python3"
  },
  "language_info": {
   "codemirror_mode": {
    "name": "ipython",
    "version": 3
   },
   "file_extension": ".py",
   "mimetype": "text/x-python",
   "name": "python",
   "nbconvert_exporter": "python",
   "pygments_lexer": "ipython3",
   "version": "3.11.5"
  }
 },
 "nbformat": 4,
 "nbformat_minor": 5
}
