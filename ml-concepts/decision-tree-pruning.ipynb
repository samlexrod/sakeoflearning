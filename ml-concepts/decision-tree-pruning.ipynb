{
 "cells": [
  {
   "cell_type": "code",
   "execution_count": 1,
   "id": "5105f8a0-3fe5-4dde-a688-37c73c1745c8",
   "metadata": {},
   "outputs": [
    {
     "name": "stdout",
     "output_type": "stream",
     "text": [
      "|--- petal length (cm) <= 2.45\n",
      "|   |--- class: 0\n",
      "|--- petal length (cm) >  2.45\n",
      "|   |--- petal length (cm) <= 4.75\n",
      "|   |   |--- petal width (cm) <= 1.65\n",
      "|   |   |   |--- class: 1\n",
      "|   |   |--- petal width (cm) >  1.65\n",
      "|   |   |   |--- class: 2\n",
      "|   |--- petal length (cm) >  4.75\n",
      "|   |   |--- petal width (cm) <= 1.75\n",
      "|   |   |   |--- class: 1\n",
      "|   |   |--- petal width (cm) >  1.75\n",
      "|   |   |   |--- class: 2\n",
      "\n",
      "Accuracy: 1.0\n"
     ]
    }
   ],
   "source": [
    "from sklearn.datasets import load_iris\n",
    "from sklearn.model_selection import train_test_split\n",
    "from sklearn.tree import DecisionTreeClassifier\n",
    "from sklearn.tree import export_text\n",
    "\n",
    "# Load data\n",
    "iris = load_iris()\n",
    "X, y = iris.data, iris.target\n",
    "X_train, X_test, y_train, y_test = train_test_split(X, y, test_size=0.2, random_state=42)\n",
    "\n",
    "# Train decision tree with pruning\n",
    "tree = DecisionTreeClassifier(max_depth=3)  # Pruning by setting max_depth\n",
    "tree.fit(X_train, y_train)\n",
    "\n",
    "# Visualize the tree\n",
    "tree_rules = export_text(tree, feature_names=iris['feature_names'])\n",
    "print(tree_rules)\n",
    "\n",
    "# Evaluate the model\n",
    "print(\"Accuracy:\", tree.score(X_test, y_test))\n"
   ]
  }
 ],
 "metadata": {
  "kernelspec": {
   "display_name": "Python 3 (ipykernel)",
   "language": "python",
   "name": "python3"
  },
  "language_info": {
   "codemirror_mode": {
    "name": "ipython",
    "version": 3
   },
   "file_extension": ".py",
   "mimetype": "text/x-python",
   "name": "python",
   "nbconvert_exporter": "python",
   "pygments_lexer": "ipython3",
   "version": "3.11.5"
  }
 },
 "nbformat": 4,
 "nbformat_minor": 5
}
