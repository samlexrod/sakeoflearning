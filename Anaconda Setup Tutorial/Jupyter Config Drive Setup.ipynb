{
 "cells": [
  {
   "cell_type": "markdown",
   "metadata": {},
   "source": [
    "# Jupyter Config Drive Setup"
   ]
  },
  {
   "cell_type": "markdown",
   "metadata": {},
   "source": [
    "1. Open Command Prompt or Anaconda Prompt and run: jupyter notebook --generate-config\n",
    "2. Go the the userpath location (replace username with your username): C:\\Users\\username.jupyter\n",
    "3. Open the jupyter_notebook_config.py file.\n",
    "4. Search for the following line: #c.NotebookApp.notebook_dir\n",
    "5. Replace the empty string or any existing modification with your desired path (e.g. = 'Y:/')"
   ]
  },
  {
   "cell_type": "markdown",
   "metadata": {},
   "source": [
    "# Jupyter Lab & Notebook Launcher Modifications"
   ]
  },
  {
   "cell_type": "markdown",
   "metadata": {},
   "source": [
    "1. Go to the program files location (replace username with your username): C:\\Users\\username\\AppData\\Roaming\\Microsoft\\Windows\\Start Menu\\Programs\n",
    "2. Right-click the Jupyter Notebook shortcut and select properties.\n",
    "3. In the Target text box, delete %USERPROFILE% and click apply or ok.\n",
    "4. Do the same to the Jupyter Lab shortcut. \n",
    "5. Right-click the files again and select Pin to Taskbar\n",
    "\n",
    "Congrats, your setup is completed!"
   ]
  }
 ],
 "metadata": {
  "kernelspec": {
   "display_name": "Python 3",
   "language": "python",
   "name": "python3"
  },
  "language_info": {
   "codemirror_mode": {
    "name": "ipython",
    "version": 3
   },
   "file_extension": ".py",
   "mimetype": "text/x-python",
   "name": "python",
   "nbconvert_exporter": "python",
   "pygments_lexer": "ipython3",
   "version": "3.6.5"
  }
 },
 "nbformat": 4,
 "nbformat_minor": 2
}
