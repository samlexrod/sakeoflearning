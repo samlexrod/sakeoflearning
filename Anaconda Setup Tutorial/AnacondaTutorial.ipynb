{
 "cells": [
  {
   "cell_type": "markdown",
   "metadata": {},
   "source": [
    "# Anaconda Distribution"
   ]
  },
  {
   "cell_type": "markdown",
   "metadata": {},
   "source": [
    "To install Anaconda distribution, you must go to their website www.anaconda.com. Or you can click this link: [Anaconda Distribution](https://www.anaconda.com/distribution/)"
   ]
  },
  {
   "cell_type": "markdown",
   "metadata": {},
   "source": [
    "# Anaconda Distribution on Another Drive"
   ]
  },
  {
   "cell_type": "markdown",
   "metadata": {},
   "source": [
    "If you anaconda installation is in another drive other than in the system (os) drive, you must add several anaconda distribution paths to PATH in the Environment Variables.\n",
    "\n",
    "You can go to the to the environment variables by typing ***Environment Variables*** in the start menu or search bar.\n",
    "These are the steps:\n",
    "1. Click on the ***Edit the environment variables*** (not the one ending on *for your account*).\n",
    "1. Clieck on the ***Environment Variables...*** button on the botton right.\n",
    "1. Double-click on the Path row of the User variables for [yourusername] or the System variables for all users.\n",
    "1. Click on new and add these 3 paths:\n",
    "    * D:\\ProgramData\\Anaconda3\\Scripts\n",
    "    * D:\\ProgramData\\Anaconda3\n",
    "    * D:\\ProgramData\\Anaconda3\\Library\\bin\n",
    "1. Click OK twice to exit the Environment Variables window.\n",
    "1. To test your environment you should ***open the Command Prompt*** (Not Anaconda Prompt) and try these steps:\n",
    "    1. Make sure to close the current Command Prompt if it is open and re-open it.\n",
    "    1. Type ***conda*** in the cmd line. You should get the positional arguments.\n",
    "    1. Type ***python*** in the cmd line. You should enter the python environmnet.\n",
    "1. If the steps above where succesful. You succesfully mapped your Anaconda distribution to your system."
   ]
  },
  {
   "cell_type": "code",
   "execution_count": null,
   "metadata": {},
   "outputs": [],
   "source": []
  }
 ],
 "metadata": {
  "kernelspec": {
   "display_name": "Python 3",
   "language": "python",
   "name": "python3"
  },
  "language_info": {
   "codemirror_mode": {
    "name": "ipython",
    "version": 3
   },
   "file_extension": ".py",
   "mimetype": "text/x-python",
   "name": "python",
   "nbconvert_exporter": "python",
   "pygments_lexer": "ipython3",
   "version": "3.7.1"
  }
 },
 "nbformat": 4,
 "nbformat_minor": 2
}
