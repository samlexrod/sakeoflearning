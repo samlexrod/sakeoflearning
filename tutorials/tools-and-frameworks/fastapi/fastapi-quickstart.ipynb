{
 "cells": [
  {
   "cell_type": "markdown",
   "metadata": {},
   "source": [
    "# FastAPI Quickstart\n",
    "\n",
    "This notebook provides a quick introduction to [FastAPI](https://fastapi.tiangolo.com/), a modern Python web framework for building APIs. \n",
    "\n",
    "## What is FastAPI?\n",
    "\n",
    "FastAPI is a high-performance web framework designed for building APIs with Python. It is based on standard Python type hints, enabling developers to write clean, concise, and type-safe code. FastAPI is built on top of Starlette (for the web parts) and Pydantic (for data validation and settings management), which ensures it is both lightweight and robust.\n",
    "\n",
    "### Key Features of FastAPI:\n",
    "- **Fast Performance**: Built on ASGI (Asynchronous Server Gateway Interface) and leveraging Python's asynchronous capabilities, FastAPI delivers excellent performance that rivals frameworks like Node.js and Go.\n",
    "- **Automatic Interactive Documentation**: FastAPI automatically generates OpenAPI and JSON Schema documentation, which can be viewed through Swagger UI and ReDoc interfaces.\n",
    "- **Ease of Use**: With its declarative syntax and dependency injection system, FastAPI simplifies common tasks like request validation and error handling.\n",
    "- **Data Validation**: Strong integration with Pydantic enables automatic validation and serialization of request and response data.\n",
    "- **Type Safety**: By leveraging Python's type annotations, FastAPI provides auto-completion and static analysis support in modern IDEs, making it easier to develop and maintain applications.\n",
    "\n",
    "FastAPI is particularly well-suited for projects where rapid development, performance, and type safety are priorities, such as:\n",
    "- RESTful APIs\n",
    "- Microservices\n",
    "- Real-time systems\n",
    "- Machine learning and data science backends\n",
    "\n",
    "By the end of this tutorial, you will:\n",
    "1. Set up a Python environment for FastAPI.\n",
    "2. Create a simple FastAPI application.\n",
    "3. Create a \"Hello World\" API endpoint.\n",
    "4. Explore FastAPI's automatic documentation (Swagger UI and ReDoc).\n",
    "\n",
    "---\n",
    "\n",
    "## 1. Create a Python Environment\n",
    "\n",
    "Before starting, let's create a clean Python environment to avoid conflicts with existing packages.\n",
    "\n",
    "### Option 1: Using `venv` (Recommended)\n",
    "Let's install all dependencies from the notebook for simplicity. If using the terminal, activate the environment once with `!source fastapi-env/bin/activate`, then run the pip, python, and jupyter commands. \n",
    "\n",
    "### Option 2: Use `anaconda` (Not in the scope of this tutorial)\n"
   ]
  },
  {
   "cell_type": "code",
   "execution_count": null,
   "metadata": {
    "vscode": {
     "languageId": "plaintext"
    }
   },
   "outputs": [],
   "source": [
    "# 1. Create a virtual environment:\n",
    "!python -m venv fastapi-env\n",
    "\n",
    "# 2. Upgrade pip on active environment:\n",
    "!source fastapi-env/bin/activate && pip install --upgrade pip \n",
    "\n",
    "# 3. Install FastAPI, Uvicorn, Jupyter, and IPython kernel\n",
    "!source fastapi-env/bin/activate && pip install -q fastapi uvicorn ipykernel requests\n",
    "\n",
    "# 4. Add the virtual environment as a Jupyter kernel\n",
    "!source fastapi-env/bin/activate && python -m ipykernel install --user --name=fastapi-env --display-name \"SilverAIWolf (FastAPI)\"\n",
    "\n",
    "# 5. Verify the kernel installation\n",
    "!jupyter kernelspec list\n",
    "\n",
    "print(\"Kernel 'SilverAIWolf (FastAPI)' has been installed successfully!\")\n",
    "print(\"Please restart the Jupyter kernel and select 'SilverAIWolf (FastAPI)' from the kernel dropdown menu.\")\n",
    "print(\"Note: It might take a few seconds for the new kernel to appear. If it doesn't show up, try relaunching JupyterLab.\")"
   ]
  },
  {
   "cell_type": "code",
   "execution_count": null,
   "metadata": {},
   "outputs": [],
   "source": [
    "from helper import FastAPIServer, clean_tutorial, kernel_validation\n",
    "\n",
    "kernel_validation()\n",
    "\n",
    "from IPython.display import display, HTML\n",
    "import requests\n",
    "from time import sleep"
   ]
  },
  {
   "cell_type": "markdown",
   "metadata": {},
   "source": [
    "## 2. Create a Simple FastAPI App\n",
    "Let's create a basic FastAPI application with a single endpoint that returns \"Hello World\".\n",
    "\n",
    "**Explanation**\n",
    "- **`FastAPI()`**:\n",
    "  - This initializes an instance of the FastAPI application.\n",
    "  - It provides the methods to define routes (`@app.get`, `@app.post`, etc.) and configure the application.\n",
    "  - It acts as the entry point for your application.\n",
    "\n",
    "- **`@app.get(\"/\")`**:\n",
    "  - This is a decorator that defines an HTTP `GET` route for the specified path (`/`).\n",
    "  - When a client sends a `GET` request to the root URL (e.g., `http://127.0.0.1:8000/`), the associated function is executed.\n",
    "\n",
    "- **`def read_root()`**:\n",
    "  - This is the function that handles requests to the root URL (`/`).\n",
    "  - The function name (`read_root`) is not tied to the route; it’s a descriptive name for the handler.\n",
    "\n",
    "- **`return {\"message\": \"Hello World\"}`**:\n",
    "  - The return value is a Python dictionary, which FastAPI automatically serializes into a JSON response.\n",
    "  - The client receives the JSON response `{\"message\": \"Hello World\"}` when they access the `/` endpoint."
   ]
  },
  {
   "cell_type": "code",
   "execution_count": null,
   "metadata": {},
   "outputs": [],
   "source": [
    "%%writefile main.py\n",
    "from fastapi import FastAPI\n",
    "\n",
    "# Create an instance of the FastAPI class\n",
    "app = FastAPI()\n",
    "\n",
    "# Define a route for the root endpoint\n",
    "@app.get(\"/\")\n",
    "def read_root():\n",
    "    return {\"message\": \"Hello World\"}"
   ]
  },
  {
   "cell_type": "markdown",
   "metadata": {},
   "source": [
    "## 3. Run the FastAPI App\n",
    "To run the app, use Uvicorn. Execute the following command:\n",
    "\n",
    "**Explenation**\n",
    "- `main` refers to the filename (`main.py`).\n",
    "- `app` refers to the FastAPI instance.\n",
    "- `--reload` enables auto-reloading during development.\n",
    "- `--port` refers to the port in which the FastAPI instance is running."
   ]
  },
  {
   "cell_type": "code",
   "execution_count": null,
   "metadata": {},
   "outputs": [],
   "source": [
    "port = 8081  # Change if it is already in use\n",
    "fastapi = FastAPIServer(port)  # Starts the server\n",
    "try: fastapi.stop()\n",
    "except: pass\n",
    "finally:fastapi.run()\n",
    "\n",
    "# Wait for the threading to start the server before running the next cells\n",
    "sleep(10)"
   ]
  },
  {
   "cell_type": "markdown",
   "metadata": {},
   "source": [
    "## 4. Test the API in Browser\n",
    "Once the app is running, open your browser and navigate to `localhost:port`\n",
    "\n",
    "You should see the following response:\n",
    "```json\n",
    "{\n",
    "  \"message\": \"Hello World\"\n",
    "}\n",
    "```"
   ]
  },
  {
   "cell_type": "code",
   "execution_count": null,
   "metadata": {},
   "outputs": [],
   "source": [
    "display(HTML(f'<p>FastAPI server is running in the background on port <a href=\"http://localhost:{port}\" target=\"_blank\">localhost:{port}</a>. To quit the FastAPI server from this notebook, simply restart the Jupyter kernel.</p>'))"
   ]
  },
  {
   "cell_type": "markdown",
   "metadata": {},
   "source": [
    "## 5. Request from the API\n",
    "Once the app is running, you can test the API using Python's `requests` library."
   ]
  },
  {
   "cell_type": "code",
   "execution_count": null,
   "metadata": {},
   "outputs": [],
   "source": [
    "# Define the API URL\n",
    "url = f\"http://localhost:{port}/\"\n",
    "\n",
    "# Send a GET request to the API\n",
    "response = requests.get(url)\n",
    "\n",
    "# Print the response\n",
    "print(\"Status Code:\", response.status_code)\n",
    "print(\"Response JSON:\", response.json())"
   ]
  },
  {
   "cell_type": "markdown",
   "metadata": {},
   "source": [
    "## 6. Explore Automatic Documentation\n",
    "FastAPI automatically generates interactive API documentation. You can access it in two ways:"
   ]
  },
  {
   "cell_type": "code",
   "execution_count": null,
   "metadata": {},
   "outputs": [],
   "source": [
    "# Define the base URL\n",
    "base_url = \"http://localhost:8081\"\n",
    "\n",
    "# Create HTML links for Swagger UI and ReDoc\n",
    "swagger_link = f'<a href=\"{base_url}/docs\" target=\"_blank\">Swagger UI - Using `localhost:port/docs`</a>'\n",
    "redoc_link = f'<a href=\"{base_url}/redoc\" target=\"_blank\">ReDoc - Using `localhost:port/redoc</a>'\n",
    "\n",
    "# Display the links\n",
    "display(HTML(f\"<p>Explore the API documentation:</p>\"))\n",
    "display(HTML(f\"<ul><li>{swagger_link}</li><li>{redoc_link}</li></ul>\"))"
   ]
  },
  {
   "cell_type": "markdown",
   "metadata": {},
   "source": [
    "## 7. Add Another Endpoint\n",
    "Let's add another endpoint that takes a name as input and returns a personalized greeting.\n",
    "\n",
    "**Explanation**\n",
    "- **`@app.get(\"/greet/{name}\")`**:\n",
    "  - This is a decorator that defines an HTTP `GET` route with a dynamic path parameter `{name}`.\n",
    "  - The `{name}` part in the route path is a **path parameter**, allowing the route to handle requests like `/greet/Alice` or `/greet/Bob`.\n",
    "\n",
    "- **`def greet_name(name: str):`**:\n",
    "  - This is the handler function for the `/greet/{name}` route.\n",
    "  - The parameter `name: str` specifies that the path parameter `name` is expected to be a string.\n",
    "  - FastAPI automatically validates the type of `name` based on this annotation. If a non-string value is passed (e.g., `/greet/123`), FastAPI processes it as a string, since strings are the default for path parameters.\n",
    "\n",
    "- **`return {\"message\": f\"Hello, {name}!\"}`**:\n",
    "  - The function returns a Python dictionary, which FastAPI automatically converts into a JSON response.\n",
    "  - The `f\"Hello, {name}!\"` is a formatted string that includes the value of the `name` parameter in the message.\n",
    "  - For example:\n",
    "    - A request to `/greet/Alice` would return `{\"message\": \"Hello, Alice!\"}`.\n",
    "    - A request to `/greet/John` would return `{\"message\": \"Hello, John!\"}`.\n",
    "\n",
    "**How It Works**\n",
    "1. When a client sends a `GET` request to a URL like `/greet/Alice`, FastAPI extracts the value `Alice` from the path and assigns it to the `name` parameter.\n",
    "2. The handler function `greet_name` processes the value and returns a JSON response containing a greeting message.\n"
   ]
  },
  {
   "cell_type": "code",
   "execution_count": null,
   "metadata": {},
   "outputs": [],
   "source": [
    "%%writefile main.py\n",
    "from fastapi import FastAPI\n",
    "\n",
    "# Create an instance of the FastAPI class\n",
    "app = FastAPI()\n",
    "\n",
    "# Define a route for the root endpoint\n",
    "@app.get(\"/\")\n",
    "def read_root():\n",
    "    return {\"message\": \"Hello World\"}\n",
    "\n",
    "@app.get(\"/greet/{name}\")\n",
    "def greet_name(name: str):\n",
    "    return {\"message\": f\"Hello, {name}!\"}"
   ]
  },
  {
   "cell_type": "code",
   "execution_count": null,
   "metadata": {},
   "outputs": [],
   "source": [
    "# Define the API URL\n",
    "url = \"http://localhost:8081/greet/John\"\n",
    "\n",
    "# Send a GET request to the API\n",
    "response = requests.get(url)\n",
    "\n",
    "# Print the response\n",
    "print(\"Status Code:\", response.status_code)\n",
    "print(\"Response JSON:\", response.json())"
   ]
  },
  {
   "cell_type": "markdown",
   "metadata": {},
   "source": [
    "## 8. Add Query Parameters\n",
    "You can also use query parameters in FastAPI. Let's create an endpoint that takes two numbers and returns their sum.\n",
    "\n",
    "**Explanation**\n",
    "- **`@app.get(\"/add\")`**:\n",
    "  - This is a decorator that defines an HTTP `GET` route for the path `/add`.\n",
    "  - This route is used to handle requests that include query parameters for addition, such as `/add?a=5&b=10`.\n",
    "\n",
    "- **`def add_numbers(a: int, b: int):`**:\n",
    "  - This is the handler function for the `/add` route.\n",
    "  - The parameters `a: int` and `b: int` indicate that the function expects two query parameters:\n",
    "    - `a`: An integer value.\n",
    "    - `b`: Another integer value.\n",
    "  - FastAPI automatically validates the types of `a` and `b`. If the query parameters are missing or not integers, FastAPI raises a validation error (`422 Unprocessable Entity`).\n",
    "\n",
    "- **`return {\"result\": a + b}`**:\n",
    "  - The function calculates the sum of `a` and `b`.\n",
    "  - It returns a dictionary with a key `\"result\"` and the computed sum as the value.\n",
    "  - FastAPI converts the dictionary into a JSON response for the client.\n",
    "\n",
    "---\n",
    "\n",
    "### **How It Works**\n",
    "1. A client sends a `GET` request to `/add` with query parameters `a` and `b`. For example:\n",
    "   - `/add?a=5&b=10`\n",
    "   - `/add?a=20&b=30`\n",
    "\n",
    "2. FastAPI extracts the query parameters (`a` and `b`) from the URL and passes them as arguments to the `add_numbers` function.\n",
    "\n",
    "3. The function computes the sum of `a` and `b` and returns the result in JSON format.\n",
    "\n",
    "4. Example responses:\n",
    "   - For `/add?a=5&b=10`, the response would be:\n",
    "     ```json\n",
    "     {\n",
    "         \"result\": 15\n",
    "     }\n",
    "     ```\n",
    "   - For `/add?a=20&b=30`, the response would be:\n",
    "     ```json\n",
    "     {\n",
    "         \"result\": 50\n",
    "     }\n",
    "     ```\n",
    "\n",
    "---\n",
    "\n",
    "### **Validation Features**\n",
    "- FastAPI ensures that:\n",
    "  - Both `a` and `b` are provided as query parameters.\n",
    "  - They are valid integers.\n",
    "- If validation fails (e.g., `/add?a=five&b=10`), FastAPI responds with a `422 Unprocessable Entity` error and details about the invalid parameter.\n"
   ]
  },
  {
   "cell_type": "code",
   "execution_count": null,
   "metadata": {},
   "outputs": [],
   "source": [
    "%%writefile main.py\n",
    "from fastapi import FastAPI\n",
    "\n",
    "# Create an instance of the FastAPI class\n",
    "app = FastAPI()\n",
    "\n",
    "# Define a route for the root endpoint\n",
    "@app.get(\"/\")\n",
    "def read_root():\n",
    "    return {\"message\": \"Hello World\"}\n",
    "\n",
    "@app.get(\"/greet/{name}\")\n",
    "def greet_name(name: str):\n",
    "    return {\"message\": f\"Hello, {name}!\"}\n",
    "\n",
    "@app.get(\"/add\")\n",
    "def add_numbers(a: int, b: int):\n",
    "    return {\"result\": a + b}"
   ]
  },
  {
   "cell_type": "code",
   "execution_count": null,
   "metadata": {},
   "outputs": [],
   "source": [
    "# Define the API URL with query parameters\n",
    "url = \"http://localhost:8081/add?a=5&b=3\"\n",
    "\n",
    "# Send a GET request to the API\n",
    "response = requests.get(url)\n",
    "\n",
    "# Print the response\n",
    "print(\"Status Code:\", response.status_code)\n",
    "print(\"Response JSON:\", response.json())"
   ]
  },
  {
   "cell_type": "markdown",
   "metadata": {},
   "source": [
    "## Recap\n",
    "In this notebook, you:\n",
    "1. Set up a Python environment for FastAPI.\n",
    "2. Created a FastAPI app.\n",
    "3. Created a \"Hello World\" endpoint.\n",
    "4. Tested the API using Python's `requests` library.\n",
    "5. Explored FastAPI's automatic documentation using interactive HTML links.\n",
    "6. Added endpoints with path parameters and query parameters."
   ]
  },
  {
   "cell_type": "markdown",
   "metadata": {},
   "source": [
    "## Next Steps\n",
    "- Move on to the next notebook: **`fastapi-real-time-api.ipynb`**, where you'll learn how to serve a machine learning model using FastAPI."
   ]
  },
  {
   "cell_type": "markdown",
   "metadata": {},
   "source": [
    "## Optional Cleaning"
   ]
  },
  {
   "cell_type": "code",
   "execution_count": null,
   "metadata": {},
   "outputs": [],
   "source": [
    "clean_tutorial()"
   ]
  },
  {
   "cell_type": "markdown",
   "metadata": {},
   "source": [
    "# END OF NOTEBOOK"
   ]
  }
 ],
 "metadata": {
  "kernelspec": {
   "display_name": "SilverAIWolf (FastAPI)",
   "language": "python",
   "name": "fastapi-env"
  },
  "language_info": {
   "codemirror_mode": {
    "name": "ipython",
    "version": 3
   },
   "file_extension": ".py",
   "mimetype": "text/x-python",
   "name": "python",
   "nbconvert_exporter": "python",
   "pygments_lexer": "ipython3",
   "version": "3.11.8"
  }
 },
 "nbformat": 4,
 "nbformat_minor": 4
}
