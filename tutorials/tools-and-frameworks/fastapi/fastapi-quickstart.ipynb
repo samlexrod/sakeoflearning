{
 "cells": [
  {
   "cell_type": "code",
   "execution_count": null,
   "metadata": {},
   "outputs": [],
   "source": [
    "from IPython.display import display, HTML\n",
    "import threading\n",
    "import subprocess\n",
    "import os\n",
    "import signal\n",
    "import requests\n",
    "from time import sleep"
   ]
  },
  {
   "cell_type": "markdown",
   "metadata": {},
   "source": [
    "# FastAPI Quickstart\n",
    "\n",
    "This notebook provides a quick introduction to FastAPI, a modern Python web framework for building APIs. By the end of this tutorial, you will:\n",
    "1. Set up a Python environment for FastAPI.\n",
    "2. Create a simple FastAPI application.\n",
    "3. Create a \"Hello World\" API endpoint.\n",
    "4. Explore FastAPI's automatic documentation (Swagger UI and ReDoc).\n",
    "\n",
    "---\n",
    "\n",
    "## Topic 1: Create a Python Environment\n",
    "\n",
    "Before starting, let's create a clean Python environment to avoid conflicts with existing packages.\n",
    "\n",
    "### Option 1: Using `venv` (Recommended)"
   ]
  },
  {
   "cell_type": "code",
   "execution_count": null,
   "metadata": {
    "vscode": {
     "languageId": "plaintext"
    }
   },
   "outputs": [],
   "source": [
    "# 1. Create a virtual environment:\n",
    "!python -m venv fastapi-env\n",
    "\n",
    "# 2. Upgrade pip on active environment:\n",
    "!source fastapi-env/bin/activate && pip install --upgrade pip \n",
    "\n",
    "# 3. Install FastAPI, Uvicorn, Jupyter, and IPython kernel\n",
    "!source fastapi-env/bin/activate && pip install -q fastapi uvicorn ipykernel requests\n",
    "\n",
    "# 4. Add the virtual environment as a Jupyter kernel\n",
    "!source fastapi-env/bin/activate && python -m ipykernel install --user --name=fastapi-env --display-name \"SilverAIWolf (FastAPI)\"\n",
    "\n",
    "# 5. Verify the kernel installation\n",
    "!jupyter kernelspec list\n",
    "\n",
    "print(\"Kernel 'SilverAIWolf (FastAPI)' has been installed successfully!\")\n",
    "print(\"Please restart the Jupyter kernel and select 'SilverAIWolf (FastAPI)' from the kernel dropdown menu.\")\n",
    "print(\"Note: It might take a few seconds for the new kernel to appear. If it doesn't show up, try relaunching JupyterLab.\")"
   ]
  },
  {
   "cell_type": "markdown",
   "metadata": {},
   "source": [
    "## Topic 2: Create a Simple FastAPI App\n",
    "Let's create a basic FastAPI application with a single endpoint that returns \"Hello World\"."
   ]
  },
  {
   "cell_type": "code",
   "execution_count": null,
   "metadata": {},
   "outputs": [],
   "source": [
    "%%writefile main.py\n",
    "from fastapi import FastAPI\n",
    "\n",
    "# Create an instance of the FastAPI class\n",
    "app = FastAPI()\n",
    "\n",
    "# Define a route for the root endpoint\n",
    "@app.get(\"/\")\n",
    "def read_root():\n",
    "    return {\"message\": \"Hello World\"}"
   ]
  },
  {
   "cell_type": "markdown",
   "metadata": {},
   "source": [
    "## Topic 3: Run the FastAPI App\n",
    "To run the app, use Uvicorn. Execute the following command:\n",
    "\n",
    "- `main` refers to the filename (`main.py`).\n",
    "- `app` refers to the FastAPI instance.\n",
    "- `--reload` enables auto-reloading during development.\n",
    "- `--port` refers to the port in which the FastAPI instance is running."
   ]
  },
  {
   "cell_type": "code",
   "execution_count": null,
   "metadata": {},
   "outputs": [],
   "source": [
    "# Global variable to store the subprocess\n",
    "fastapi_process = None\n",
    "\n",
    "def run_fastapi(port):\n",
    "    global fastapi_process\n",
    "    # Command to activate the virtual environment and run the FastAPI server\n",
    "    command = f\"source fastapi-env/bin/activate && uvicorn main:app --reload --port {port}\"\n",
    "    \n",
    "    # Run the command in the shell with Popen\n",
    "    fastapi_process = subprocess.Popen(command, shell=True, executable=\"/bin/bash\", preexec_fn=os.setsid)\n",
    "\n",
    "def stop_fastapi():\n",
    "    global fastapi_process\n",
    "    if fastapi_process:\n",
    "        # Kill the process group to stop the server\n",
    "        os.killpg(os.getpgid(fastapi_process.pid), signal.SIGTERM)\n",
    "        fastapi_process = None\n",
    "        print(\"FastAPI server stopped.\")\n",
    "\n",
    "def restart_fastapi(port):\n",
    "    stop_fastapi()  # Stop the existing server if running\n",
    "    threading.Thread(target=run_fastapi, kwargs={\"port\": port}).start()\n",
    "    print(f\"FastAPI server restarted on port {port}.\")\n",
    "\n",
    "# Example usage\n",
    "port = 8081  # Change if it is already in use\n",
    "restart_fastapi(port)  # Starts the server\n",
    "\n",
    "# Wait for the threading to start the server before running the next cells\n",
    "sleep(10)"
   ]
  },
  {
   "cell_type": "markdown",
   "metadata": {},
   "source": [
    "## Topic 4: Test the API in Browser\n",
    "Once the app is running, open your browser and navigate to `localhost:port`\n",
    "\n",
    "You should see the following response:\n",
    "```json\n",
    "{\n",
    "  \"message\": \"Hello World\"\n",
    "}\n",
    "```"
   ]
  },
  {
   "cell_type": "code",
   "execution_count": null,
   "metadata": {},
   "outputs": [],
   "source": [
    "display(HTML(f'<p>FastAPI server is running in the background on port <a href=\"http://localhost:{port}\" target=\"_blank\">localhost:{port}</a>. To quit the FastAPI server from this notebook, simply restart the Jupyter kernel.</p>'))"
   ]
  },
  {
   "cell_type": "markdown",
   "metadata": {},
   "source": [
    "## Topic 5: Request from the API\n",
    "Once the app is running, you can test the API using Python's `requests` library."
   ]
  },
  {
   "cell_type": "code",
   "execution_count": null,
   "metadata": {},
   "outputs": [],
   "source": [
    "# Define the API URL\n",
    "url = f\"http://localhost:{port}/\"\n",
    "\n",
    "# Send a GET request to the API\n",
    "response = requests.get(url)\n",
    "\n",
    "# Print the response\n",
    "print(\"Status Code:\", response.status_code)\n",
    "print(\"Response JSON:\", response.json())"
   ]
  },
  {
   "cell_type": "markdown",
   "metadata": {},
   "source": [
    "## Topic 6: Explore Automatic Documentation\n",
    "FastAPI automatically generates interactive API documentation. You can access it in two ways:"
   ]
  },
  {
   "cell_type": "code",
   "execution_count": null,
   "metadata": {},
   "outputs": [],
   "source": [
    "# Define the base URL\n",
    "base_url = \"http://localhost:8081\"\n",
    "\n",
    "# Create HTML links for Swagger UI and ReDoc\n",
    "swagger_link = f'<a href=\"{base_url}/docs\" target=\"_blank\">Swagger UI - Using `localhost:port/docs`</a>'\n",
    "redoc_link = f'<a href=\"{base_url}/redoc\" target=\"_blank\">ReDoc - Using `localhost:port/redoc</a>'\n",
    "\n",
    "# Display the links\n",
    "display(HTML(f\"<p>Explore the API documentation:</p>\"))\n",
    "display(HTML(f\"<ul><li>{swagger_link}</li><li>{redoc_link}</li></ul>\"))"
   ]
  },
  {
   "cell_type": "markdown",
   "metadata": {},
   "source": [
    "## Topic 7: Add Another Endpoint\n",
    "Let's add another endpoint that takes a name as input and returns a personalized greeting."
   ]
  },
  {
   "cell_type": "code",
   "execution_count": null,
   "metadata": {},
   "outputs": [],
   "source": [
    "%%writefile main.py\n",
    "from fastapi import FastAPI\n",
    "\n",
    "# Create an instance of the FastAPI class\n",
    "app = FastAPI()\n",
    "\n",
    "# Define a route for the root endpoint\n",
    "@app.get(\"/\")\n",
    "def read_root():\n",
    "    return {\"message\": \"Hello World\"}\n",
    "\n",
    "@app.get(\"/greet/{name}\")\n",
    "def greet_name(name: str):\n",
    "    return {\"message\": f\"Hello, {name}!\"}"
   ]
  },
  {
   "cell_type": "code",
   "execution_count": null,
   "metadata": {},
   "outputs": [],
   "source": [
    "# Define the API URL\n",
    "url = \"http://localhost:8081/greet/John\"\n",
    "\n",
    "# Send a GET request to the API\n",
    "response = requests.get(url)\n",
    "\n",
    "# Print the response\n",
    "print(\"Status Code:\", response.status_code)\n",
    "print(\"Response JSON:\", response.json())"
   ]
  },
  {
   "cell_type": "markdown",
   "metadata": {},
   "source": [
    "## Topic 8: Add Query Parameters\n",
    "You can also use query parameters in FastAPI. Let's create an endpoint that takes two numbers and returns their sum."
   ]
  },
  {
   "cell_type": "code",
   "execution_count": null,
   "metadata": {},
   "outputs": [],
   "source": [
    "%%writefile main.py\n",
    "from fastapi import FastAPI\n",
    "\n",
    "# Create an instance of the FastAPI class\n",
    "app = FastAPI()\n",
    "\n",
    "# Define a route for the root endpoint\n",
    "@app.get(\"/\")\n",
    "def read_root():\n",
    "    return {\"message\": \"Hello World\"}\n",
    "\n",
    "@app.get(\"/greet/{name}\")\n",
    "def greet_name(name: str):\n",
    "    return {\"message\": f\"Hello, {name}!\"}\n",
    "\n",
    "@app.get(\"/add\")\n",
    "def add_numbers(a: int, b: int):\n",
    "    return {\"result\": a + b}"
   ]
  },
  {
   "cell_type": "code",
   "execution_count": null,
   "metadata": {},
   "outputs": [],
   "source": [
    "# Define the API URL with query parameters\n",
    "url = \"http://localhost:8081/add?a=5&b=3\"\n",
    "\n",
    "# Send a GET request to the API\n",
    "response = requests.get(url)\n",
    "\n",
    "# Print the response\n",
    "print(\"Status Code:\", response.status_code)\n",
    "print(\"Response JSON:\", response.json())"
   ]
  },
  {
   "cell_type": "markdown",
   "metadata": {},
   "source": [
    "## Recap\n",
    "In this notebook, you:\n",
    "1. Set up a Python environment for FastAPI.\n",
    "2. Created a FastAPI app.\n",
    "3. Created a \"Hello World\" endpoint.\n",
    "4. Tested the API using Python's `requests` library.\n",
    "5. Explored FastAPI's automatic documentation using interactive HTML links.\n",
    "6. Added endpoints with path parameters and query parameters."
   ]
  },
  {
   "cell_type": "markdown",
   "metadata": {},
   "source": [
    "## Next Steps\n",
    "- Move on to the next notebook: **`fastapi-real-time-api.ipynb`**, where you'll learn how to serve a machine learning model using FastAPI."
   ]
  },
  {
   "cell_type": "markdown",
   "metadata": {},
   "source": [
    "## Optional Cleaning"
   ]
  },
  {
   "cell_type": "code",
   "execution_count": null,
   "metadata": {},
   "outputs": [],
   "source": [
    "# Optional - Uninstall the kernel to clean your environment when done\n",
    "!source fastapi-env/bin/activate && jupyter kernelspec uninstall -y fastapi-env\n",
    "!jupyter kernelspec list"
   ]
  }
 ],
 "metadata": {
  "kernelspec": {
   "display_name": "SilverAIWolf (FastAPI)",
   "language": "python",
   "name": "fastapi-env"
  },
  "language_info": {
   "codemirror_mode": {
    "name": "ipython",
    "version": 3
   },
   "file_extension": ".py",
   "mimetype": "text/x-python",
   "name": "python",
   "nbconvert_exporter": "python",
   "pygments_lexer": "ipython3",
   "version": "3.11.8"
  }
 },
 "nbformat": 4,
 "nbformat_minor": 4
}
