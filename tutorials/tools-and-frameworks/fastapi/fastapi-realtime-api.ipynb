{
 "cells": [
  {
   "cell_type": "code",
   "execution_count": null,
   "id": "0",
   "metadata": {},
   "outputs": [],
   "source": [
    "from helper import run_fastapi, clean_tutorial\n",
    "import asyncio\n",
    "import nest_asyncio\n",
    "import websockets"
   ]
  },
  {
   "cell_type": "markdown",
   "id": "1",
   "metadata": {},
   "source": [
    "# FastAPI Real-Time API with WebSockets\n",
    "\n",
    "This notebook demonstrates how to build a **real-time API** using FastAPI and **WebSockets**. By the end of this tutorial, you will:\n",
    "1. Understand the basics of WebSockets and how they differ from HTTP.\n",
    "2. Set up a FastAPI app with WebSocket support.\n",
    "3. Create a WebSocket endpoint for real-time communication.\n",
    "4. Handle WebSocket connections and disconnections gracefully.\n",
    "5. Test the WebSocket API using a Python client.\n",
    "\n",
    "---\n",
    "\n",
    "## 1. Understanding WebSockets\n",
    "\n",
    "### What are WebSockets?\n",
    "WebSockets provide a **full-duplex communication channel** over a single, long-lived connection between a client and a server. Unlike HTTP, which follows a request-response model, WebSockets allow **real-time, bidirectional communication**.\n",
    "\n",
    "### Key Features of WebSockets:\n",
    "- **Persistent Connection**: The connection remains open until explicitly closed by either the client or the server.\n",
    "- **Low Latency**: Messages are sent and received instantly, making WebSockets ideal for real-time applications.\n",
    "- **Bidirectional Communication**: Both the client and server can send messages at any time.\n",
    "\n",
    "### Use Cases for WebSockets:\n",
    "    - Chat applications\n",
    "    - Live notifications\n",
    "    - Real-time dashboards\n",
    "    - Multiplayer online games"
   ]
  },
  {
   "cell_type": "markdown",
   "id": "2",
   "metadata": {},
   "source": [
    "## 2. Connect to the FastAPI Kernel\n",
    "\n",
    "Before starting, ensure you're using the correct kernel (`fastapi-env`) that has all the required dependencies installed.\n",
    "\n",
    "### Instructions to Connect to the Kernel:\n",
    "1. **Check Available Kernels**:\n",
    "   - Click on the kernel name in the top-right corner of the notebook (e.g., `Python 3`).\n",
    "   - Select **`Python (FastAPI)`** from the dropdown menu.\n",
    "\n",
    "2. **Install Missing Dependencies**:\n",
    "   - Open the notebook **fastapi-quickstart.ipynb** and follow the environment/kernel installation steps.\n",
    "   - Restart the Jupyter kernel and select the `SilverAIWolf (FastAPI)` kernel."
   ]
  },
  {
   "cell_type": "code",
   "execution_count": null,
   "id": "3",
   "metadata": {},
   "outputs": [],
   "source": [
    "!pip install -q websockets"
   ]
  },
  {
   "cell_type": "markdown",
   "id": "4",
   "metadata": {},
   "source": [
    "## 3. Set Up the FastAPI App\n",
    "\n",
    "First, let's create a basic FastAPI app with WebSocket support.\n",
    "\n",
    "**Explanation**:\n",
    "  - **`websocket.accept()`**: Accepts the WebSocket connection from the client.\n",
    "  - **`websocket.receive_text()`**: Waits for a text message from the client.\n",
    "  - **`websocket.send_text()`**: Sends a text message back to the client.\n",
    "  - **`WebSocketDisconnect`**: This exception is raised when the client disconnects. It allows you to handle the disconnection gracefully (e.g., clean up resources or log the event)."
   ]
  },
  {
   "cell_type": "code",
   "execution_count": null,
   "id": "5",
   "metadata": {},
   "outputs": [],
   "source": [
    "%%writefile main.py\n",
    "from fastapi import FastAPI, WebSocket\n",
    "from fastapi import WebSocket, WebSocketDisconnect\n",
    "\n",
    "# Create an instance of the FastAPI class\n",
    "app = FastAPI()\n",
    "\n",
    "# WebSocket endpoint\n",
    "@app.websocket(\"/ws\")\n",
    "async def websocket_endpoint(websocket: WebSocket):\n",
    "    await websocket.accept()\n",
    "    try:\n",
    "        while True:\n",
    "            # Receive a message from the client\n",
    "            data = await websocket.receive_text()\n",
    "            print(f\"Received message: {data}\")\n",
    "            \n",
    "            # Send a response back to the client\n",
    "            await websocket.send_text(f\"Message received: {data}\")\n",
    "    except WebSocketDisconnect:\n",
    "        print(\"Client disconnected\")\n",
    "    except Exception as e:\n",
    "        print(f\"Error in WebSocket handler: {e}\")\n",
    "        import traceback\n",
    "        traceback.print_exc()  # Print the full traceback"
   ]
  },
  {
   "cell_type": "markdown",
   "id": "6",
   "metadata": {},
   "source": [
    "## 4. Run the FastAPI Server\n",
    "\n",
    "To run the FastAPI server.\n",
    "\n",
    "The helper function `run_fastapi` uses the following command: \n",
    "```bash\n",
    "uvicorn main:app --reload --port 8081\n",
    "```\n",
    "\n",
    "**Explanation**:\n",
    "  - `uvicorn` is an ASGI server used to run FastAPI apps.\n",
    "  - `--reload` enables auto-reloading during development.\n",
    "  - `--port 8081` specifies the port to run the server on."
   ]
  },
  {
   "cell_type": "code",
   "execution_count": null,
   "id": "7",
   "metadata": {},
   "outputs": [],
   "source": [
    "port = 8081\n",
    "run_fastapi(port)"
   ]
  },
  {
   "cell_type": "markdown",
   "id": "8",
   "metadata": {},
   "source": [
    "## 5. Test the WebSocket API\n",
    "\n",
    "Let's test the WebSocket API using a Python client. But since we are running an event loop already by using the jupyter notebook, we will have to apply nest_asyncio using the following command:"
   ]
  },
  {
   "cell_type": "code",
   "execution_count": null,
   "id": "9",
   "metadata": {},
   "outputs": [],
   "source": [
    "nest_asyncio.apply()"
   ]
  },
  {
   "cell_type": "markdown",
   "id": "10",
   "metadata": {},
   "source": [
    "**Explanation**:\n",
    "  - The `websockets` library is used to create a WebSocket client.\n",
    "  - The client connects to the WebSocket server at `ws://localhost:{port}/ws`.\n",
    "  - It sends a message (`\"Hello, WebSocket!\"`) and waits for a response."
   ]
  },
  {
   "cell_type": "code",
   "execution_count": null,
   "id": "11",
   "metadata": {},
   "outputs": [],
   "source": [
    "async def test_websocket(port):\n",
    "    uri = f\"ws://localhost:{port}/ws\"\n",
    "    async with websockets.connect(uri) as websocket:\n",
    "        # Send a message to the server\n",
    "        await websocket.send(\"Hello, WebSocket!\")\n",
    "        \n",
    "        # Receive a response from the server\n",
    "        response = await websocket.recv()\n",
    "        print(response)\n",
    "\n",
    "# Run the WebSocket client\n",
    "asyncio.get_event_loop().run_until_complete(test_websocket(port))"
   ]
  },
  {
   "cell_type": "markdown",
   "id": "12",
   "metadata": {},
   "source": [
    "## 6. Build a Simple Real-Time Chat Application\n",
    "\n",
    "Let's extend the WebSocket API to build a simple real-time chat application.\n",
    "\n",
    "**Explanation**:\n",
    "  - The `ConnectionManager` class manages active WebSocket connections.\n",
    "  - `manager.connect()` adds a new connection to the list of active connections.\n",
    "  - `manager.disconnect()` removes a connection when the client disconnects.\n",
    "  - `manager.broadcast()` sends a message to all connected clients."
   ]
  },
  {
   "cell_type": "code",
   "execution_count": null,
   "id": "13",
   "metadata": {},
   "outputs": [],
   "source": [
    "%%writefile main.py\n",
    "from fastapi import FastAPI, WebSocket\n",
    "from fastapi import WebSocket, WebSocketDisconnect\n",
    "\n",
    "# Create an instance of the FastAPI class\n",
    "app = FastAPI()\n",
    "\n",
    "class ConnectionManager:\n",
    "    def __init__(self):\n",
    "        self.active_connections = []\n",
    "\n",
    "    async def connect(self, websocket: WebSocket):\n",
    "        await websocket.accept()\n",
    "        self.active_connections.append(websocket)\n",
    "\n",
    "    def disconnect(self, websocket: WebSocket):\n",
    "        self.active_connections.remove(websocket)\n",
    "\n",
    "    async def broadcast(self, message: str):\n",
    "        for connection in self.active_connections:\n",
    "            await connection.send_text(message)\n",
    "\n",
    "# Create an instance of the ConnectionManager\n",
    "manager = ConnectionManager()\n",
    "\n",
    "# WebSocket endpoint\n",
    "@app.websocket(\"/ws\")\n",
    "async def websocket_endpoint(websocket: WebSocket):\n",
    "    await websocket.accept()\n",
    "    try:\n",
    "        while True:\n",
    "            # Receive a message from the client\n",
    "            data = await websocket.receive_text()\n",
    "            print(f\"Received message: {data}\")\n",
    "            \n",
    "            # Send a response back to the client\n",
    "            await websocket.send_text(f\"Message received: {data}\")\n",
    "    except WebSocketDisconnect:\n",
    "        print(\"Client disconnected\")\n",
    "    except Exception as e:\n",
    "        print(f\"Error in WebSocket handler: {e}\")\n",
    "        import traceback\n",
    "        traceback.print_exc()  # Print the full traceback\n",
    "\n",
    "@app.websocket(\"/ws/chat\")\n",
    "async def websocket_chat_endpoint(websocket: WebSocket):\n",
    "    await manager.connect(websocket)\n",
    "    try:\n",
    "        while True:\n",
    "            # Receive a message from the client\n",
    "            data = await websocket.receive_text()\n",
    "            print(f\"Received message: {data}\")\n",
    "            \n",
    "            # Broadcast the message to all connected clients\n",
    "            await manager.broadcast(f\"Sorry I can't talk because I am not a Generative Pre-trained Transformer. But soon you will make me smarter!\")\n",
    "    except WebSocketDisconnect:\n",
    "        manager.disconnect(websocket)\n",
    "        await manager.broadcast(\"A user has left the chat.\")\n",
    "    except Exception as e:\n",
    "        print(f\"Error in WebSocket handler: {e}\")"
   ]
  },
  {
   "cell_type": "markdown",
   "id": "14",
   "metadata": {},
   "source": [
    "## 7. Test the Chat Application\n",
    "\n",
    "To test the chat application, you can use multiple WebSocket clients or a front-end interface. Here's an example using a Python client:\n",
    "**Explanation**:\n",
    "  - The chat client connects to the WebSocket server at `ws://localhost:{port}/ws/chat`.\n",
    "  - It sends a message and listens for broadcasted messages."
   ]
  },
  {
   "cell_type": "code",
   "execution_count": null,
   "id": "15",
   "metadata": {},
   "outputs": [],
   "source": [
    "async def chat_client(port):\n",
    "    uri = f\"ws://localhost:{port}/ws/chat\"\n",
    "    async with websockets.connect(uri) as websocket:\n",
    "        print(\"Connected to the chat server. Type 'exit' to quit.\")\n",
    "        while True:\n",
    "            # Prompt the user for input\n",
    "            message = input(\"You: \")\n",
    "            \n",
    "            # Exit the loop if the user types 'exit'\n",
    "            if message.lower() == \"exit\":\n",
    "                print(\"Exiting chat...\")\n",
    "                break\n",
    "            \n",
    "            # Send the message to the server\n",
    "            await websocket.send(message)\n",
    "            \n",
    "            # Receive a response from the server\n",
    "            response = await websocket.recv()\n",
    "            print(f\"Server: {response}\")\n",
    "\n",
    "# Run the chat client\n",
    "asyncio.get_event_loop().run_until_complete(chat_client(port))"
   ]
  },
  {
   "cell_type": "markdown",
   "id": "16",
   "metadata": {},
   "source": [
    "## Recap\n",
    "\n",
    "In this notebook, you:\n",
    "1. Learned about WebSockets and their use cases.\n",
    "2. Set up a FastAPI app with WebSocket support.\n",
    "3. Created a WebSocket endpoint for real-time communication.\n",
    "4. Handled WebSocket connections and disconnections gracefully.\n",
    "5. Built a simple real-time chat application.\n",
    "6. Tested the chat application using a Python client."
   ]
  },
  {
   "cell_type": "markdown",
   "id": "17",
   "metadata": {},
   "source": [
    "## Next Steps\n",
    "\n",
    "1. **Integrate with Front-End Frameworks**:\n",
    "   - Build a front-end interface using frameworks like React, Vue.js, or Angular to interact with the WebSocket API.\n",
    "\n",
    "2. **Scale the Application**:\n",
    "   - Use tools like Redis or Kafka to handle high volumes of messages and scale the chat application.\n",
    "\n",
    "3. **Add Authentication**:\n",
    "   - Implement user authentication to secure the WebSocket connection and personalize chat messages.\n",
    "\n",
    "4. **Explore Advanced Features**:\n",
    "   - Add features like typing indicators, message history, and file sharing to enhance the chat application.\n",
    "\n",
    "5. **Move to Production**:\n",
    "   - Deploy the FastAPI app using tools like Docker, Kubernetes, or cloud platforms (e.g., AWS, GCP, Azure).\n",
    "\n",
    "6. **Learn More**:\n",
    "   - Explore advanced WebSocket integration techniques in the next notebook: **`fastapi-websockets-integration.ipynb`**."
   ]
  },
  {
   "cell_type": "markdown",
   "id": "18",
   "metadata": {},
   "source": [
    "# Optional Cleaning"
   ]
  },
  {
   "cell_type": "code",
   "execution_count": null,
   "id": "19",
   "metadata": {},
   "outputs": [],
   "source": [
    "clean_tutorial()"
   ]
  },
  {
   "cell_type": "code",
   "execution_count": null,
   "id": "20",
   "metadata": {},
   "outputs": [],
   "source": []
  }
 ],
 "metadata": {
  "kernelspec": {
   "name": "fastapi-env"
  },
  "language_info": {
   "codemirror_mode": {
    "name": "ipython",
    "version": 3
   },
   "file_extension": ".py",
   "mimetype": "text/x-python",
   "name": "python",
   "nbconvert_exporter": "python",
   "pygments_lexer": "ipython3",
   "version": "3.11.8"
  }
 },
 "nbformat": 4,
 "nbformat_minor": 5
}
