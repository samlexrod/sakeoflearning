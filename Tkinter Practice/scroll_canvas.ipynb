{
 "cells": [
  {
   "cell_type": "code",
   "execution_count": 59,
   "metadata": {},
   "outputs": [],
   "source": [
    "import tkinter as tk\n",
    "from tkinter import *\n",
    "from tkinter import ttk"
   ]
  },
  {
   "cell_type": "code",
   "execution_count": 81,
   "metadata": {},
   "outputs": [],
   "source": [
    "root = tk.Tk()\n",
    "#root.state('zoomed')\n",
    "\n",
    "root.config(bg='white')\n",
    "#Add a canvas to the window\n",
    "canvas = Canvas(root,width=200, height=200)\n",
    "canvas.grid(column=0, row=0, sticky=N+S+E+W)\n",
    "\n",
    "root.grid_rowconfigure(0, weight=1)\n",
    "root.grid_columnconfigure(0, weight=1)\n",
    "\n",
    "#Add a scrollbar that will scroll the canvas vertically\n",
    "vscrollbar = Scrollbar(root)\n",
    "vscrollbar.grid(column=1, row=0, sticky=N+S)\n",
    "\n",
    "#Link the scrollbar to the canvas\n",
    "canvas.config(yscrollcommand=vscrollbar.set, bg='white')\n",
    "vscrollbar.config(command=canvas.yview)\n",
    "\n",
    "\n",
    "f = LabelFrame(canvas, bg='white')\n",
    "\n",
    "#Create a button in the frame.\n",
    "b = Button(f,text=\"hi there\")\n",
    "b.grid(row=0, column=0)\n",
    "\n",
    "#Add a large grid of sample label widgets to fill the space\n",
    "for x in range(1,30):\n",
    "    for y in range(1,20):\n",
    "       Label(f, text=str(x*y), bg='white').grid(row=1+y, column=x)\n",
    "    \n",
    "#Add the frame to the canvas\n",
    "canvas.create_window((0,0), anchor=NW, window=f)\n",
    "\n",
    "#f.update_idletasks() #REQUIRED: For f.bbox() below to work!\n",
    "#f.update()\n",
    "root.update()\n",
    "\n",
    "#Tell the canvas how big of a region it should scroll\n",
    "canvas.config(scrollregion= f.bbox(\"all\"))\n",
    "\n",
    "\n",
    "root.mainloop()"
   ]
  },
  {
   "cell_type": "code",
   "execution_count": null,
   "metadata": {},
   "outputs": [],
   "source": []
  }
 ],
 "metadata": {
  "kernelspec": {
   "display_name": "Python 3",
   "language": "python",
   "name": "python3"
  },
  "language_info": {
   "codemirror_mode": {
    "name": "ipython",
    "version": 3
   },
   "file_extension": ".py",
   "mimetype": "text/x-python",
   "name": "python",
   "nbconvert_exporter": "python",
   "pygments_lexer": "ipython3",
   "version": "3.6.5"
  }
 },
 "nbformat": 4,
 "nbformat_minor": 2
}
