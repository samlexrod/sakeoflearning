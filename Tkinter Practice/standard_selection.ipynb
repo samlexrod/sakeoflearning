{
 "cells": [
  {
   "cell_type": "markdown",
   "metadata": {},
   "source": [
    "# Creating Combobox Window"
   ]
  },
  {
   "cell_type": "code",
   "execution_count": 63,
   "metadata": {},
   "outputs": [
    {
     "name": "stdout",
     "output_type": "stream",
     "text": [
      "\n"
     ]
    }
   ],
   "source": [
    "\"\"\"\n",
    "For each standard columns in alphabetical order, create a label \n",
    "and dropdown box (containing a list of provided columns).\n",
    "\"\"\"\n",
    "from tkinter import *\n",
    "from tkinter import ttk\n",
    "\n",
    "standard_columns = ['col1', 'col', 'col3']\n",
    "provided_columns = ['this1', 'this2', 'this3']\n",
    "\n",
    "class StdMapping:\n",
    "    \n",
    "    def __init__(self, standard_columns, provided_columns):\n",
    "        self.standard_columns = standard_columns\n",
    "        self.provided_columns = provided_columns\n",
    "        \n",
    "        # starting menu\n",
    "        self.main_menu()\n",
    "        \n",
    "        # creating comboboxes\n",
    "        self.combo_boxes()\n",
    "        \n",
    "        # opening window\n",
    "        self.root.mainloop()\n",
    "        \n",
    "    def main_menu(self):\n",
    "        self.root = Tk()\n",
    "        \n",
    "    def combo_boxes(self):   \n",
    "        mapping_dict = {}\n",
    "        for i, standard in enumerate(standard_columns):\n",
    "            standard_label = ttk.Label(self.root, text = standard)\n",
    "            standard_label.grid(row=i, column=0)\n",
    "\n",
    "            mapping_dict.setdefault(standard, StringVar()) \n",
    "            provided_combo = ttk.Combobox(self.root, textvariable=mapping_dict[standard])\n",
    "            provided_combo.config(values=self.provided_columns)\n",
    "            provided_combo.grid(row=i, column=1)\n",
    "    \n",
    "        self.mapping_dict = {k: v.get() for k, v in mapping_dict.items()}\n",
    "        \n",
    "app = StdMapping(standard_columns, provided_columns)\n",
    "app.mapping_dict['col1']"
   ]
  }
 ],
 "metadata": {
  "kernelspec": {
   "display_name": "Python 3",
   "language": "python",
   "name": "python3"
  },
  "language_info": {
   "codemirror_mode": {
    "name": "ipython",
    "version": 3
   },
   "file_extension": ".py",
   "mimetype": "text/x-python",
   "name": "python",
   "nbconvert_exporter": "python",
   "pygments_lexer": "ipython3",
   "version": "3.7.0"
  }
 },
 "nbformat": 4,
 "nbformat_minor": 2
}
