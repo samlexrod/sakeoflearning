{
 "cells": [
  {
   "cell_type": "markdown",
   "metadata": {},
   "source": [
    "# Creating Combobox Window"
   ]
  },
  {
   "cell_type": "code",
   "execution_count": 40,
   "metadata": {},
   "outputs": [
    {
     "data": {
      "text/plain": [
       "'C:\\\\Users\\\\sammy\\\\.jupyter\\\\jupyter_notebook_config.py'"
      ]
     },
     "execution_count": 40,
     "metadata": {},
     "output_type": "execute_result"
    }
   ],
   "source": [
    "import os\n",
    "import getpass\n",
    "os.system('jupyter notebook --generate-config')\n",
    "user = getpass.getuser()\n",
    "jup_filepathname = rf\"C:\\Users\\{user}\\.jupyter\\jupyter_notebook_config.py\"\n",
    "jupyter_config = open(jup_filepathname, 'w')"
   ]
  },
  {
   "cell_type": "code",
   "execution_count": 41,
   "metadata": {},
   "outputs": [],
   "source": []
  },
  {
   "cell_type": "code",
   "execution_count": 42,
   "metadata": {},
   "outputs": [
    {
     "data": {
      "text/plain": [
       "<_io.TextIOWrapper name='C:\\\\Users\\\\sammy\\\\.jupyter\\\\jupyter_notebook_config.py' mode='w' encoding='cp1252'>"
      ]
     },
     "execution_count": 42,
     "metadata": {},
     "output_type": "execute_result"
    }
   ],
   "source": [
    "jupyter_config"
   ]
  },
  {
   "cell_type": "code",
   "execution_count": 2,
   "metadata": {},
   "outputs": [],
   "source": [
    "from tkinter import *\n",
    "from tkinter import ttk\n",
    "import pandas as pd"
   ]
  },
  {
   "cell_type": "code",
   "execution_count": 4,
   "metadata": {},
   "outputs": [],
   "source": [
    "\"\"\"\n",
    "For each standard columns in alphabetical order, create a label \n",
    "and dropdown box (containing a list of provided columns).\n",
    "\"\"\"\n",
    "\n",
    "\n",
    "standard_columns = ['col1', 'col2', 'col3', 'col1', 'col2', 'col3', 'col1', 'col2', 'col3', 'col1', 'col2', 'col3']\n",
    "provided_columns = ['this1', 'this2', 'this3']\n",
    "\n",
    "dataframe = pd.DataFrame({'ClaimNumber':[6654651, 2655165, 35654165, 5516515]*3,\n",
    "                          'AllowedAmount': [33.33, 232.32, 234.23, 12343.33]*3}).T\n",
    "\n",
    "class StdMapping:\n",
    "    \n",
    "    def __init__(self, standard_columns, provided_columns, dataframe):\n",
    "        self.standard_columns = standard_columns\n",
    "        self.provided_columns = provided_columns\n",
    "        \n",
    "        # starting menu\n",
    "        self.main_menu()\n",
    "        \n",
    "        # creating comboboxes\n",
    "        self.combo_boxes()\n",
    "        \n",
    "        # preparing explorer\n",
    "        text = Text(self.frame_exp)\n",
    "        text.config(width=200, wrap='none')\n",
    "        text.pack(side = LEFT, fill=BOTH, expand=YES)\n",
    "        pd.options.display.max_columns = 100\n",
    "        text.insert(END, dataframe.to_string()) \n",
    "        text.see(END)\n",
    "\n",
    "        \n",
    "        # opening window\n",
    "        self.root.mainloop()\n",
    "        \n",
    "    def main_menu(self):\n",
    "        self.root = Tk()\n",
    "        self.root.title('Standard Mapping Tool (SMT)')\n",
    "        self.root.state('zoomed')\n",
    "        self.root.state('iconic')\n",
    "        self.root.geometry('640x458+50+100') #size of window\n",
    "        self.root.resizable(False, False)\n",
    "        self.root.minsize(200, 200)\n",
    "        self.root.maxsize(1000, 1000)\n",
    "        \n",
    "        self.frame = ttk.LabelFrame(self.root)\n",
    "        self.frame.pack(side = LEFT, fill=BOTH, expand=NO)\n",
    "        self.frame.config(height=500, \n",
    "                          width=200, \n",
    "                          relief = RIDGE,\n",
    "                          padding = (10, 15),\n",
    "                          text='Standard Mappings')\n",
    "        \n",
    "        self.frame_exp = ttk.LabelFrame(self.root)\n",
    "        self.frame_exp.pack(side = LEFT, fill=BOTH, expand=YES)\n",
    "        self.frame_exp.config(height=500, \n",
    "                          width=1000, \n",
    "                          relief = RIDGE,\n",
    "                          padding = (10, 15),\n",
    "                          text='Data Explorer')\n",
    "    def explorer(self):\n",
    "        pass\n",
    "        \n",
    "    def combo_boxes(self):   \n",
    "        mapping_dict = {}\n",
    "        for i, standard in enumerate(standard_columns):\n",
    "            standard_label = ttk.Label(self.frame, text = standard)\n",
    "            standard_label.grid(row=i, column=0)\n",
    "\n",
    "            mapping_dict.setdefault(standard, StringVar()) \n",
    "            provided_combo = ttk.Combobox(self.frame, textvariable=mapping_dict[standard])\n",
    "            provided_combo.config(values=self.provided_columns)\n",
    "            provided_combo.grid(row=i, column=1)\n",
    "    \n",
    "        self.mapping_dict = mapping_dict            \n",
    "        \n",
    "app = StdMapping(standard_columns, provided_columns, dataframe)"
   ]
  },
  {
   "cell_type": "code",
   "execution_count": 27,
   "metadata": {},
   "outputs": [],
   "source": [
    "\"\"\"\n",
    "For each standard columns in alphabetical order, create a label \n",
    "and dropdown box (containing a list of provided columns).\n",
    "\"\"\"\n",
    "from tkinter import *\n",
    "from tkinter import ttk\n",
    "import pandas as pd\n",
    "\n",
    "standard_columns = ['col1', 'col2', 'col3', 'col1', 'col2', 'col3', 'col1', 'col2', 'col3', 'col1', 'col2', 'col3']\n",
    "provided_columns = ['this1', 'this2', 'this3']\n",
    "\n",
    "dataframe = pd.DataFrame({'ClaimNumber':[6654651, 2655165, 35654165, 5516515]*3,\n",
    "                          'AllowedAmount': [33.33, 232.32, 234.23, 12343.33]*3}).T\n",
    "\n",
    "class StdMapping:\n",
    "    \n",
    "    def __init__(self, standard_columns, provided_columns, dataframe):\n",
    "        self.standard_columns = standard_columns\n",
    "        self.provided_columns = provided_columns\n",
    "        \n",
    "        # starting menu\n",
    "        self.main_menu()\n",
    "        \n",
    "        # creating comboboxes\n",
    "        self.combo_boxes()\n",
    "        \n",
    "        # preparing explorer\n",
    "        text = Text(self.frame_exp)\n",
    "        text.config(width=200)\n",
    "        text.pack(side = LEFT, fill=BOTH, expand=YES)\n",
    "        pd.options.display\n",
    "        text.insert(END, str(dataframe))        \n",
    "\n",
    "        \n",
    "        # opening window\n",
    "        self.root.mainloop()\n",
    "        \n",
    "    def main_menu(self):\n",
    "        self.root = Tk()\n",
    "        self.root.title('Standard Mapping Tool (SMT)')\n",
    "        \n",
    "        self.frame = ttk.LabelFrame(self.root)\n",
    "        self.frame.pack(side = LEFT, fill=BOTH, expand=NO)\n",
    "        self.frame.config(height=500, \n",
    "                          width=200, \n",
    "                          relief = RIDGE,\n",
    "                          padding = (10, 15),\n",
    "                          text='Standard Mappings')\n",
    "        \n",
    "        self.frame_exp = ttk.LabelFrame(self.root)\n",
    "        self.frame_exp.pack(side = LEFT, fill=BOTH, expand=YES)\n",
    "        self.frame_exp.config(height=500, \n",
    "                          width=1000, \n",
    "                          relief = RIDGE,\n",
    "                          padding = (10, 15),\n",
    "                          text='Data Explorer')\n",
    "    def explorer(self):\n",
    "        pass\n",
    "        \n",
    "    def combo_boxes(self):   \n",
    "                \n",
    "        for i, standard in enumerate(standard_columns):\n",
    "            standard_label = ttk.Label(self.frame, text = standard)\n",
    "            standard_label.grid(row=i, column=0)\n",
    "\n",
    "            mapping_dict.setdefault(standard, StringVar()) \n",
    "            provided_combo = ttk.Combobox(self.frame, textvariable=mapping_dict[standard])\n",
    "            provided_combo.config(values=self.provided_columns)\n",
    "            provided_combo.grid(row=i, column=1)\n",
    "    \n",
    "        self.mapping_dict = mapping_dict            \n",
    "        \n",
    "app = StdMapping(standard_columns, provided_columns, dataframe)"
   ]
  },
  {
   "cell_type": "code",
   "execution_count": 28,
   "metadata": {},
   "outputs": [
    {
     "data": {
      "text/plain": [
       "{'col1': 'this1', 'col2': 'this2', 'col3': ''}"
      ]
     },
     "execution_count": 28,
     "metadata": {},
     "output_type": "execute_result"
    }
   ],
   "source": [
    "mapping_dict"
   ]
  },
  {
   "cell_type": "code",
   "execution_count": 29,
   "metadata": {},
   "outputs": [],
   "source": [
    "from tkinter import *\n",
    "from tkinter import ttk        \n",
    "    \n",
    "root = Tk()\n",
    "\n",
    "frame = ttk.Frame(root)\n",
    "frame.pack()\n",
    "frame.config(height = 100, width = 200)\n",
    "frame.config(relief = RIDGE)\n",
    "ttk.Button(frame, text = 'Click Me').pack()\n",
    "frame.config(padding = (30, 15))\n",
    "ttk.LabelFrame(root, height = 100, width = 200, text = 'My Frame').pack()\n",
    "\n",
    "root.mainloop()\n"
   ]
  },
  {
   "cell_type": "code",
   "execution_count": null,
   "metadata": {},
   "outputs": [],
   "source": []
  }
 ],
 "metadata": {
  "kernelspec": {
   "display_name": "Python 3",
   "language": "python",
   "name": "python3"
  },
  "language_info": {
   "codemirror_mode": {
    "name": "ipython",
    "version": 3
   },
   "file_extension": ".py",
   "mimetype": "text/x-python",
   "name": "python",
   "nbconvert_exporter": "python",
   "pygments_lexer": "ipython3",
   "version": "3.7.0"
  }
 },
 "nbformat": 4,
 "nbformat_minor": 2
}
