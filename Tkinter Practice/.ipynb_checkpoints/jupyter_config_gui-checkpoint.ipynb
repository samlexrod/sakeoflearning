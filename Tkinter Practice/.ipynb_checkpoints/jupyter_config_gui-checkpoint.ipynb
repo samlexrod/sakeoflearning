{
 "cells": [
  {
   "cell_type": "markdown",
   "metadata": {},
   "source": [
    "## Handle Image"
   ]
  },
  {
   "cell_type": "code",
   "execution_count": 6,
   "metadata": {},
   "outputs": [],
   "source": [
    "import calendar"
   ]
  },
  {
   "cell_type": "code",
   "execution_count": 8,
   "metadata": {},
   "outputs": [],
   "source": [
    "import tkinter as tk\n",
    "from tkinter import ttk\n",
    "from PIL import Image, ImageTk\n",
    "import os\n",
    "import getpass as gt\n",
    "\n",
    "root = tk.Tk()\n",
    "root.config(background='white')\n",
    "root.title('Workspace Setup Configurator (WSC)')\n",
    "root.resizable(width=False, height=False)\n",
    "\n",
    "def configure_window():\n",
    "    config_window = tk.Toplevel(bg='white')\n",
    "    config_window.title('Jupyter Default Configuration')\n",
    "\n",
    "canvas = tk.Canvas(root, background='white')\n",
    "\n",
    "config_button = ttk.Button(root, text='Configuration', command=configure_window)\n",
    "config_button.pack()\n",
    "\n",
    "# Image Manipulation\n",
    "img = Image.open('jupyter.jpg')\n",
    "img = img.resize((150, 140))\n",
    "img = ImageTk.PhotoImage(img)\n",
    "image_label = ttk.Label(root, image=img, background='white')\n",
    "image_label.pack()\n",
    "\n",
    "img2 = Image.open('Accenture_Avalon_Logo.jpg')\n",
    "img2 = img2.resize((150, 50))\n",
    "img2 = ImageTk.PhotoImage(img2)\n",
    "image_label = ttk.Label(root, image=img2, background='white')\n",
    "image_label.pack()\n",
    "\n",
    "canvas.pack(padx=10, pady=10)\n",
    "\n",
    "# padding settings\n",
    "x=15\n",
    "y=10\n",
    "\n",
    "client_name = tk.StringVar()\n",
    "label1 = ttk.Label(canvas, text='Choose a client id', background='white')\n",
    "cbox1 = ttk.Combobox(canvas, textvariable=client_name, values=['here', 'there'])\n",
    "label1.grid(row=1, column=0, padx=50, pady=y)\n",
    "cbox1.grid(row=1, column=1, padx=x)\n",
    "\n",
    "calendar_name = tk.StringVar()\n",
    "label2 = ttk.Label(canvas, text='Choose the data receive date', background='white')\n",
    "cbox2 = ttk.Combobox(canvas, textvariable=calendar_name, values=['20180101', '20180102'])\n",
    "label2.grid(row=2, column=0, padx=50, pady=y)\n",
    "cbox2.grid(row=2, column=1, padx=x)\n",
    "\n",
    "root.mainloop()"
   ]
  },
  {
   "cell_type": "code",
   "execution_count": null,
   "metadata": {},
   "outputs": [],
   "source": []
  }
 ],
 "metadata": {
  "kernelspec": {
   "display_name": "Python 3",
   "language": "python",
   "name": "python3"
  },
  "language_info": {
   "codemirror_mode": {
    "name": "ipython",
    "version": 3
   },
   "file_extension": ".py",
   "mimetype": "text/x-python",
   "name": "python",
   "nbconvert_exporter": "python",
   "pygments_lexer": "ipython3",
   "version": "3.7.0"
  }
 },
 "nbformat": 4,
 "nbformat_minor": 2
}
