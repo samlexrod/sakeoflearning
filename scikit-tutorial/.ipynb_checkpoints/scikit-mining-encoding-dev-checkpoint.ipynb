{
 "cells": [
  {
   "cell_type": "markdown",
   "metadata": {},
   "source": [
    "# Imports Always First"
   ]
  },
  {
   "cell_type": "code",
   "execution_count": null,
   "metadata": {},
   "outputs": [],
   "source": [
    "import pandas as pd\n",
    "from sklearn.preprocessing import LabelEncoder, OneHotEncoder, LabelBinarizer\n",
    "from collections import defaultdict\n",
    "import warnings\n",
    "import numpy as np"
   ]
  },
  {
   "cell_type": "markdown",
   "metadata": {},
   "source": [
    "# Creating Test Dataset"
   ]
  },
  {
   "cell_type": "code",
   "execution_count": null,
   "metadata": {},
   "outputs": [],
   "source": [
    "df_encode1 = pd.DataFrame({'col1': ['this', 'will', 'be', 'encoded'], 'col2': [1, 2, 3, 4]})"
   ]
  },
  {
   "cell_type": "code",
   "execution_count": null,
   "metadata": {},
   "outputs": [],
   "source": [
    "df_encode2 = df_encode1.copy()\n",
    "df_encode1"
   ]
  },
  {
   "cell_type": "markdown",
   "metadata": {},
   "source": [
    "---\n",
    "# Encoding Using get_dummies"
   ]
  },
  {
   "cell_type": "code",
   "execution_count": null,
   "metadata": {},
   "outputs": [],
   "source": [
    "pd.get_dummies(df_encode1, drop_first=True)"
   ]
  },
  {
   "cell_type": "markdown",
   "metadata": {},
   "source": [
    "---\n",
    "# Encoding Using LabelEncoder and OneHotEncoder"
   ]
  },
  {
   "cell_type": "code",
   "execution_count": null,
   "metadata": {},
   "outputs": [],
   "source": [
    "# set encoder\n",
    "lenc = LabelEncoder()\n",
    "oenc = OneHotEncoder()"
   ]
  },
  {
   "cell_type": "code",
   "execution_count": null,
   "metadata": {},
   "outputs": [],
   "source": [
    "# laabel endcoding the categorical column\n",
    "df_encode1.col1 = lenc.fit_transform(df_encode1.col1)"
   ]
  },
  {
   "cell_type": "code",
   "execution_count": null,
   "metadata": {},
   "outputs": [],
   "source": [
    "df_encode1"
   ]
  },
  {
   "cell_type": "code",
   "execution_count": null,
   "metadata": {},
   "outputs": [],
   "source": [
    "# one hot encoding, all values are encoded\n",
    "oenc.fit_transform(df_encode1).toarray()"
   ]
  },
  {
   "cell_type": "markdown",
   "metadata": {},
   "source": [
    "---\n",
    "# Multi-column Encoding"
   ]
  },
  {
   "cell_type": "markdown",
   "metadata": {},
   "source": [
    "## Label Encoding"
   ]
  },
  {
   "cell_type": "code",
   "execution_count": null,
   "metadata": {},
   "outputs": [],
   "source": [
    "df_multiencode = pd.concat([df_encode2, \n",
    "                            pd.DataFrame({'col3': ['Another', 'encoding', 'attempt', 'here']})], \n",
    "                            axis=1)\n",
    "display(df_multiencode)"
   ]
  },
  {
   "cell_type": "code",
   "execution_count": null,
   "metadata": {},
   "outputs": [],
   "source": [
    "df_encoded = pd.DataFrame()\n",
    "inverse_dict = defaultdict(LabelEncoder)\n",
    "\n",
    "# for loop version\n",
    "for column in df_multiencode.columns:\n",
    "    df_encoded[column] = inverse_dict[column].fit_transform(df_multiencode[column])    \n",
    "\n",
    "display(df_encoded)"
   ]
  },
  {
   "cell_type": "code",
   "execution_count": null,
   "metadata": {},
   "outputs": [],
   "source": [
    "# one line version\n",
    "df_encoded = df_multiencode.copy()\n",
    "df_encoded = df_multiencode.apply(lambda x: inverse_dict[x.name].fit_transform(x))\n",
    "display(df_encoded)"
   ]
  },
  {
   "cell_type": "markdown",
   "metadata": {},
   "source": [
    "### Label Encoding Inverse"
   ]
  },
  {
   "cell_type": "code",
   "execution_count": null,
   "metadata": {},
   "outputs": [],
   "source": [
    "warnings.filterwarnings('ignore')\n",
    "df_rencoded = pd.DataFrame()\n",
    "# for loop version\n",
    "for column in df_encoded.columns:\n",
    "    df_rencoded[column] = inverse_dict[column].inverse_transform(df_encoded[column])       \n",
    "df_rencoded"
   ]
  },
  {
   "cell_type": "markdown",
   "metadata": {},
   "source": [
    "## One Hot Encoding"
   ]
  },
  {
   "cell_type": "code",
   "execution_count": null,
   "metadata": {},
   "outputs": [],
   "source": [
    "df_onehot = pd.DataFrame()\n",
    "one_hot_dict = defaultdict(OneHotEncoder)\n",
    "\n",
    "for column in df_encoded.columns:    \n",
    "    one_hot_target = df_encoded[column].values.reshape(-1, 1)\n",
    "    X = one_hot_dict[column].fit_transform(one_hot_target).toarray()\n",
    "    one_hot_column = ([column + '_' + str(x) for x in range(X.shape[1])])\n",
    "    new_onehot = pd.DataFrame(X, columns=one_hot_column)\n",
    "    df_onehot = pd.concat([df_onehot, new_onehot], axis=1)\n",
    "    \n",
    "df_onehot"
   ]
  },
  {
   "cell_type": "markdown",
   "metadata": {},
   "source": [
    "### One Hot Inverse Deprecated"
   ]
  },
  {
   "cell_type": "markdown",
   "metadata": {},
   "source": [
    "---\n",
    "# Label Binarizer Encoder"
   ]
  },
  {
   "cell_type": "code",
   "execution_count": null,
   "metadata": {},
   "outputs": [],
   "source": [
    "bina_dict = defaultdict(LabelBinarizer)\n",
    "df_bina = pd.DataFrame()\n",
    "\n",
    "for column in df_rencoded.columns:\n",
    "    X = bina_dict[column].fit_transform(df_rencoded[column].values)\n",
    "    bina_column = ([column + '_' + str(x) for x in range(X.shape[1])])\n",
    "    new_bina = pd.DataFrame(X, columns=bina_column)\n",
    "    df_bina = pd.concat([df_bina, new_bina], axis=1)\n",
    "    \n",
    "df_bina"
   ]
  },
  {
   "cell_type": "code",
   "execution_count": null,
   "metadata": {},
   "outputs": [],
   "source": [
    "x = bina_dict['col1']"
   ]
  },
  {
   "cell_type": "code",
   "execution_count": null,
   "metadata": {},
   "outputs": [],
   "source": [
    "x.classes_"
   ]
  },
  {
   "cell_type": "markdown",
   "metadata": {},
   "source": [
    "# Bonus"
   ]
  },
  {
   "cell_type": "code",
   "execution_count": null,
   "metadata": {},
   "outputs": [],
   "source": [
    "# custome helper function to encode your categorical data\n",
    "def cust_label_binarizer():\n",
    "    pass"
   ]
  },
  {
   "cell_type": "markdown",
   "metadata": {},
   "source": [
    "# Sources:"
   ]
  },
  {
   "cell_type": "markdown",
   "metadata": {},
   "source": [
    "1. http://www.insightsbot.com/blog/McTKK/python-one-hot-encoding-with-scikit-learn"
   ]
  },
  {
   "cell_type": "code",
   "execution_count": null,
   "metadata": {},
   "outputs": [],
   "source": []
  }
 ],
 "metadata": {
  "kernelspec": {
   "display_name": "Python 3",
   "language": "python",
   "name": "python3"
  },
  "language_info": {
   "codemirror_mode": {
    "name": "ipython",
    "version": 3
   },
   "file_extension": ".py",
   "mimetype": "text/x-python",
   "name": "python",
   "nbconvert_exporter": "python",
   "pygments_lexer": "ipython3",
   "version": "3.7.0"
  }
 },
 "nbformat": 4,
 "nbformat_minor": 2
}
