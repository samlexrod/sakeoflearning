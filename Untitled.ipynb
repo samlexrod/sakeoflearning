{
 "cells": [
  {
   "cell_type": "code",
   "execution_count": null,
   "metadata": {},
   "outputs": [],
   "source": [
    "param_grid = {\n",
    "    'volume_drop_pct':[.10, .20, .30, .40],\n",
    "    'volume_pct_trend':['short-drop', 'cosign-drop', 'step-drop', 'sharp-drop'],\n",
    "    'volume_pct_period':[1, 2, 3, 4]\n",
    "}\n",
    "\n",
    "def Roar:\n",
    "    def __init__(dataset, param_grid):\n",
    "        pass"
   ]
  },
  {
   "cell_type": "code",
   "execution_count": null,
   "metadata": {},
   "outputs": [],
   "source": []
  }
 ],
 "metadata": {
  "kernelspec": {
   "display_name": "Python 3",
   "language": "python",
   "name": "python3"
  },
  "language_info": {
   "codemirror_mode": {
    "name": "ipython",
    "version": 3
   },
   "file_extension": ".py",
   "mimetype": "text/x-python",
   "name": "python",
   "nbconvert_exporter": "python",
   "pygments_lexer": "ipython3",
   "version": "3.7.3"
  }
 },
 "nbformat": 4,
 "nbformat_minor": 4
}
